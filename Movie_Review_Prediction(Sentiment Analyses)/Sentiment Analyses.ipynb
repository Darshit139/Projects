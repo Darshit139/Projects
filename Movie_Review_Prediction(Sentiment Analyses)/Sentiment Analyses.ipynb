{
 "cells": [
  {
   "cell_type": "code",
   "execution_count": 110,
   "id": "d51accb7",
   "metadata": {},
   "outputs": [],
   "source": [
    "import pandas as pd\n",
    "import re\n",
    "import nltk\n",
    "import numpy as np\n",
    "from nltk.corpus import stopwords\n",
    "from nltk.stem.porter import PorterStemmer\n",
    "from sklearn.feature_extraction.text import CountVectorizer\n",
    "from sklearn.model_selection import train_test_split\n",
    "from sklearn.naive_bayes import GaussianNB,MultinomialNB,BernoulliNB"
   ]
  },
  {
   "cell_type": "code",
   "execution_count": 66,
   "id": "99f2b1ee",
   "metadata": {},
   "outputs": [],
   "source": [
    "data = pd.read_csv('IMDB Dataset.csv')"
   ]
  },
  {
   "cell_type": "code",
   "execution_count": 67,
   "id": "8f9b814d",
   "metadata": {},
   "outputs": [
    {
     "data": {
      "text/html": [
       "<div>\n",
       "<style scoped>\n",
       "    .dataframe tbody tr th:only-of-type {\n",
       "        vertical-align: middle;\n",
       "    }\n",
       "\n",
       "    .dataframe tbody tr th {\n",
       "        vertical-align: top;\n",
       "    }\n",
       "\n",
       "    .dataframe thead th {\n",
       "        text-align: right;\n",
       "    }\n",
       "</style>\n",
       "<table border=\"1\" class=\"dataframe\">\n",
       "  <thead>\n",
       "    <tr style=\"text-align: right;\">\n",
       "      <th></th>\n",
       "      <th>review</th>\n",
       "      <th>sentiment</th>\n",
       "    </tr>\n",
       "  </thead>\n",
       "  <tbody>\n",
       "    <tr>\n",
       "      <th>0</th>\n",
       "      <td>One of the other reviewers has mentioned that ...</td>\n",
       "      <td>positive</td>\n",
       "    </tr>\n",
       "    <tr>\n",
       "      <th>1</th>\n",
       "      <td>A wonderful little production. &lt;br /&gt;&lt;br /&gt;The...</td>\n",
       "      <td>positive</td>\n",
       "    </tr>\n",
       "    <tr>\n",
       "      <th>2</th>\n",
       "      <td>I thought this was a wonderful way to spend ti...</td>\n",
       "      <td>positive</td>\n",
       "    </tr>\n",
       "    <tr>\n",
       "      <th>3</th>\n",
       "      <td>Basically there's a family where a little boy ...</td>\n",
       "      <td>negative</td>\n",
       "    </tr>\n",
       "    <tr>\n",
       "      <th>4</th>\n",
       "      <td>Petter Mattei's \"Love in the Time of Money\" is...</td>\n",
       "      <td>positive</td>\n",
       "    </tr>\n",
       "  </tbody>\n",
       "</table>\n",
       "</div>"
      ],
      "text/plain": [
       "                                              review sentiment\n",
       "0  One of the other reviewers has mentioned that ...  positive\n",
       "1  A wonderful little production. <br /><br />The...  positive\n",
       "2  I thought this was a wonderful way to spend ti...  positive\n",
       "3  Basically there's a family where a little boy ...  negative\n",
       "4  Petter Mattei's \"Love in the Time of Money\" is...  positive"
      ]
     },
     "execution_count": 67,
     "metadata": {},
     "output_type": "execute_result"
    }
   ],
   "source": [
    "data.head()"
   ]
  },
  {
   "cell_type": "code",
   "execution_count": 68,
   "id": "533a0e8d",
   "metadata": {},
   "outputs": [],
   "source": [
    "data = data.sample(10000)"
   ]
  },
  {
   "cell_type": "code",
   "execution_count": 69,
   "id": "9dc7d911",
   "metadata": {},
   "outputs": [],
   "source": [
    "data['sentiment'] = data['sentiment'].replace({'positive':1,'negative':0})"
   ]
  },
  {
   "cell_type": "code",
   "execution_count": 70,
   "id": "fd179465",
   "metadata": {},
   "outputs": [
    {
     "data": {
      "text/html": [
       "<div>\n",
       "<style scoped>\n",
       "    .dataframe tbody tr th:only-of-type {\n",
       "        vertical-align: middle;\n",
       "    }\n",
       "\n",
       "    .dataframe tbody tr th {\n",
       "        vertical-align: top;\n",
       "    }\n",
       "\n",
       "    .dataframe thead th {\n",
       "        text-align: right;\n",
       "    }\n",
       "</style>\n",
       "<table border=\"1\" class=\"dataframe\">\n",
       "  <thead>\n",
       "    <tr style=\"text-align: right;\">\n",
       "      <th></th>\n",
       "      <th>review</th>\n",
       "      <th>sentiment</th>\n",
       "    </tr>\n",
       "  </thead>\n",
       "  <tbody>\n",
       "    <tr>\n",
       "      <th>12443</th>\n",
       "      <td>This film was more effective in persuading me ...</td>\n",
       "      <td>0</td>\n",
       "    </tr>\n",
       "    <tr>\n",
       "      <th>47403</th>\n",
       "      <td>If this is the first of the \"Nemesis\" films th...</td>\n",
       "      <td>0</td>\n",
       "    </tr>\n",
       "    <tr>\n",
       "      <th>17251</th>\n",
       "      <td>\"Campfire Tales\" is basically made up of three...</td>\n",
       "      <td>1</td>\n",
       "    </tr>\n",
       "    <tr>\n",
       "      <th>9248</th>\n",
       "      <td>I had initially heard of TEARS OF KALI a while...</td>\n",
       "      <td>1</td>\n",
       "    </tr>\n",
       "    <tr>\n",
       "      <th>40054</th>\n",
       "      <td>There seems to be an overwhelming response to ...</td>\n",
       "      <td>0</td>\n",
       "    </tr>\n",
       "  </tbody>\n",
       "</table>\n",
       "</div>"
      ],
      "text/plain": [
       "                                                  review  sentiment\n",
       "12443  This film was more effective in persuading me ...          0\n",
       "47403  If this is the first of the \"Nemesis\" films th...          0\n",
       "17251  \"Campfire Tales\" is basically made up of three...          1\n",
       "9248   I had initially heard of TEARS OF KALI a while...          1\n",
       "40054  There seems to be an overwhelming response to ...          0"
      ]
     },
     "execution_count": 70,
     "metadata": {},
     "output_type": "execute_result"
    }
   ],
   "source": [
    "data.head()"
   ]
  },
  {
   "cell_type": "code",
   "execution_count": 72,
   "id": "fedf75b1",
   "metadata": {},
   "outputs": [],
   "source": [
    "def fun1(text):\n",
    "    clean = re.compile('<.*?>')\n",
    "    return re.sub(clean,'',text)"
   ]
  },
  {
   "cell_type": "code",
   "execution_count": 73,
   "id": "98149d43",
   "metadata": {},
   "outputs": [],
   "source": [
    "data['review'] = data['review'].apply(fun1)"
   ]
  },
  {
   "cell_type": "code",
   "execution_count": 74,
   "id": "94af65bf",
   "metadata": {},
   "outputs": [],
   "source": [
    "def fun2(text):\n",
    "    return text.lower()"
   ]
  },
  {
   "cell_type": "code",
   "execution_count": 75,
   "id": "27b01d21",
   "metadata": {},
   "outputs": [],
   "source": [
    "data['review'] = data['review'].apply(fun2)"
   ]
  },
  {
   "cell_type": "code",
   "execution_count": 82,
   "id": "e81e6e16",
   "metadata": {},
   "outputs": [],
   "source": [
    "def fun3(text):\n",
    "    x = ''\n",
    "    \n",
    "    for i in text:\n",
    "        if i.isalnum() or i.isspace():\n",
    "            x = x+i\n",
    "        else:\n",
    "            x = x + ''\n",
    "    return x        "
   ]
  },
  {
   "cell_type": "code",
   "execution_count": 77,
   "id": "033bf7d2",
   "metadata": {},
   "outputs": [],
   "source": [
    "data['review'] = data['review'].apply(fun3)"
   ]
  },
  {
   "cell_type": "code",
   "execution_count": 78,
   "id": "da89610c",
   "metadata": {},
   "outputs": [
    {
     "data": {
      "text/plain": [
       "12443    this film was more effective in persuading me ...\n",
       "47403    if this is the first of the nemesis films that...\n",
       "17251    campfire tales is basically made up of three s...\n",
       "9248     i had initially heard of tears of kali a while...\n",
       "40054    there seems to be an overwhelming response to ...\n",
       "                               ...                        \n",
       "32913    this along with hare tonic ranks as one of the...\n",
       "25908    this film definitely gets a thumbs up from me ...\n",
       "42699    this movie is about the crew of a spaceship wh...\n",
       "27979    i have a letter from ms knight who went to col...\n",
       "31609    the stone boy is an almost forgotten drama fro...\n",
       "Name: review, Length: 10000, dtype: object"
      ]
     },
     "execution_count": 78,
     "metadata": {},
     "output_type": "execute_result"
    }
   ],
   "source": [
    "data['review']"
   ]
  },
  {
   "cell_type": "code",
   "execution_count": 89,
   "id": "2ec9bc29",
   "metadata": {},
   "outputs": [],
   "source": [
    "sw = stopwords.words('english')"
   ]
  },
  {
   "cell_type": "code",
   "execution_count": 92,
   "id": "6626bd6e",
   "metadata": {},
   "outputs": [],
   "source": [
    "def fun4(text):\n",
    "    x = []\n",
    "    \n",
    "    for i in text.split():\n",
    "        \n",
    "        if i not in sw:\n",
    "            x.append(i)\n",
    "    y = x[:]\n",
    "    x.clear()\n",
    "    \n",
    "    return y"
   ]
  },
  {
   "cell_type": "code",
   "execution_count": 99,
   "id": "8b880229",
   "metadata": {},
   "outputs": [],
   "source": [
    "data['review'] = data['review'].apply(fun4)"
   ]
  },
  {
   "cell_type": "code",
   "execution_count": 96,
   "id": "942f37ab",
   "metadata": {},
   "outputs": [],
   "source": [
    "ps = PorterStemmer()"
   ]
  },
  {
   "cell_type": "code",
   "execution_count": 97,
   "id": "8ffd437d",
   "metadata": {},
   "outputs": [],
   "source": [
    "y = []\n",
    "def fun5(text):\n",
    "    for i in text:\n",
    "        y.append(ps.stem(i))\n",
    "    z = y[:]\n",
    "    y.clear()\n",
    "    \n",
    "    return z"
   ]
  },
  {
   "cell_type": "code",
   "execution_count": null,
   "id": "a8da7914",
   "metadata": {},
   "outputs": [],
   "source": [
    "data['review'] = data['review'].apply(fun5)"
   ]
  },
  {
   "cell_type": "code",
   "execution_count": 100,
   "id": "6a7b6e53",
   "metadata": {},
   "outputs": [],
   "source": [
    "def fun6(text):\n",
    "    return ' '.join(text)"
   ]
  },
  {
   "cell_type": "code",
   "execution_count": 101,
   "id": "fdab1729",
   "metadata": {},
   "outputs": [],
   "source": [
    "data['review'] = data['review'].apply(fun6)"
   ]
  },
  {
   "cell_type": "code",
   "execution_count": 117,
   "id": "014cdc67",
   "metadata": {},
   "outputs": [],
   "source": [
    "x = data['review']\n",
    "y = data['sentiment']"
   ]
  },
  {
   "cell_type": "code",
   "execution_count": 118,
   "id": "bd9a656a",
   "metadata": {},
   "outputs": [],
   "source": [
    "cv = CountVectorizer()"
   ]
  },
  {
   "cell_type": "code",
   "execution_count": 119,
   "id": "961e80d8",
   "metadata": {},
   "outputs": [],
   "source": [
    "x = cv.fit_transform(x).toarray() "
   ]
  },
  {
   "cell_type": "code",
   "execution_count": 121,
   "id": "84559621",
   "metadata": {},
   "outputs": [
    {
     "data": {
      "text/plain": [
       "array([[0, 0, 0, ..., 0, 0, 0],\n",
       "       [0, 0, 0, ..., 0, 0, 0],\n",
       "       [0, 0, 0, ..., 0, 0, 0],\n",
       "       [0, 0, 0, ..., 0, 0, 0],\n",
       "       [0, 0, 0, ..., 0, 0, 0]], dtype=int64)"
      ]
     },
     "execution_count": 121,
     "metadata": {},
     "output_type": "execute_result"
    }
   ],
   "source": [
    "x[:5]"
   ]
  },
  {
   "cell_type": "code",
   "execution_count": 122,
   "id": "9b824d21",
   "metadata": {},
   "outputs": [],
   "source": [
    "x_train,x_test,y_train,y_test = train_test_split(x,y,random_state=42,test_size=0.2)"
   ]
  },
  {
   "cell_type": "code",
   "execution_count": 123,
   "id": "252bb793",
   "metadata": {},
   "outputs": [
    {
     "data": {
      "text/plain": [
       "(8000, 63727)"
      ]
     },
     "execution_count": 123,
     "metadata": {},
     "output_type": "execute_result"
    }
   ],
   "source": [
    "x_train.shape"
   ]
  },
  {
   "cell_type": "code",
   "execution_count": 124,
   "id": "f9804126",
   "metadata": {},
   "outputs": [],
   "source": [
    "m1 = GaussianNB()\n",
    "m2 = MultinomialNB()\n",
    "m3 = BernoulliNB()"
   ]
  },
  {
   "cell_type": "code",
   "execution_count": null,
   "id": "fd843173",
   "metadata": {},
   "outputs": [],
   "source": [
    "m1.fit(x_train,y_train)"
   ]
  },
  {
   "cell_type": "code",
   "execution_count": null,
   "id": "06d26483",
   "metadata": {},
   "outputs": [],
   "source": []
  }
 ],
 "metadata": {
  "kernelspec": {
   "display_name": "Python 3 (ipykernel)",
   "language": "python",
   "name": "python3"
  },
  "language_info": {
   "codemirror_mode": {
    "name": "ipython",
    "version": 3
   },
   "file_extension": ".py",
   "mimetype": "text/x-python",
   "name": "python",
   "nbconvert_exporter": "python",
   "pygments_lexer": "ipython3",
   "version": "3.11.4"
  }
 },
 "nbformat": 4,
 "nbformat_minor": 5
}
