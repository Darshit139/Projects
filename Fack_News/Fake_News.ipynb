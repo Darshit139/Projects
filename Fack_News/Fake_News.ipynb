{
 "cells": [
  {
   "cell_type": "code",
   "execution_count": 54,
   "id": "0e9be989",
   "metadata": {},
   "outputs": [],
   "source": [
    "import pandas as pd\n",
    "import numpy as np\n",
    "import nltk\n",
    "from nltk import word_tokenize,sent_tokenize\n",
    "from nltk.corpus import stopwords\n",
    "import re\n",
    "import gensim\n",
    "from gensim.utils import simple_preprocess\n",
    "from nltk.stem import WordNetLemmatizer\n",
    "from sklearn.model_selection import train_test_split\n",
    "from sklearn.feature_extraction.text import CountVectorizer,TfidfVectorizer\n",
    "from sklearn.naive_bayes import MultinomialNB\n",
    "from sklearn.metrics import confusion_matrix,accuracy_score\n",
    "import tensorflow as tf\n",
    "from tensorflow.keras.models import Sequential\n",
    "from tensorflow.keras.layers import Embedding, LSTM, Dense\n",
    "from tqdm import tqdm\n",
    "from tensorflow import keras"
   ]
  },
  {
   "cell_type": "code",
   "execution_count": 2,
   "id": "a35db256",
   "metadata": {},
   "outputs": [],
   "source": [
    "stemmer = WordNetLemmatizer()\n",
    "sw = stopwords.words('english')"
   ]
  },
  {
   "cell_type": "code",
   "execution_count": 3,
   "id": "448d7063",
   "metadata": {},
   "outputs": [],
   "source": [
    "data = pd.read_csv('train.csv').drop(columns=['id','title','author'])"
   ]
  },
  {
   "cell_type": "code",
   "execution_count": 4,
   "id": "e122df0a",
   "metadata": {},
   "outputs": [
    {
     "data": {
      "text/html": [
       "<div>\n",
       "<style scoped>\n",
       "    .dataframe tbody tr th:only-of-type {\n",
       "        vertical-align: middle;\n",
       "    }\n",
       "\n",
       "    .dataframe tbody tr th {\n",
       "        vertical-align: top;\n",
       "    }\n",
       "\n",
       "    .dataframe thead th {\n",
       "        text-align: right;\n",
       "    }\n",
       "</style>\n",
       "<table border=\"1\" class=\"dataframe\">\n",
       "  <thead>\n",
       "    <tr style=\"text-align: right;\">\n",
       "      <th></th>\n",
       "      <th>text</th>\n",
       "      <th>label</th>\n",
       "    </tr>\n",
       "  </thead>\n",
       "  <tbody>\n",
       "    <tr>\n",
       "      <th>0</th>\n",
       "      <td>House Dem Aide: We Didn’t Even See Comey’s Let...</td>\n",
       "      <td>1</td>\n",
       "    </tr>\n",
       "    <tr>\n",
       "      <th>1</th>\n",
       "      <td>Ever get the feeling your life circles the rou...</td>\n",
       "      <td>0</td>\n",
       "    </tr>\n",
       "    <tr>\n",
       "      <th>2</th>\n",
       "      <td>Why the Truth Might Get You Fired October 29, ...</td>\n",
       "      <td>1</td>\n",
       "    </tr>\n",
       "    <tr>\n",
       "      <th>3</th>\n",
       "      <td>Videos 15 Civilians Killed In Single US Airstr...</td>\n",
       "      <td>1</td>\n",
       "    </tr>\n",
       "    <tr>\n",
       "      <th>4</th>\n",
       "      <td>Print \\nAn Iranian woman has been sentenced to...</td>\n",
       "      <td>1</td>\n",
       "    </tr>\n",
       "  </tbody>\n",
       "</table>\n",
       "</div>"
      ],
      "text/plain": [
       "                                                text  label\n",
       "0  House Dem Aide: We Didn’t Even See Comey’s Let...      1\n",
       "1  Ever get the feeling your life circles the rou...      0\n",
       "2  Why the Truth Might Get You Fired October 29, ...      1\n",
       "3  Videos 15 Civilians Killed In Single US Airstr...      1\n",
       "4  Print \\nAn Iranian woman has been sentenced to...      1"
      ]
     },
     "execution_count": 4,
     "metadata": {},
     "output_type": "execute_result"
    }
   ],
   "source": [
    "data.head()"
   ]
  },
  {
   "cell_type": "code",
   "execution_count": 5,
   "id": "cc5eb98a",
   "metadata": {},
   "outputs": [
    {
     "data": {
      "text/plain": [
       "(20800, 2)"
      ]
     },
     "execution_count": 5,
     "metadata": {},
     "output_type": "execute_result"
    }
   ],
   "source": [
    "data.shape"
   ]
  },
  {
   "cell_type": "code",
   "execution_count": 6,
   "id": "ea38cada",
   "metadata": {},
   "outputs": [
    {
     "data": {
      "text/plain": [
       "text     39\n",
       "label     0\n",
       "dtype: int64"
      ]
     },
     "execution_count": 6,
     "metadata": {},
     "output_type": "execute_result"
    }
   ],
   "source": [
    "data.isnull().sum()"
   ]
  },
  {
   "cell_type": "code",
   "execution_count": 7,
   "id": "7d4bfae0",
   "metadata": {},
   "outputs": [],
   "source": [
    "data.dropna(inplace=True)"
   ]
  },
  {
   "cell_type": "code",
   "execution_count": 8,
   "id": "ff1646d0",
   "metadata": {},
   "outputs": [],
   "source": [
    "def preprocess(x):\n",
    "    \n",
    "    # x = '' if pd.isna(x) else x # apply this only you have missing values in data\n",
    "    # Replacing Spacial Charactors\n",
    "    text = re.sub(r'\\W',' ',x)\n",
    "    \n",
    "    # Replacing Other words like .,__ etc...\n",
    "    text = re.sub(r'[^a-zA-Z0-9]',' ',x)\n",
    "    # Replacing all single Charactors\n",
    "    text = re.sub(r'\\s+[a-zA-Z]\\s+',' ',text)\n",
    "    \n",
    "    # Replacing single Charactors from start\n",
    "    text = re.sub(r'\\^[a-zA-Z]\\s+',' ',text)\n",
    "    \n",
    "    # Replacing Multiple space into single space\n",
    "    text = re.sub(r'\\s+',' ',text,flags=re.I) \n",
    "    \n",
    "    text = text.lower().split()\n",
    "    \n",
    "    text = [stemmer.lemmatize(i) for i in text if i not in sw]\n",
    "    \n",
    "    text = ' '.join(text)\n",
    "    \n",
    "    return text"
   ]
  },
  {
   "cell_type": "code",
   "execution_count": 9,
   "id": "c77fa5f1",
   "metadata": {},
   "outputs": [],
   "source": [
    "data.text = data.text.apply(preprocess)"
   ]
  },
  {
   "cell_type": "code",
   "execution_count": 10,
   "id": "d281df6d",
   "metadata": {},
   "outputs": [
    {
     "data": {
      "text/html": [
       "<div>\n",
       "<style scoped>\n",
       "    .dataframe tbody tr th:only-of-type {\n",
       "        vertical-align: middle;\n",
       "    }\n",
       "\n",
       "    .dataframe tbody tr th {\n",
       "        vertical-align: top;\n",
       "    }\n",
       "\n",
       "    .dataframe thead th {\n",
       "        text-align: right;\n",
       "    }\n",
       "</style>\n",
       "<table border=\"1\" class=\"dataframe\">\n",
       "  <thead>\n",
       "    <tr style=\"text-align: right;\">\n",
       "      <th></th>\n",
       "      <th>text</th>\n",
       "      <th>label</th>\n",
       "    </tr>\n",
       "  </thead>\n",
       "  <tbody>\n",
       "    <tr>\n",
       "      <th>0</th>\n",
       "      <td>house dem aide even see comey letter jason cha...</td>\n",
       "      <td>1</td>\n",
       "    </tr>\n",
       "    <tr>\n",
       "      <th>1</th>\n",
       "      <td>ever get feeling life circle roundabout rather...</td>\n",
       "      <td>0</td>\n",
       "    </tr>\n",
       "    <tr>\n",
       "      <th>2</th>\n",
       "      <td>truth might get fired october 29 2016 tension ...</td>\n",
       "      <td>1</td>\n",
       "    </tr>\n",
       "  </tbody>\n",
       "</table>\n",
       "</div>"
      ],
      "text/plain": [
       "                                                text  label\n",
       "0  house dem aide even see comey letter jason cha...      1\n",
       "1  ever get feeling life circle roundabout rather...      0\n",
       "2  truth might get fired october 29 2016 tension ...      1"
      ]
     },
     "execution_count": 10,
     "metadata": {},
     "output_type": "execute_result"
    }
   ],
   "source": [
    "data.head(3)"
   ]
  },
  {
   "cell_type": "code",
   "execution_count": 11,
   "id": "b75677c9",
   "metadata": {},
   "outputs": [],
   "source": [
    "x_train,x_test,y_train,y_test = train_test_split(data.text,data.label,random_state=42,test_size=0.2)"
   ]
  },
  {
   "cell_type": "code",
   "execution_count": 12,
   "id": "bb4a1e02",
   "metadata": {},
   "outputs": [
    {
     "data": {
      "text/plain": [
       "8252     burlingame calif populous state nation preside...\n",
       "11551    larry colburn became american hero intervened ...\n",
       "10003    graphic clinton v trump donkeyhotey paul jay i...\n",
       "11305    chart day bond vigilante back ust yield 65bps ...\n",
       "17747    istanbul lawmaker president recep tayyip erdog...\n",
       "                               ...                        \n",
       "11307    islamic state back another video even depraved...\n",
       "11989    post originally published site first appeared ...\n",
       "5401     sent thursday october 1 2015 7 20 pm robby moo...\n",
       "862      aboard wavertree kill van kull 131 year since ...\n",
       "15828    archive michael television barack obama delay ...\n",
       "Name: text, Length: 16608, dtype: object"
      ]
     },
     "execution_count": 12,
     "metadata": {},
     "output_type": "execute_result"
    }
   ],
   "source": [
    "x_train"
   ]
  },
  {
   "cell_type": "markdown",
   "id": "4a691e53",
   "metadata": {},
   "source": [
    "## Using CountVector"
   ]
  },
  {
   "cell_type": "code",
   "execution_count": 13,
   "id": "7535c8b9",
   "metadata": {},
   "outputs": [],
   "source": [
    "cv = CountVectorizer(max_features=10000,min_df=5,max_df=0.7,stop_words=stopwords.words('english'))"
   ]
  },
  {
   "cell_type": "code",
   "execution_count": 14,
   "id": "f3565d1c",
   "metadata": {},
   "outputs": [],
   "source": [
    "cv_x_train = cv.fit_transform(x_train)\n",
    "cv_x_test = cv.transform(x_test)"
   ]
  },
  {
   "cell_type": "code",
   "execution_count": 15,
   "id": "cd520054",
   "metadata": {},
   "outputs": [],
   "source": [
    "cv_x_train = cv_x_train.toarray()\n",
    "cv_x_test = cv_x_test.toarray()"
   ]
  },
  {
   "cell_type": "code",
   "execution_count": 16,
   "id": "7cd8b1bf",
   "metadata": {},
   "outputs": [
    {
     "data": {
      "text/plain": [
       "(16608, 10000)"
      ]
     },
     "execution_count": 16,
     "metadata": {},
     "output_type": "execute_result"
    }
   ],
   "source": [
    "cv_x_train.shape"
   ]
  },
  {
   "cell_type": "code",
   "execution_count": 17,
   "id": "8a16bf87",
   "metadata": {},
   "outputs": [
    {
     "data": {
      "text/plain": [
       "array(['00', '000', '01', '02', '03', '04', '05', '07', '08', '09', '10',\n",
       "       '100', '1000', '10th', '11', '110', '11th', '12', '120', '125',\n",
       "       '13', '130', '14', '140', '14th', '15', '150', '15th', '16', '160',\n",
       "       '16th', '17', '170', '18', '180', '18th', '19', '1930s', '1938',\n",
       "       '1941', '1945', '1947', '1948', '1949', '1950', '1950s', '1956',\n",
       "       '1960', '1960s', '1962', '1963', '1964', '1965', '1966', '1967',\n",
       "       '1968', '1969', '1970', '1970s', '1971', '1972', '1973', '1974',\n",
       "       '1975', '1976', '1977', '1978', '1979', '1980', '1980s', '1981',\n",
       "       '1982', '1983', '1984', '1985', '1986', '1987', '1988', '1989',\n",
       "       '1990', '1990s', '1991', '1992', '1993', '1994', '1995', '1996',\n",
       "       '1997', '1998', '1999', '19th', '1st', '20', '200', '2000',\n",
       "       '2000s', '2001', '2002', '2003', '2004'], dtype=object)"
      ]
     },
     "execution_count": 17,
     "metadata": {},
     "output_type": "execute_result"
    }
   ],
   "source": [
    "cv.get_feature_names_out()[:100]"
   ]
  },
  {
   "cell_type": "code",
   "execution_count": 18,
   "id": "876c0366",
   "metadata": {},
   "outputs": [
    {
     "data": {
      "text/html": [
       "<div>\n",
       "<style scoped>\n",
       "    .dataframe tbody tr th:only-of-type {\n",
       "        vertical-align: middle;\n",
       "    }\n",
       "\n",
       "    .dataframe tbody tr th {\n",
       "        vertical-align: top;\n",
       "    }\n",
       "\n",
       "    .dataframe thead th {\n",
       "        text-align: right;\n",
       "    }\n",
       "</style>\n",
       "<table border=\"1\" class=\"dataframe\">\n",
       "  <thead>\n",
       "    <tr style=\"text-align: right;\">\n",
       "      <th></th>\n",
       "      <th>00</th>\n",
       "      <th>000</th>\n",
       "      <th>01</th>\n",
       "      <th>02</th>\n",
       "      <th>03</th>\n",
       "      <th>04</th>\n",
       "      <th>05</th>\n",
       "      <th>07</th>\n",
       "      <th>08</th>\n",
       "      <th>09</th>\n",
       "      <th>...</th>\n",
       "      <th>zealand</th>\n",
       "      <th>zero</th>\n",
       "      <th>zika</th>\n",
       "      <th>zionist</th>\n",
       "      <th>zombie</th>\n",
       "      <th>zone</th>\n",
       "      <th>zoo</th>\n",
       "      <th>zu</th>\n",
       "      <th>zuckerberg</th>\n",
       "      <th>zulu</th>\n",
       "    </tr>\n",
       "  </thead>\n",
       "  <tbody>\n",
       "    <tr>\n",
       "      <th>0</th>\n",
       "      <td>0</td>\n",
       "      <td>0</td>\n",
       "      <td>0</td>\n",
       "      <td>0</td>\n",
       "      <td>0</td>\n",
       "      <td>0</td>\n",
       "      <td>0</td>\n",
       "      <td>0</td>\n",
       "      <td>0</td>\n",
       "      <td>0</td>\n",
       "      <td>...</td>\n",
       "      <td>0</td>\n",
       "      <td>0</td>\n",
       "      <td>0</td>\n",
       "      <td>0</td>\n",
       "      <td>0</td>\n",
       "      <td>0</td>\n",
       "      <td>0</td>\n",
       "      <td>0</td>\n",
       "      <td>0</td>\n",
       "      <td>0</td>\n",
       "    </tr>\n",
       "    <tr>\n",
       "      <th>1</th>\n",
       "      <td>0</td>\n",
       "      <td>1</td>\n",
       "      <td>0</td>\n",
       "      <td>0</td>\n",
       "      <td>0</td>\n",
       "      <td>0</td>\n",
       "      <td>0</td>\n",
       "      <td>0</td>\n",
       "      <td>0</td>\n",
       "      <td>0</td>\n",
       "      <td>...</td>\n",
       "      <td>0</td>\n",
       "      <td>0</td>\n",
       "      <td>0</td>\n",
       "      <td>0</td>\n",
       "      <td>0</td>\n",
       "      <td>0</td>\n",
       "      <td>0</td>\n",
       "      <td>0</td>\n",
       "      <td>0</td>\n",
       "      <td>0</td>\n",
       "    </tr>\n",
       "    <tr>\n",
       "      <th>2</th>\n",
       "      <td>0</td>\n",
       "      <td>0</td>\n",
       "      <td>0</td>\n",
       "      <td>0</td>\n",
       "      <td>0</td>\n",
       "      <td>0</td>\n",
       "      <td>0</td>\n",
       "      <td>0</td>\n",
       "      <td>0</td>\n",
       "      <td>0</td>\n",
       "      <td>...</td>\n",
       "      <td>0</td>\n",
       "      <td>0</td>\n",
       "      <td>0</td>\n",
       "      <td>0</td>\n",
       "      <td>1</td>\n",
       "      <td>0</td>\n",
       "      <td>0</td>\n",
       "      <td>0</td>\n",
       "      <td>0</td>\n",
       "      <td>0</td>\n",
       "    </tr>\n",
       "    <tr>\n",
       "      <th>3</th>\n",
       "      <td>0</td>\n",
       "      <td>0</td>\n",
       "      <td>0</td>\n",
       "      <td>0</td>\n",
       "      <td>0</td>\n",
       "      <td>0</td>\n",
       "      <td>0</td>\n",
       "      <td>0</td>\n",
       "      <td>0</td>\n",
       "      <td>0</td>\n",
       "      <td>...</td>\n",
       "      <td>0</td>\n",
       "      <td>0</td>\n",
       "      <td>0</td>\n",
       "      <td>0</td>\n",
       "      <td>0</td>\n",
       "      <td>0</td>\n",
       "      <td>0</td>\n",
       "      <td>0</td>\n",
       "      <td>0</td>\n",
       "      <td>0</td>\n",
       "    </tr>\n",
       "    <tr>\n",
       "      <th>4</th>\n",
       "      <td>0</td>\n",
       "      <td>0</td>\n",
       "      <td>0</td>\n",
       "      <td>0</td>\n",
       "      <td>0</td>\n",
       "      <td>0</td>\n",
       "      <td>0</td>\n",
       "      <td>0</td>\n",
       "      <td>0</td>\n",
       "      <td>0</td>\n",
       "      <td>...</td>\n",
       "      <td>0</td>\n",
       "      <td>0</td>\n",
       "      <td>0</td>\n",
       "      <td>0</td>\n",
       "      <td>0</td>\n",
       "      <td>0</td>\n",
       "      <td>0</td>\n",
       "      <td>0</td>\n",
       "      <td>0</td>\n",
       "      <td>0</td>\n",
       "    </tr>\n",
       "    <tr>\n",
       "      <th>...</th>\n",
       "      <td>...</td>\n",
       "      <td>...</td>\n",
       "      <td>...</td>\n",
       "      <td>...</td>\n",
       "      <td>...</td>\n",
       "      <td>...</td>\n",
       "      <td>...</td>\n",
       "      <td>...</td>\n",
       "      <td>...</td>\n",
       "      <td>...</td>\n",
       "      <td>...</td>\n",
       "      <td>...</td>\n",
       "      <td>...</td>\n",
       "      <td>...</td>\n",
       "      <td>...</td>\n",
       "      <td>...</td>\n",
       "      <td>...</td>\n",
       "      <td>...</td>\n",
       "      <td>...</td>\n",
       "      <td>...</td>\n",
       "      <td>...</td>\n",
       "    </tr>\n",
       "    <tr>\n",
       "      <th>16603</th>\n",
       "      <td>0</td>\n",
       "      <td>0</td>\n",
       "      <td>0</td>\n",
       "      <td>0</td>\n",
       "      <td>0</td>\n",
       "      <td>0</td>\n",
       "      <td>0</td>\n",
       "      <td>0</td>\n",
       "      <td>0</td>\n",
       "      <td>0</td>\n",
       "      <td>...</td>\n",
       "      <td>0</td>\n",
       "      <td>0</td>\n",
       "      <td>0</td>\n",
       "      <td>0</td>\n",
       "      <td>0</td>\n",
       "      <td>0</td>\n",
       "      <td>0</td>\n",
       "      <td>0</td>\n",
       "      <td>0</td>\n",
       "      <td>0</td>\n",
       "    </tr>\n",
       "    <tr>\n",
       "      <th>16604</th>\n",
       "      <td>0</td>\n",
       "      <td>0</td>\n",
       "      <td>0</td>\n",
       "      <td>0</td>\n",
       "      <td>0</td>\n",
       "      <td>0</td>\n",
       "      <td>0</td>\n",
       "      <td>0</td>\n",
       "      <td>3</td>\n",
       "      <td>0</td>\n",
       "      <td>...</td>\n",
       "      <td>0</td>\n",
       "      <td>0</td>\n",
       "      <td>0</td>\n",
       "      <td>0</td>\n",
       "      <td>0</td>\n",
       "      <td>1</td>\n",
       "      <td>0</td>\n",
       "      <td>0</td>\n",
       "      <td>0</td>\n",
       "      <td>0</td>\n",
       "    </tr>\n",
       "    <tr>\n",
       "      <th>16605</th>\n",
       "      <td>0</td>\n",
       "      <td>0</td>\n",
       "      <td>0</td>\n",
       "      <td>0</td>\n",
       "      <td>0</td>\n",
       "      <td>0</td>\n",
       "      <td>0</td>\n",
       "      <td>0</td>\n",
       "      <td>0</td>\n",
       "      <td>0</td>\n",
       "      <td>...</td>\n",
       "      <td>0</td>\n",
       "      <td>0</td>\n",
       "      <td>0</td>\n",
       "      <td>0</td>\n",
       "      <td>0</td>\n",
       "      <td>0</td>\n",
       "      <td>0</td>\n",
       "      <td>0</td>\n",
       "      <td>0</td>\n",
       "      <td>0</td>\n",
       "    </tr>\n",
       "    <tr>\n",
       "      <th>16606</th>\n",
       "      <td>0</td>\n",
       "      <td>0</td>\n",
       "      <td>0</td>\n",
       "      <td>0</td>\n",
       "      <td>0</td>\n",
       "      <td>0</td>\n",
       "      <td>0</td>\n",
       "      <td>0</td>\n",
       "      <td>0</td>\n",
       "      <td>0</td>\n",
       "      <td>...</td>\n",
       "      <td>0</td>\n",
       "      <td>0</td>\n",
       "      <td>0</td>\n",
       "      <td>0</td>\n",
       "      <td>0</td>\n",
       "      <td>0</td>\n",
       "      <td>0</td>\n",
       "      <td>0</td>\n",
       "      <td>0</td>\n",
       "      <td>0</td>\n",
       "    </tr>\n",
       "    <tr>\n",
       "      <th>16607</th>\n",
       "      <td>0</td>\n",
       "      <td>0</td>\n",
       "      <td>0</td>\n",
       "      <td>0</td>\n",
       "      <td>0</td>\n",
       "      <td>0</td>\n",
       "      <td>0</td>\n",
       "      <td>0</td>\n",
       "      <td>0</td>\n",
       "      <td>0</td>\n",
       "      <td>...</td>\n",
       "      <td>0</td>\n",
       "      <td>0</td>\n",
       "      <td>0</td>\n",
       "      <td>0</td>\n",
       "      <td>0</td>\n",
       "      <td>0</td>\n",
       "      <td>0</td>\n",
       "      <td>0</td>\n",
       "      <td>0</td>\n",
       "      <td>0</td>\n",
       "    </tr>\n",
       "  </tbody>\n",
       "</table>\n",
       "<p>16608 rows × 10000 columns</p>\n",
       "</div>"
      ],
      "text/plain": [
       "       00  000  01  02  03  04  05  07  08  09  ...  zealand  zero  zika  \\\n",
       "0       0    0   0   0   0   0   0   0   0   0  ...        0     0     0   \n",
       "1       0    1   0   0   0   0   0   0   0   0  ...        0     0     0   \n",
       "2       0    0   0   0   0   0   0   0   0   0  ...        0     0     0   \n",
       "3       0    0   0   0   0   0   0   0   0   0  ...        0     0     0   \n",
       "4       0    0   0   0   0   0   0   0   0   0  ...        0     0     0   \n",
       "...    ..  ...  ..  ..  ..  ..  ..  ..  ..  ..  ...      ...   ...   ...   \n",
       "16603   0    0   0   0   0   0   0   0   0   0  ...        0     0     0   \n",
       "16604   0    0   0   0   0   0   0   0   3   0  ...        0     0     0   \n",
       "16605   0    0   0   0   0   0   0   0   0   0  ...        0     0     0   \n",
       "16606   0    0   0   0   0   0   0   0   0   0  ...        0     0     0   \n",
       "16607   0    0   0   0   0   0   0   0   0   0  ...        0     0     0   \n",
       "\n",
       "       zionist  zombie  zone  zoo  zu  zuckerberg  zulu  \n",
       "0            0       0     0    0   0           0     0  \n",
       "1            0       0     0    0   0           0     0  \n",
       "2            0       1     0    0   0           0     0  \n",
       "3            0       0     0    0   0           0     0  \n",
       "4            0       0     0    0   0           0     0  \n",
       "...        ...     ...   ...  ...  ..         ...   ...  \n",
       "16603        0       0     0    0   0           0     0  \n",
       "16604        0       0     1    0   0           0     0  \n",
       "16605        0       0     0    0   0           0     0  \n",
       "16606        0       0     0    0   0           0     0  \n",
       "16607        0       0     0    0   0           0     0  \n",
       "\n",
       "[16608 rows x 10000 columns]"
      ]
     },
     "execution_count": 18,
     "metadata": {},
     "output_type": "execute_result"
    }
   ],
   "source": [
    "pd.DataFrame(cv_x_train,columns=cv.get_feature_names_out())"
   ]
  },
  {
   "cell_type": "markdown",
   "id": "423cc8fa",
   "metadata": {},
   "source": [
    "## Using TF-IDF"
   ]
  },
  {
   "cell_type": "code",
   "execution_count": 19,
   "id": "f4b04f73",
   "metadata": {},
   "outputs": [],
   "source": [
    "tf = TfidfVectorizer(max_features=10000,min_df=5,max_df=0.7,stop_words=stopwords.words('english'))"
   ]
  },
  {
   "cell_type": "code",
   "execution_count": 20,
   "id": "9091b0ec",
   "metadata": {},
   "outputs": [],
   "source": [
    "tf_x_train = tf.fit_transform(x_train)\n",
    "tf_x_test = tf.transform(x_test)"
   ]
  },
  {
   "cell_type": "code",
   "execution_count": 21,
   "id": "01e5a1ad",
   "metadata": {},
   "outputs": [],
   "source": [
    "tf_x_train = tf_x_train.toarray()\n",
    "tf_x_test = tf_x_test.toarray()"
   ]
  },
  {
   "cell_type": "code",
   "execution_count": 22,
   "id": "a96e29b5",
   "metadata": {},
   "outputs": [
    {
     "data": {
      "text/plain": [
       "(16608, 10000)"
      ]
     },
     "execution_count": 22,
     "metadata": {},
     "output_type": "execute_result"
    }
   ],
   "source": [
    "tf_x_train.shape"
   ]
  },
  {
   "cell_type": "code",
   "execution_count": 23,
   "id": "00cb15b6",
   "metadata": {},
   "outputs": [
    {
     "data": {
      "text/plain": [
       "array(['00', '000', '01', '02', '03', '04', '05', '07', '08', '09', '10',\n",
       "       '100', '1000', '10th', '11', '110', '11th', '12', '120', '125',\n",
       "       '13', '130', '14', '140', '14th', '15', '150', '15th', '16', '160',\n",
       "       '16th', '17', '170', '18', '180', '18th', '19', '1930s', '1938',\n",
       "       '1941', '1945', '1947', '1948', '1949', '1950', '1950s', '1956',\n",
       "       '1960', '1960s', '1962', '1963', '1964', '1965', '1966', '1967',\n",
       "       '1968', '1969', '1970', '1970s', '1971', '1972', '1973', '1974',\n",
       "       '1975', '1976', '1977', '1978', '1979', '1980', '1980s', '1981',\n",
       "       '1982', '1983', '1984', '1985', '1986', '1987', '1988', '1989',\n",
       "       '1990', '1990s', '1991', '1992', '1993', '1994', '1995', '1996',\n",
       "       '1997', '1998', '1999', '19th', '1st', '20', '200', '2000',\n",
       "       '2000s', '2001', '2002', '2003', '2004'], dtype=object)"
      ]
     },
     "execution_count": 23,
     "metadata": {},
     "output_type": "execute_result"
    }
   ],
   "source": [
    "tf.get_feature_names_out()[:100]"
   ]
  },
  {
   "cell_type": "code",
   "execution_count": 24,
   "id": "ee9ffa4d",
   "metadata": {},
   "outputs": [
    {
     "data": {
      "text/html": [
       "<div>\n",
       "<style scoped>\n",
       "    .dataframe tbody tr th:only-of-type {\n",
       "        vertical-align: middle;\n",
       "    }\n",
       "\n",
       "    .dataframe tbody tr th {\n",
       "        vertical-align: top;\n",
       "    }\n",
       "\n",
       "    .dataframe thead th {\n",
       "        text-align: right;\n",
       "    }\n",
       "</style>\n",
       "<table border=\"1\" class=\"dataframe\">\n",
       "  <thead>\n",
       "    <tr style=\"text-align: right;\">\n",
       "      <th></th>\n",
       "      <th>00</th>\n",
       "      <th>000</th>\n",
       "      <th>01</th>\n",
       "      <th>02</th>\n",
       "      <th>03</th>\n",
       "      <th>04</th>\n",
       "      <th>05</th>\n",
       "      <th>07</th>\n",
       "      <th>08</th>\n",
       "      <th>09</th>\n",
       "      <th>...</th>\n",
       "      <th>zealand</th>\n",
       "      <th>zero</th>\n",
       "      <th>zika</th>\n",
       "      <th>zionist</th>\n",
       "      <th>zombie</th>\n",
       "      <th>zone</th>\n",
       "      <th>zoo</th>\n",
       "      <th>zu</th>\n",
       "      <th>zuckerberg</th>\n",
       "      <th>zulu</th>\n",
       "    </tr>\n",
       "  </thead>\n",
       "  <tbody>\n",
       "    <tr>\n",
       "      <th>0</th>\n",
       "      <td>0.0</td>\n",
       "      <td>0.000000</td>\n",
       "      <td>0.0</td>\n",
       "      <td>0.0</td>\n",
       "      <td>0.0</td>\n",
       "      <td>0.0</td>\n",
       "      <td>0.0</td>\n",
       "      <td>0.0</td>\n",
       "      <td>0.000000</td>\n",
       "      <td>0.0</td>\n",
       "      <td>...</td>\n",
       "      <td>0.0</td>\n",
       "      <td>0.0</td>\n",
       "      <td>0.0</td>\n",
       "      <td>0.0</td>\n",
       "      <td>0.000000</td>\n",
       "      <td>0.000000</td>\n",
       "      <td>0.0</td>\n",
       "      <td>0.0</td>\n",
       "      <td>0.0</td>\n",
       "      <td>0.0</td>\n",
       "    </tr>\n",
       "    <tr>\n",
       "      <th>1</th>\n",
       "      <td>0.0</td>\n",
       "      <td>0.014817</td>\n",
       "      <td>0.0</td>\n",
       "      <td>0.0</td>\n",
       "      <td>0.0</td>\n",
       "      <td>0.0</td>\n",
       "      <td>0.0</td>\n",
       "      <td>0.0</td>\n",
       "      <td>0.000000</td>\n",
       "      <td>0.0</td>\n",
       "      <td>...</td>\n",
       "      <td>0.0</td>\n",
       "      <td>0.0</td>\n",
       "      <td>0.0</td>\n",
       "      <td>0.0</td>\n",
       "      <td>0.000000</td>\n",
       "      <td>0.000000</td>\n",
       "      <td>0.0</td>\n",
       "      <td>0.0</td>\n",
       "      <td>0.0</td>\n",
       "      <td>0.0</td>\n",
       "    </tr>\n",
       "    <tr>\n",
       "      <th>2</th>\n",
       "      <td>0.0</td>\n",
       "      <td>0.000000</td>\n",
       "      <td>0.0</td>\n",
       "      <td>0.0</td>\n",
       "      <td>0.0</td>\n",
       "      <td>0.0</td>\n",
       "      <td>0.0</td>\n",
       "      <td>0.0</td>\n",
       "      <td>0.000000</td>\n",
       "      <td>0.0</td>\n",
       "      <td>...</td>\n",
       "      <td>0.0</td>\n",
       "      <td>0.0</td>\n",
       "      <td>0.0</td>\n",
       "      <td>0.0</td>\n",
       "      <td>0.032196</td>\n",
       "      <td>0.000000</td>\n",
       "      <td>0.0</td>\n",
       "      <td>0.0</td>\n",
       "      <td>0.0</td>\n",
       "      <td>0.0</td>\n",
       "    </tr>\n",
       "    <tr>\n",
       "      <th>3</th>\n",
       "      <td>0.0</td>\n",
       "      <td>0.000000</td>\n",
       "      <td>0.0</td>\n",
       "      <td>0.0</td>\n",
       "      <td>0.0</td>\n",
       "      <td>0.0</td>\n",
       "      <td>0.0</td>\n",
       "      <td>0.0</td>\n",
       "      <td>0.000000</td>\n",
       "      <td>0.0</td>\n",
       "      <td>...</td>\n",
       "      <td>0.0</td>\n",
       "      <td>0.0</td>\n",
       "      <td>0.0</td>\n",
       "      <td>0.0</td>\n",
       "      <td>0.000000</td>\n",
       "      <td>0.000000</td>\n",
       "      <td>0.0</td>\n",
       "      <td>0.0</td>\n",
       "      <td>0.0</td>\n",
       "      <td>0.0</td>\n",
       "    </tr>\n",
       "    <tr>\n",
       "      <th>4</th>\n",
       "      <td>0.0</td>\n",
       "      <td>0.000000</td>\n",
       "      <td>0.0</td>\n",
       "      <td>0.0</td>\n",
       "      <td>0.0</td>\n",
       "      <td>0.0</td>\n",
       "      <td>0.0</td>\n",
       "      <td>0.0</td>\n",
       "      <td>0.000000</td>\n",
       "      <td>0.0</td>\n",
       "      <td>...</td>\n",
       "      <td>0.0</td>\n",
       "      <td>0.0</td>\n",
       "      <td>0.0</td>\n",
       "      <td>0.0</td>\n",
       "      <td>0.000000</td>\n",
       "      <td>0.000000</td>\n",
       "      <td>0.0</td>\n",
       "      <td>0.0</td>\n",
       "      <td>0.0</td>\n",
       "      <td>0.0</td>\n",
       "    </tr>\n",
       "    <tr>\n",
       "      <th>...</th>\n",
       "      <td>...</td>\n",
       "      <td>...</td>\n",
       "      <td>...</td>\n",
       "      <td>...</td>\n",
       "      <td>...</td>\n",
       "      <td>...</td>\n",
       "      <td>...</td>\n",
       "      <td>...</td>\n",
       "      <td>...</td>\n",
       "      <td>...</td>\n",
       "      <td>...</td>\n",
       "      <td>...</td>\n",
       "      <td>...</td>\n",
       "      <td>...</td>\n",
       "      <td>...</td>\n",
       "      <td>...</td>\n",
       "      <td>...</td>\n",
       "      <td>...</td>\n",
       "      <td>...</td>\n",
       "      <td>...</td>\n",
       "      <td>...</td>\n",
       "    </tr>\n",
       "    <tr>\n",
       "      <th>16603</th>\n",
       "      <td>0.0</td>\n",
       "      <td>0.000000</td>\n",
       "      <td>0.0</td>\n",
       "      <td>0.0</td>\n",
       "      <td>0.0</td>\n",
       "      <td>0.0</td>\n",
       "      <td>0.0</td>\n",
       "      <td>0.0</td>\n",
       "      <td>0.000000</td>\n",
       "      <td>0.0</td>\n",
       "      <td>...</td>\n",
       "      <td>0.0</td>\n",
       "      <td>0.0</td>\n",
       "      <td>0.0</td>\n",
       "      <td>0.0</td>\n",
       "      <td>0.000000</td>\n",
       "      <td>0.000000</td>\n",
       "      <td>0.0</td>\n",
       "      <td>0.0</td>\n",
       "      <td>0.0</td>\n",
       "      <td>0.0</td>\n",
       "    </tr>\n",
       "    <tr>\n",
       "      <th>16604</th>\n",
       "      <td>0.0</td>\n",
       "      <td>0.000000</td>\n",
       "      <td>0.0</td>\n",
       "      <td>0.0</td>\n",
       "      <td>0.0</td>\n",
       "      <td>0.0</td>\n",
       "      <td>0.0</td>\n",
       "      <td>0.0</td>\n",
       "      <td>0.094398</td>\n",
       "      <td>0.0</td>\n",
       "      <td>...</td>\n",
       "      <td>0.0</td>\n",
       "      <td>0.0</td>\n",
       "      <td>0.0</td>\n",
       "      <td>0.0</td>\n",
       "      <td>0.000000</td>\n",
       "      <td>0.022195</td>\n",
       "      <td>0.0</td>\n",
       "      <td>0.0</td>\n",
       "      <td>0.0</td>\n",
       "      <td>0.0</td>\n",
       "    </tr>\n",
       "    <tr>\n",
       "      <th>16605</th>\n",
       "      <td>0.0</td>\n",
       "      <td>0.000000</td>\n",
       "      <td>0.0</td>\n",
       "      <td>0.0</td>\n",
       "      <td>0.0</td>\n",
       "      <td>0.0</td>\n",
       "      <td>0.0</td>\n",
       "      <td>0.0</td>\n",
       "      <td>0.000000</td>\n",
       "      <td>0.0</td>\n",
       "      <td>...</td>\n",
       "      <td>0.0</td>\n",
       "      <td>0.0</td>\n",
       "      <td>0.0</td>\n",
       "      <td>0.0</td>\n",
       "      <td>0.000000</td>\n",
       "      <td>0.000000</td>\n",
       "      <td>0.0</td>\n",
       "      <td>0.0</td>\n",
       "      <td>0.0</td>\n",
       "      <td>0.0</td>\n",
       "    </tr>\n",
       "    <tr>\n",
       "      <th>16606</th>\n",
       "      <td>0.0</td>\n",
       "      <td>0.000000</td>\n",
       "      <td>0.0</td>\n",
       "      <td>0.0</td>\n",
       "      <td>0.0</td>\n",
       "      <td>0.0</td>\n",
       "      <td>0.0</td>\n",
       "      <td>0.0</td>\n",
       "      <td>0.000000</td>\n",
       "      <td>0.0</td>\n",
       "      <td>...</td>\n",
       "      <td>0.0</td>\n",
       "      <td>0.0</td>\n",
       "      <td>0.0</td>\n",
       "      <td>0.0</td>\n",
       "      <td>0.000000</td>\n",
       "      <td>0.000000</td>\n",
       "      <td>0.0</td>\n",
       "      <td>0.0</td>\n",
       "      <td>0.0</td>\n",
       "      <td>0.0</td>\n",
       "    </tr>\n",
       "    <tr>\n",
       "      <th>16607</th>\n",
       "      <td>0.0</td>\n",
       "      <td>0.000000</td>\n",
       "      <td>0.0</td>\n",
       "      <td>0.0</td>\n",
       "      <td>0.0</td>\n",
       "      <td>0.0</td>\n",
       "      <td>0.0</td>\n",
       "      <td>0.0</td>\n",
       "      <td>0.000000</td>\n",
       "      <td>0.0</td>\n",
       "      <td>...</td>\n",
       "      <td>0.0</td>\n",
       "      <td>0.0</td>\n",
       "      <td>0.0</td>\n",
       "      <td>0.0</td>\n",
       "      <td>0.000000</td>\n",
       "      <td>0.000000</td>\n",
       "      <td>0.0</td>\n",
       "      <td>0.0</td>\n",
       "      <td>0.0</td>\n",
       "      <td>0.0</td>\n",
       "    </tr>\n",
       "  </tbody>\n",
       "</table>\n",
       "<p>16608 rows × 10000 columns</p>\n",
       "</div>"
      ],
      "text/plain": [
       "        00       000   01   02   03   04   05   07        08   09  ...  \\\n",
       "0      0.0  0.000000  0.0  0.0  0.0  0.0  0.0  0.0  0.000000  0.0  ...   \n",
       "1      0.0  0.014817  0.0  0.0  0.0  0.0  0.0  0.0  0.000000  0.0  ...   \n",
       "2      0.0  0.000000  0.0  0.0  0.0  0.0  0.0  0.0  0.000000  0.0  ...   \n",
       "3      0.0  0.000000  0.0  0.0  0.0  0.0  0.0  0.0  0.000000  0.0  ...   \n",
       "4      0.0  0.000000  0.0  0.0  0.0  0.0  0.0  0.0  0.000000  0.0  ...   \n",
       "...    ...       ...  ...  ...  ...  ...  ...  ...       ...  ...  ...   \n",
       "16603  0.0  0.000000  0.0  0.0  0.0  0.0  0.0  0.0  0.000000  0.0  ...   \n",
       "16604  0.0  0.000000  0.0  0.0  0.0  0.0  0.0  0.0  0.094398  0.0  ...   \n",
       "16605  0.0  0.000000  0.0  0.0  0.0  0.0  0.0  0.0  0.000000  0.0  ...   \n",
       "16606  0.0  0.000000  0.0  0.0  0.0  0.0  0.0  0.0  0.000000  0.0  ...   \n",
       "16607  0.0  0.000000  0.0  0.0  0.0  0.0  0.0  0.0  0.000000  0.0  ...   \n",
       "\n",
       "       zealand  zero  zika  zionist    zombie      zone  zoo   zu  zuckerberg  \\\n",
       "0          0.0   0.0   0.0      0.0  0.000000  0.000000  0.0  0.0         0.0   \n",
       "1          0.0   0.0   0.0      0.0  0.000000  0.000000  0.0  0.0         0.0   \n",
       "2          0.0   0.0   0.0      0.0  0.032196  0.000000  0.0  0.0         0.0   \n",
       "3          0.0   0.0   0.0      0.0  0.000000  0.000000  0.0  0.0         0.0   \n",
       "4          0.0   0.0   0.0      0.0  0.000000  0.000000  0.0  0.0         0.0   \n",
       "...        ...   ...   ...      ...       ...       ...  ...  ...         ...   \n",
       "16603      0.0   0.0   0.0      0.0  0.000000  0.000000  0.0  0.0         0.0   \n",
       "16604      0.0   0.0   0.0      0.0  0.000000  0.022195  0.0  0.0         0.0   \n",
       "16605      0.0   0.0   0.0      0.0  0.000000  0.000000  0.0  0.0         0.0   \n",
       "16606      0.0   0.0   0.0      0.0  0.000000  0.000000  0.0  0.0         0.0   \n",
       "16607      0.0   0.0   0.0      0.0  0.000000  0.000000  0.0  0.0         0.0   \n",
       "\n",
       "       zulu  \n",
       "0       0.0  \n",
       "1       0.0  \n",
       "2       0.0  \n",
       "3       0.0  \n",
       "4       0.0  \n",
       "...     ...  \n",
       "16603   0.0  \n",
       "16604   0.0  \n",
       "16605   0.0  \n",
       "16606   0.0  \n",
       "16607   0.0  \n",
       "\n",
       "[16608 rows x 10000 columns]"
      ]
     },
     "execution_count": 24,
     "metadata": {},
     "output_type": "execute_result"
    }
   ],
   "source": [
    "pd.DataFrame(tf_x_train,columns=tf.get_feature_names_out())"
   ]
  },
  {
   "cell_type": "markdown",
   "id": "bc412602",
   "metadata": {},
   "source": [
    "## Models"
   ]
  },
  {
   "cell_type": "code",
   "execution_count": 35,
   "id": "3eb19f4e",
   "metadata": {},
   "outputs": [],
   "source": [
    "nv_model = MultinomialNB()"
   ]
  },
  {
   "cell_type": "code",
   "execution_count": 36,
   "id": "6bf1f531",
   "metadata": {},
   "outputs": [
    {
     "data": {
      "text/html": [
       "<style>#sk-container-id-2 {color: black;background-color: white;}#sk-container-id-2 pre{padding: 0;}#sk-container-id-2 div.sk-toggleable {background-color: white;}#sk-container-id-2 label.sk-toggleable__label {cursor: pointer;display: block;width: 100%;margin-bottom: 0;padding: 0.3em;box-sizing: border-box;text-align: center;}#sk-container-id-2 label.sk-toggleable__label-arrow:before {content: \"▸\";float: left;margin-right: 0.25em;color: #696969;}#sk-container-id-2 label.sk-toggleable__label-arrow:hover:before {color: black;}#sk-container-id-2 div.sk-estimator:hover label.sk-toggleable__label-arrow:before {color: black;}#sk-container-id-2 div.sk-toggleable__content {max-height: 0;max-width: 0;overflow: hidden;text-align: left;background-color: #f0f8ff;}#sk-container-id-2 div.sk-toggleable__content pre {margin: 0.2em;color: black;border-radius: 0.25em;background-color: #f0f8ff;}#sk-container-id-2 input.sk-toggleable__control:checked~div.sk-toggleable__content {max-height: 200px;max-width: 100%;overflow: auto;}#sk-container-id-2 input.sk-toggleable__control:checked~label.sk-toggleable__label-arrow:before {content: \"▾\";}#sk-container-id-2 div.sk-estimator input.sk-toggleable__control:checked~label.sk-toggleable__label {background-color: #d4ebff;}#sk-container-id-2 div.sk-label input.sk-toggleable__control:checked~label.sk-toggleable__label {background-color: #d4ebff;}#sk-container-id-2 input.sk-hidden--visually {border: 0;clip: rect(1px 1px 1px 1px);clip: rect(1px, 1px, 1px, 1px);height: 1px;margin: -1px;overflow: hidden;padding: 0;position: absolute;width: 1px;}#sk-container-id-2 div.sk-estimator {font-family: monospace;background-color: #f0f8ff;border: 1px dotted black;border-radius: 0.25em;box-sizing: border-box;margin-bottom: 0.5em;}#sk-container-id-2 div.sk-estimator:hover {background-color: #d4ebff;}#sk-container-id-2 div.sk-parallel-item::after {content: \"\";width: 100%;border-bottom: 1px solid gray;flex-grow: 1;}#sk-container-id-2 div.sk-label:hover label.sk-toggleable__label {background-color: #d4ebff;}#sk-container-id-2 div.sk-serial::before {content: \"\";position: absolute;border-left: 1px solid gray;box-sizing: border-box;top: 0;bottom: 0;left: 50%;z-index: 0;}#sk-container-id-2 div.sk-serial {display: flex;flex-direction: column;align-items: center;background-color: white;padding-right: 0.2em;padding-left: 0.2em;position: relative;}#sk-container-id-2 div.sk-item {position: relative;z-index: 1;}#sk-container-id-2 div.sk-parallel {display: flex;align-items: stretch;justify-content: center;background-color: white;position: relative;}#sk-container-id-2 div.sk-item::before, #sk-container-id-2 div.sk-parallel-item::before {content: \"\";position: absolute;border-left: 1px solid gray;box-sizing: border-box;top: 0;bottom: 0;left: 50%;z-index: -1;}#sk-container-id-2 div.sk-parallel-item {display: flex;flex-direction: column;z-index: 1;position: relative;background-color: white;}#sk-container-id-2 div.sk-parallel-item:first-child::after {align-self: flex-end;width: 50%;}#sk-container-id-2 div.sk-parallel-item:last-child::after {align-self: flex-start;width: 50%;}#sk-container-id-2 div.sk-parallel-item:only-child::after {width: 0;}#sk-container-id-2 div.sk-dashed-wrapped {border: 1px dashed gray;margin: 0 0.4em 0.5em 0.4em;box-sizing: border-box;padding-bottom: 0.4em;background-color: white;}#sk-container-id-2 div.sk-label label {font-family: monospace;font-weight: bold;display: inline-block;line-height: 1.2em;}#sk-container-id-2 div.sk-label-container {text-align: center;}#sk-container-id-2 div.sk-container {/* jupyter's `normalize.less` sets `[hidden] { display: none; }` but bootstrap.min.css set `[hidden] { display: none !important; }` so we also need the `!important` here to be able to override the default hidden behavior on the sphinx rendered scikit-learn.org. See: https://github.com/scikit-learn/scikit-learn/issues/21755 */display: inline-block !important;position: relative;}#sk-container-id-2 div.sk-text-repr-fallback {display: none;}</style><div id=\"sk-container-id-2\" class=\"sk-top-container\"><div class=\"sk-text-repr-fallback\"><pre>MultinomialNB()</pre><b>In a Jupyter environment, please rerun this cell to show the HTML representation or trust the notebook. <br />On GitHub, the HTML representation is unable to render, please try loading this page with nbviewer.org.</b></div><div class=\"sk-container\" hidden><div class=\"sk-item\"><div class=\"sk-estimator sk-toggleable\"><input class=\"sk-toggleable__control sk-hidden--visually\" id=\"sk-estimator-id-2\" type=\"checkbox\" checked><label for=\"sk-estimator-id-2\" class=\"sk-toggleable__label sk-toggleable__label-arrow\">MultinomialNB</label><div class=\"sk-toggleable__content\"><pre>MultinomialNB()</pre></div></div></div></div></div>"
      ],
      "text/plain": [
       "MultinomialNB()"
      ]
     },
     "execution_count": 36,
     "metadata": {},
     "output_type": "execute_result"
    }
   ],
   "source": [
    "nv_model.fit(cv_x_train,y_train)"
   ]
  },
  {
   "cell_type": "code",
   "execution_count": 37,
   "id": "e3dc50aa",
   "metadata": {},
   "outputs": [
    {
     "data": {
      "text/plain": [
       "array([1, 1, 1, ..., 0, 0, 1], dtype=int64)"
      ]
     },
     "execution_count": 37,
     "metadata": {},
     "output_type": "execute_result"
    }
   ],
   "source": [
    "nv_pred = nv_model.predict(cv_x_test)\n",
    "nv_pred"
   ]
  },
  {
   "cell_type": "code",
   "execution_count": 38,
   "id": "77e4e7b0",
   "metadata": {},
   "outputs": [
    {
     "data": {
      "text/plain": [
       "0.8930893330122803"
      ]
     },
     "execution_count": 38,
     "metadata": {},
     "output_type": "execute_result"
    }
   ],
   "source": [
    "accuracy_score(y_test,nv_pred)"
   ]
  },
  {
   "cell_type": "code",
   "execution_count": 39,
   "id": "31f5bcf5",
   "metadata": {},
   "outputs": [
    {
     "data": {
      "text/plain": [
       "array([[1923,  156],\n",
       "       [ 288, 1786]], dtype=int64)"
      ]
     },
     "execution_count": 39,
     "metadata": {},
     "output_type": "execute_result"
    }
   ],
   "source": [
    "confusion_matrix(y_test,nv_pred)"
   ]
  },
  {
   "cell_type": "markdown",
   "id": "1ec82516",
   "metadata": {},
   "source": [
    "## Word to Vect"
   ]
  },
  {
   "cell_type": "code",
   "execution_count": 25,
   "id": "b5e2c0a7",
   "metadata": {},
   "outputs": [
    {
     "data": {
      "text/plain": [
       "0        house dem aide even see comey letter jason cha...\n",
       "1        ever get feeling life circle roundabout rather...\n",
       "2        truth might get fired october 29 2016 tension ...\n",
       "3        video 15 civilian killed single u airstrike id...\n",
       "4        print iranian woman sentenced six year prison ...\n",
       "                               ...                        \n",
       "20795    rapper unloaded black celebrity met donald tru...\n",
       "20796    green bay packer lost washington redskin week ...\n",
       "20797    macy today grew union several great name ameri...\n",
       "20798    nato russia hold parallel exercise balkan 11 0...\n",
       "20799    david swanson author activist journalist radio...\n",
       "Name: text, Length: 20761, dtype: object"
      ]
     },
     "execution_count": 25,
     "metadata": {},
     "output_type": "execute_result"
    }
   ],
   "source": [
    "text = data.text\n",
    "text"
   ]
  },
  {
   "cell_type": "code",
   "execution_count": 26,
   "id": "abd0b551",
   "metadata": {},
   "outputs": [],
   "source": [
    "story = []\n",
    "for doc in text:\n",
    "    raw_sent = sent_tokenize(doc)\n",
    "    for sent in raw_sent:\n",
    "        story.append(simple_preprocess(sent))"
   ]
  },
  {
   "cell_type": "code",
   "execution_count": 27,
   "id": "49eb5725",
   "metadata": {},
   "outputs": [],
   "source": [
    "model = gensim.models.Word2Vec(\n",
    "    window=10,\n",
    "    min_count=2\n",
    ")"
   ]
  },
  {
   "cell_type": "code",
   "execution_count": 28,
   "id": "990d33f5",
   "metadata": {},
   "outputs": [],
   "source": [
    "model.build_vocab(story)"
   ]
  },
  {
   "cell_type": "code",
   "execution_count": 29,
   "id": "ea4afe6b",
   "metadata": {},
   "outputs": [
    {
     "data": {
      "text/plain": [
       "(41735558, 42953530)"
      ]
     },
     "execution_count": 29,
     "metadata": {},
     "output_type": "execute_result"
    }
   ],
   "source": [
    "model.train(story, total_examples=model.corpus_count, epochs=model.epochs)"
   ]
  },
  {
   "cell_type": "code",
   "execution_count": 31,
   "id": "bff317f2",
   "metadata": {},
   "outputs": [],
   "source": [
    "def document_vector(doc):\n",
    "    words = doc.split()\n",
    "    \n",
    "    # Filter out-of-vocabulary words\n",
    "    valid_words = [word for word in words if word in model.wv.index_to_key]\n",
    "    \n",
    "    if valid_words:\n",
    "        # Calculate the mean vector of valid words\n",
    "        word_vectors = model.wv[valid_words]\n",
    "        doc_vector = np.mean(word_vectors, axis=0)\n",
    "    else:\n",
    "        # If no valid words found, return a vector of zeros or None\n",
    "        doc_vector = np.zeros(model.vector_size)  # You can replace this with None if needed\n",
    "    \n",
    "    return doc_vector"
   ]
  },
  {
   "cell_type": "code",
   "execution_count": 33,
   "id": "b878e4d2",
   "metadata": {},
   "outputs": [
    {
     "name": "stderr",
     "output_type": "stream",
     "text": [
      "100%|████████████████████████████████████████████████████████████████████████████| 20761/20761 [48:23<00:00,  7.15it/s]\n"
     ]
    }
   ],
   "source": [
    "q1 = []\n",
    "for doc in tqdm(text):\n",
    "    q1.append(document_vector(doc))"
   ]
  },
  {
   "cell_type": "code",
   "execution_count": 34,
   "id": "1597b999",
   "metadata": {},
   "outputs": [],
   "source": [
    "q1 = np.array(q1)"
   ]
  },
  {
   "cell_type": "code",
   "execution_count": 35,
   "id": "0ca57503",
   "metadata": {},
   "outputs": [
    {
     "data": {
      "text/plain": [
       "(20761, 100)"
      ]
     },
     "execution_count": 35,
     "metadata": {},
     "output_type": "execute_result"
    }
   ],
   "source": [
    "q1.shape"
   ]
  },
  {
   "cell_type": "code",
   "execution_count": 38,
   "id": "0b3cde03",
   "metadata": {},
   "outputs": [
    {
     "data": {
      "text/plain": [
       "0        house dem aide even see comey letter jason cha...\n",
       "1        ever get feeling life circle roundabout rather...\n",
       "2        truth might get fired october 29 2016 tension ...\n",
       "3        video 15 civilian killed single u airstrike id...\n",
       "4        print iranian woman sentenced six year prison ...\n",
       "                               ...                        \n",
       "20795    rapper unloaded black celebrity met donald tru...\n",
       "20796    green bay packer lost washington redskin week ...\n",
       "20797    macy today grew union several great name ameri...\n",
       "20798    nato russia hold parallel exercise balkan 11 0...\n",
       "20799    david swanson author activist journalist radio...\n",
       "Name: text, Length: 20761, dtype: object"
      ]
     },
     "execution_count": 38,
     "metadata": {},
     "output_type": "execute_result"
    }
   ],
   "source": [
    "que_df"
   ]
  },
  {
   "cell_type": "code",
   "execution_count": 39,
   "id": "d62b84b2",
   "metadata": {},
   "outputs": [],
   "source": [
    "temp_df1 = pd.DataFrame(q1, index= data.index)"
   ]
  },
  {
   "cell_type": "code",
   "execution_count": 41,
   "id": "59bd2c06",
   "metadata": {},
   "outputs": [
    {
     "data": {
      "text/plain": [
       "array([ 0.49478862, -0.302423  ,  0.429623  ,  0.01865009, -0.96686417,\n",
       "       -0.4138304 , -0.3887836 , -0.4908528 , -0.23039016, -0.7656233 ,\n",
       "        0.9079615 , -0.3180682 ,  0.29101834,  0.26120093, -0.250335  ,\n",
       "        0.47371292, -0.16211098,  0.5432039 , -0.7683077 , -0.18642822,\n",
       "       -0.05595333, -0.74448234, -0.6935724 ,  0.27768853, -0.5332352 ,\n",
       "       -0.13691632,  0.63814956, -0.16445614,  0.2934434 ,  0.7987343 ,\n",
       "       -0.11401265,  0.32049844, -0.5431226 , -0.25932986, -0.3700221 ,\n",
       "        0.45988414, -0.4277896 ,  0.46125045,  0.02800129, -0.67607284,\n",
       "       -0.5130268 ,  0.35209924,  0.05720324,  0.2692343 , -0.37331724,\n",
       "       -0.07484289,  0.25749704,  0.3386472 , -0.687827  ,  0.44564804,\n",
       "       -0.40468723,  1.0144126 , -0.39090338, -0.68119866, -0.15328717,\n",
       "       -0.40388885,  0.46214375, -0.45711645, -0.09933129, -0.2336541 ,\n",
       "       -0.7312563 , -0.967833  , -0.07792701, -0.4222369 , -0.4036763 ,\n",
       "        0.49332437,  0.01245863,  0.5718859 , -0.16172634, -0.99105155,\n",
       "        0.36505055, -0.26749012, -0.5823268 , -0.21426366, -0.3670209 ,\n",
       "        0.5357879 ,  0.30790672, -0.7822681 , -0.33334666,  0.5318318 ,\n",
       "       -0.11585104,  0.08250782,  0.40025005, -0.540325  , -0.656358  ,\n",
       "        0.08227068,  0.22077261,  0.2712334 ,  0.07237511,  0.9464226 ,\n",
       "        0.23073567,  0.4702497 ,  0.33316454, -0.16383973,  0.3898023 ,\n",
       "       -0.562486  , -0.45764428,  0.15662272, -0.03116614, -0.35090625],\n",
       "      dtype=float32)"
      ]
     },
     "execution_count": 41,
     "metadata": {},
     "output_type": "execute_result"
    }
   ],
   "source": [
    "document_vector(text[0])"
   ]
  },
  {
   "cell_type": "code",
   "execution_count": 40,
   "id": "3c16e405",
   "metadata": {},
   "outputs": [
    {
     "data": {
      "text/html": [
       "<div>\n",
       "<style scoped>\n",
       "    .dataframe tbody tr th:only-of-type {\n",
       "        vertical-align: middle;\n",
       "    }\n",
       "\n",
       "    .dataframe tbody tr th {\n",
       "        vertical-align: top;\n",
       "    }\n",
       "\n",
       "    .dataframe thead th {\n",
       "        text-align: right;\n",
       "    }\n",
       "</style>\n",
       "<table border=\"1\" class=\"dataframe\">\n",
       "  <thead>\n",
       "    <tr style=\"text-align: right;\">\n",
       "      <th></th>\n",
       "      <th>0</th>\n",
       "      <th>1</th>\n",
       "      <th>2</th>\n",
       "      <th>3</th>\n",
       "      <th>4</th>\n",
       "      <th>5</th>\n",
       "      <th>6</th>\n",
       "      <th>7</th>\n",
       "      <th>8</th>\n",
       "      <th>9</th>\n",
       "      <th>...</th>\n",
       "      <th>90</th>\n",
       "      <th>91</th>\n",
       "      <th>92</th>\n",
       "      <th>93</th>\n",
       "      <th>94</th>\n",
       "      <th>95</th>\n",
       "      <th>96</th>\n",
       "      <th>97</th>\n",
       "      <th>98</th>\n",
       "      <th>99</th>\n",
       "    </tr>\n",
       "  </thead>\n",
       "  <tbody>\n",
       "    <tr>\n",
       "      <th>0</th>\n",
       "      <td>0.494789</td>\n",
       "      <td>-0.302423</td>\n",
       "      <td>0.429623</td>\n",
       "      <td>0.018650</td>\n",
       "      <td>-0.966864</td>\n",
       "      <td>-0.413830</td>\n",
       "      <td>-0.388784</td>\n",
       "      <td>-0.490853</td>\n",
       "      <td>-0.230390</td>\n",
       "      <td>-0.765623</td>\n",
       "      <td>...</td>\n",
       "      <td>0.230736</td>\n",
       "      <td>0.470250</td>\n",
       "      <td>0.333165</td>\n",
       "      <td>-0.163840</td>\n",
       "      <td>0.389802</td>\n",
       "      <td>-0.562486</td>\n",
       "      <td>-0.457644</td>\n",
       "      <td>0.156623</td>\n",
       "      <td>-0.031166</td>\n",
       "      <td>-0.350906</td>\n",
       "    </tr>\n",
       "    <tr>\n",
       "      <th>1</th>\n",
       "      <td>0.513003</td>\n",
       "      <td>-0.219893</td>\n",
       "      <td>0.404607</td>\n",
       "      <td>0.324979</td>\n",
       "      <td>-0.565379</td>\n",
       "      <td>-0.051649</td>\n",
       "      <td>-0.391769</td>\n",
       "      <td>-0.302650</td>\n",
       "      <td>-0.310227</td>\n",
       "      <td>-0.158779</td>\n",
       "      <td>...</td>\n",
       "      <td>0.001334</td>\n",
       "      <td>0.238065</td>\n",
       "      <td>0.474460</td>\n",
       "      <td>0.305389</td>\n",
       "      <td>-0.029297</td>\n",
       "      <td>-0.608560</td>\n",
       "      <td>-0.811727</td>\n",
       "      <td>0.361936</td>\n",
       "      <td>-0.299398</td>\n",
       "      <td>-0.123171</td>\n",
       "    </tr>\n",
       "    <tr>\n",
       "      <th>2</th>\n",
       "      <td>0.819297</td>\n",
       "      <td>-0.168946</td>\n",
       "      <td>0.087356</td>\n",
       "      <td>-0.316947</td>\n",
       "      <td>-0.488442</td>\n",
       "      <td>-0.326802</td>\n",
       "      <td>-0.254053</td>\n",
       "      <td>-0.468052</td>\n",
       "      <td>-0.024118</td>\n",
       "      <td>0.023371</td>\n",
       "      <td>...</td>\n",
       "      <td>-0.182482</td>\n",
       "      <td>0.320576</td>\n",
       "      <td>0.483572</td>\n",
       "      <td>-0.160432</td>\n",
       "      <td>0.059734</td>\n",
       "      <td>-0.217576</td>\n",
       "      <td>-0.785027</td>\n",
       "      <td>0.597715</td>\n",
       "      <td>-0.264076</td>\n",
       "      <td>0.068109</td>\n",
       "    </tr>\n",
       "    <tr>\n",
       "      <th>3</th>\n",
       "      <td>0.773014</td>\n",
       "      <td>0.932948</td>\n",
       "      <td>1.106285</td>\n",
       "      <td>0.797277</td>\n",
       "      <td>-0.264345</td>\n",
       "      <td>-0.015394</td>\n",
       "      <td>0.305031</td>\n",
       "      <td>-1.086351</td>\n",
       "      <td>0.362705</td>\n",
       "      <td>0.231656</td>\n",
       "      <td>...</td>\n",
       "      <td>0.053455</td>\n",
       "      <td>0.630204</td>\n",
       "      <td>-0.051507</td>\n",
       "      <td>-0.194856</td>\n",
       "      <td>0.132259</td>\n",
       "      <td>0.595012</td>\n",
       "      <td>-0.351950</td>\n",
       "      <td>1.082815</td>\n",
       "      <td>-0.989952</td>\n",
       "      <td>0.454484</td>\n",
       "    </tr>\n",
       "    <tr>\n",
       "      <th>4</th>\n",
       "      <td>0.585783</td>\n",
       "      <td>0.079164</td>\n",
       "      <td>0.003329</td>\n",
       "      <td>0.319184</td>\n",
       "      <td>-0.290193</td>\n",
       "      <td>0.007421</td>\n",
       "      <td>-0.411164</td>\n",
       "      <td>-0.694017</td>\n",
       "      <td>-0.234597</td>\n",
       "      <td>-0.095254</td>\n",
       "      <td>...</td>\n",
       "      <td>0.672603</td>\n",
       "      <td>0.210838</td>\n",
       "      <td>-0.431312</td>\n",
       "      <td>0.374656</td>\n",
       "      <td>0.123497</td>\n",
       "      <td>0.780169</td>\n",
       "      <td>-0.425646</td>\n",
       "      <td>0.336385</td>\n",
       "      <td>0.230866</td>\n",
       "      <td>-0.080855</td>\n",
       "    </tr>\n",
       "    <tr>\n",
       "      <th>...</th>\n",
       "      <td>...</td>\n",
       "      <td>...</td>\n",
       "      <td>...</td>\n",
       "      <td>...</td>\n",
       "      <td>...</td>\n",
       "      <td>...</td>\n",
       "      <td>...</td>\n",
       "      <td>...</td>\n",
       "      <td>...</td>\n",
       "      <td>...</td>\n",
       "      <td>...</td>\n",
       "      <td>...</td>\n",
       "      <td>...</td>\n",
       "      <td>...</td>\n",
       "      <td>...</td>\n",
       "      <td>...</td>\n",
       "      <td>...</td>\n",
       "      <td>...</td>\n",
       "      <td>...</td>\n",
       "      <td>...</td>\n",
       "      <td>...</td>\n",
       "    </tr>\n",
       "    <tr>\n",
       "      <th>20795</th>\n",
       "      <td>0.257110</td>\n",
       "      <td>0.342894</td>\n",
       "      <td>-0.078488</td>\n",
       "      <td>0.228383</td>\n",
       "      <td>0.001806</td>\n",
       "      <td>-0.032652</td>\n",
       "      <td>-0.172270</td>\n",
       "      <td>-0.242417</td>\n",
       "      <td>-0.152333</td>\n",
       "      <td>-0.160008</td>\n",
       "      <td>...</td>\n",
       "      <td>-0.288738</td>\n",
       "      <td>0.157427</td>\n",
       "      <td>0.403813</td>\n",
       "      <td>0.204415</td>\n",
       "      <td>-0.135519</td>\n",
       "      <td>-0.331106</td>\n",
       "      <td>-0.628368</td>\n",
       "      <td>0.471706</td>\n",
       "      <td>-0.309800</td>\n",
       "      <td>0.189154</td>\n",
       "    </tr>\n",
       "    <tr>\n",
       "      <th>20796</th>\n",
       "      <td>-0.281050</td>\n",
       "      <td>0.330436</td>\n",
       "      <td>0.955970</td>\n",
       "      <td>1.321458</td>\n",
       "      <td>-0.417251</td>\n",
       "      <td>0.174004</td>\n",
       "      <td>0.393378</td>\n",
       "      <td>-0.737300</td>\n",
       "      <td>-0.052090</td>\n",
       "      <td>0.036783</td>\n",
       "      <td>...</td>\n",
       "      <td>0.356897</td>\n",
       "      <td>0.775484</td>\n",
       "      <td>0.319839</td>\n",
       "      <td>0.029641</td>\n",
       "      <td>0.591327</td>\n",
       "      <td>-0.199048</td>\n",
       "      <td>-0.739630</td>\n",
       "      <td>0.617135</td>\n",
       "      <td>-0.411584</td>\n",
       "      <td>0.306718</td>\n",
       "    </tr>\n",
       "    <tr>\n",
       "      <th>20797</th>\n",
       "      <td>0.314279</td>\n",
       "      <td>-0.528054</td>\n",
       "      <td>0.012097</td>\n",
       "      <td>1.160629</td>\n",
       "      <td>0.334867</td>\n",
       "      <td>-0.180665</td>\n",
       "      <td>0.003384</td>\n",
       "      <td>-0.906662</td>\n",
       "      <td>-0.848989</td>\n",
       "      <td>0.724456</td>\n",
       "      <td>...</td>\n",
       "      <td>0.034567</td>\n",
       "      <td>0.601732</td>\n",
       "      <td>0.355051</td>\n",
       "      <td>0.378449</td>\n",
       "      <td>0.588359</td>\n",
       "      <td>-0.016890</td>\n",
       "      <td>-0.538906</td>\n",
       "      <td>0.296015</td>\n",
       "      <td>-0.610386</td>\n",
       "      <td>0.264423</td>\n",
       "    </tr>\n",
       "    <tr>\n",
       "      <th>20798</th>\n",
       "      <td>0.624757</td>\n",
       "      <td>0.287054</td>\n",
       "      <td>0.712965</td>\n",
       "      <td>0.034499</td>\n",
       "      <td>0.104829</td>\n",
       "      <td>-0.424703</td>\n",
       "      <td>-0.393076</td>\n",
       "      <td>-0.772834</td>\n",
       "      <td>0.879641</td>\n",
       "      <td>0.139461</td>\n",
       "      <td>...</td>\n",
       "      <td>-0.757814</td>\n",
       "      <td>0.715026</td>\n",
       "      <td>0.121065</td>\n",
       "      <td>-0.262944</td>\n",
       "      <td>0.473064</td>\n",
       "      <td>-0.558971</td>\n",
       "      <td>-0.526690</td>\n",
       "      <td>1.128407</td>\n",
       "      <td>-0.383120</td>\n",
       "      <td>-0.023099</td>\n",
       "    </tr>\n",
       "    <tr>\n",
       "      <th>20799</th>\n",
       "      <td>0.303377</td>\n",
       "      <td>-0.152262</td>\n",
       "      <td>0.114611</td>\n",
       "      <td>0.129571</td>\n",
       "      <td>0.048703</td>\n",
       "      <td>-0.371494</td>\n",
       "      <td>0.127550</td>\n",
       "      <td>-0.203342</td>\n",
       "      <td>-0.161140</td>\n",
       "      <td>0.164731</td>\n",
       "      <td>...</td>\n",
       "      <td>-0.175747</td>\n",
       "      <td>0.056915</td>\n",
       "      <td>0.341699</td>\n",
       "      <td>0.599690</td>\n",
       "      <td>0.301951</td>\n",
       "      <td>-0.023948</td>\n",
       "      <td>-0.455075</td>\n",
       "      <td>0.392156</td>\n",
       "      <td>-0.141241</td>\n",
       "      <td>-0.190117</td>\n",
       "    </tr>\n",
       "  </tbody>\n",
       "</table>\n",
       "<p>20761 rows × 100 columns</p>\n",
       "</div>"
      ],
      "text/plain": [
       "             0         1         2         3         4         5         6   \\\n",
       "0      0.494789 -0.302423  0.429623  0.018650 -0.966864 -0.413830 -0.388784   \n",
       "1      0.513003 -0.219893  0.404607  0.324979 -0.565379 -0.051649 -0.391769   \n",
       "2      0.819297 -0.168946  0.087356 -0.316947 -0.488442 -0.326802 -0.254053   \n",
       "3      0.773014  0.932948  1.106285  0.797277 -0.264345 -0.015394  0.305031   \n",
       "4      0.585783  0.079164  0.003329  0.319184 -0.290193  0.007421 -0.411164   \n",
       "...         ...       ...       ...       ...       ...       ...       ...   \n",
       "20795  0.257110  0.342894 -0.078488  0.228383  0.001806 -0.032652 -0.172270   \n",
       "20796 -0.281050  0.330436  0.955970  1.321458 -0.417251  0.174004  0.393378   \n",
       "20797  0.314279 -0.528054  0.012097  1.160629  0.334867 -0.180665  0.003384   \n",
       "20798  0.624757  0.287054  0.712965  0.034499  0.104829 -0.424703 -0.393076   \n",
       "20799  0.303377 -0.152262  0.114611  0.129571  0.048703 -0.371494  0.127550   \n",
       "\n",
       "             7         8         9   ...        90        91        92  \\\n",
       "0     -0.490853 -0.230390 -0.765623  ...  0.230736  0.470250  0.333165   \n",
       "1     -0.302650 -0.310227 -0.158779  ...  0.001334  0.238065  0.474460   \n",
       "2     -0.468052 -0.024118  0.023371  ... -0.182482  0.320576  0.483572   \n",
       "3     -1.086351  0.362705  0.231656  ...  0.053455  0.630204 -0.051507   \n",
       "4     -0.694017 -0.234597 -0.095254  ...  0.672603  0.210838 -0.431312   \n",
       "...         ...       ...       ...  ...       ...       ...       ...   \n",
       "20795 -0.242417 -0.152333 -0.160008  ... -0.288738  0.157427  0.403813   \n",
       "20796 -0.737300 -0.052090  0.036783  ...  0.356897  0.775484  0.319839   \n",
       "20797 -0.906662 -0.848989  0.724456  ...  0.034567  0.601732  0.355051   \n",
       "20798 -0.772834  0.879641  0.139461  ... -0.757814  0.715026  0.121065   \n",
       "20799 -0.203342 -0.161140  0.164731  ... -0.175747  0.056915  0.341699   \n",
       "\n",
       "             93        94        95        96        97        98        99  \n",
       "0     -0.163840  0.389802 -0.562486 -0.457644  0.156623 -0.031166 -0.350906  \n",
       "1      0.305389 -0.029297 -0.608560 -0.811727  0.361936 -0.299398 -0.123171  \n",
       "2     -0.160432  0.059734 -0.217576 -0.785027  0.597715 -0.264076  0.068109  \n",
       "3     -0.194856  0.132259  0.595012 -0.351950  1.082815 -0.989952  0.454484  \n",
       "4      0.374656  0.123497  0.780169 -0.425646  0.336385  0.230866 -0.080855  \n",
       "...         ...       ...       ...       ...       ...       ...       ...  \n",
       "20795  0.204415 -0.135519 -0.331106 -0.628368  0.471706 -0.309800  0.189154  \n",
       "20796  0.029641  0.591327 -0.199048 -0.739630  0.617135 -0.411584  0.306718  \n",
       "20797  0.378449  0.588359 -0.016890 -0.538906  0.296015 -0.610386  0.264423  \n",
       "20798 -0.262944  0.473064 -0.558971 -0.526690  1.128407 -0.383120 -0.023099  \n",
       "20799  0.599690  0.301951 -0.023948 -0.455075  0.392156 -0.141241 -0.190117  \n",
       "\n",
       "[20761 rows x 100 columns]"
      ]
     },
     "execution_count": 40,
     "metadata": {},
     "output_type": "execute_result"
    }
   ],
   "source": [
    "temp_df1"
   ]
  },
  {
   "cell_type": "code",
   "execution_count": 43,
   "id": "882060b4",
   "metadata": {},
   "outputs": [],
   "source": [
    "final_df = pd.concat([data, temp_df1], axis=1)"
   ]
  },
  {
   "cell_type": "code",
   "execution_count": 44,
   "id": "5c32571c",
   "metadata": {},
   "outputs": [
    {
     "data": {
      "text/plain": [
       "(20761, 102)"
      ]
     },
     "execution_count": 44,
     "metadata": {},
     "output_type": "execute_result"
    }
   ],
   "source": [
    "final_df.shape"
   ]
  },
  {
   "cell_type": "code",
   "execution_count": 82,
   "id": "0dad98a9",
   "metadata": {},
   "outputs": [
    {
     "data": {
      "text/html": [
       "<div>\n",
       "<style scoped>\n",
       "    .dataframe tbody tr th:only-of-type {\n",
       "        vertical-align: middle;\n",
       "    }\n",
       "\n",
       "    .dataframe tbody tr th {\n",
       "        vertical-align: top;\n",
       "    }\n",
       "\n",
       "    .dataframe thead th {\n",
       "        text-align: right;\n",
       "    }\n",
       "</style>\n",
       "<table border=\"1\" class=\"dataframe\">\n",
       "  <thead>\n",
       "    <tr style=\"text-align: right;\">\n",
       "      <th></th>\n",
       "      <th>label</th>\n",
       "      <th>0</th>\n",
       "      <th>1</th>\n",
       "      <th>2</th>\n",
       "      <th>3</th>\n",
       "      <th>4</th>\n",
       "      <th>5</th>\n",
       "      <th>6</th>\n",
       "      <th>7</th>\n",
       "      <th>8</th>\n",
       "      <th>...</th>\n",
       "      <th>90</th>\n",
       "      <th>91</th>\n",
       "      <th>92</th>\n",
       "      <th>93</th>\n",
       "      <th>94</th>\n",
       "      <th>95</th>\n",
       "      <th>96</th>\n",
       "      <th>97</th>\n",
       "      <th>98</th>\n",
       "      <th>99</th>\n",
       "    </tr>\n",
       "  </thead>\n",
       "  <tbody>\n",
       "    <tr>\n",
       "      <th>0</th>\n",
       "      <td>1</td>\n",
       "      <td>0.494789</td>\n",
       "      <td>-0.302423</td>\n",
       "      <td>0.429623</td>\n",
       "      <td>0.018650</td>\n",
       "      <td>-0.966864</td>\n",
       "      <td>-0.413830</td>\n",
       "      <td>-0.388784</td>\n",
       "      <td>-0.490853</td>\n",
       "      <td>-0.230390</td>\n",
       "      <td>...</td>\n",
       "      <td>0.230736</td>\n",
       "      <td>0.470250</td>\n",
       "      <td>0.333165</td>\n",
       "      <td>-0.163840</td>\n",
       "      <td>0.389802</td>\n",
       "      <td>-0.562486</td>\n",
       "      <td>-0.457644</td>\n",
       "      <td>0.156623</td>\n",
       "      <td>-0.031166</td>\n",
       "      <td>-0.350906</td>\n",
       "    </tr>\n",
       "    <tr>\n",
       "      <th>1</th>\n",
       "      <td>0</td>\n",
       "      <td>0.513003</td>\n",
       "      <td>-0.219893</td>\n",
       "      <td>0.404607</td>\n",
       "      <td>0.324979</td>\n",
       "      <td>-0.565379</td>\n",
       "      <td>-0.051649</td>\n",
       "      <td>-0.391769</td>\n",
       "      <td>-0.302650</td>\n",
       "      <td>-0.310227</td>\n",
       "      <td>...</td>\n",
       "      <td>0.001334</td>\n",
       "      <td>0.238065</td>\n",
       "      <td>0.474460</td>\n",
       "      <td>0.305389</td>\n",
       "      <td>-0.029297</td>\n",
       "      <td>-0.608560</td>\n",
       "      <td>-0.811727</td>\n",
       "      <td>0.361936</td>\n",
       "      <td>-0.299398</td>\n",
       "      <td>-0.123171</td>\n",
       "    </tr>\n",
       "    <tr>\n",
       "      <th>2</th>\n",
       "      <td>1</td>\n",
       "      <td>0.819297</td>\n",
       "      <td>-0.168946</td>\n",
       "      <td>0.087356</td>\n",
       "      <td>-0.316947</td>\n",
       "      <td>-0.488442</td>\n",
       "      <td>-0.326802</td>\n",
       "      <td>-0.254053</td>\n",
       "      <td>-0.468052</td>\n",
       "      <td>-0.024118</td>\n",
       "      <td>...</td>\n",
       "      <td>-0.182482</td>\n",
       "      <td>0.320576</td>\n",
       "      <td>0.483572</td>\n",
       "      <td>-0.160432</td>\n",
       "      <td>0.059734</td>\n",
       "      <td>-0.217576</td>\n",
       "      <td>-0.785027</td>\n",
       "      <td>0.597715</td>\n",
       "      <td>-0.264076</td>\n",
       "      <td>0.068109</td>\n",
       "    </tr>\n",
       "    <tr>\n",
       "      <th>3</th>\n",
       "      <td>1</td>\n",
       "      <td>0.773014</td>\n",
       "      <td>0.932948</td>\n",
       "      <td>1.106285</td>\n",
       "      <td>0.797277</td>\n",
       "      <td>-0.264345</td>\n",
       "      <td>-0.015394</td>\n",
       "      <td>0.305031</td>\n",
       "      <td>-1.086351</td>\n",
       "      <td>0.362705</td>\n",
       "      <td>...</td>\n",
       "      <td>0.053455</td>\n",
       "      <td>0.630204</td>\n",
       "      <td>-0.051507</td>\n",
       "      <td>-0.194856</td>\n",
       "      <td>0.132259</td>\n",
       "      <td>0.595012</td>\n",
       "      <td>-0.351950</td>\n",
       "      <td>1.082815</td>\n",
       "      <td>-0.989952</td>\n",
       "      <td>0.454484</td>\n",
       "    </tr>\n",
       "    <tr>\n",
       "      <th>4</th>\n",
       "      <td>1</td>\n",
       "      <td>0.585783</td>\n",
       "      <td>0.079164</td>\n",
       "      <td>0.003329</td>\n",
       "      <td>0.319184</td>\n",
       "      <td>-0.290193</td>\n",
       "      <td>0.007421</td>\n",
       "      <td>-0.411164</td>\n",
       "      <td>-0.694017</td>\n",
       "      <td>-0.234597</td>\n",
       "      <td>...</td>\n",
       "      <td>0.672603</td>\n",
       "      <td>0.210838</td>\n",
       "      <td>-0.431312</td>\n",
       "      <td>0.374656</td>\n",
       "      <td>0.123497</td>\n",
       "      <td>0.780169</td>\n",
       "      <td>-0.425646</td>\n",
       "      <td>0.336385</td>\n",
       "      <td>0.230866</td>\n",
       "      <td>-0.080855</td>\n",
       "    </tr>\n",
       "  </tbody>\n",
       "</table>\n",
       "<p>5 rows × 101 columns</p>\n",
       "</div>"
      ],
      "text/plain": [
       "   label         0         1         2         3         4         5  \\\n",
       "0      1  0.494789 -0.302423  0.429623  0.018650 -0.966864 -0.413830   \n",
       "1      0  0.513003 -0.219893  0.404607  0.324979 -0.565379 -0.051649   \n",
       "2      1  0.819297 -0.168946  0.087356 -0.316947 -0.488442 -0.326802   \n",
       "3      1  0.773014  0.932948  1.106285  0.797277 -0.264345 -0.015394   \n",
       "4      1  0.585783  0.079164  0.003329  0.319184 -0.290193  0.007421   \n",
       "\n",
       "          6         7         8  ...        90        91        92        93  \\\n",
       "0 -0.388784 -0.490853 -0.230390  ...  0.230736  0.470250  0.333165 -0.163840   \n",
       "1 -0.391769 -0.302650 -0.310227  ...  0.001334  0.238065  0.474460  0.305389   \n",
       "2 -0.254053 -0.468052 -0.024118  ... -0.182482  0.320576  0.483572 -0.160432   \n",
       "3  0.305031 -1.086351  0.362705  ...  0.053455  0.630204 -0.051507 -0.194856   \n",
       "4 -0.411164 -0.694017 -0.234597  ...  0.672603  0.210838 -0.431312  0.374656   \n",
       "\n",
       "         94        95        96        97        98        99  \n",
       "0  0.389802 -0.562486 -0.457644  0.156623 -0.031166 -0.350906  \n",
       "1 -0.029297 -0.608560 -0.811727  0.361936 -0.299398 -0.123171  \n",
       "2  0.059734 -0.217576 -0.785027  0.597715 -0.264076  0.068109  \n",
       "3  0.132259  0.595012 -0.351950  1.082815 -0.989952  0.454484  \n",
       "4  0.123497  0.780169 -0.425646  0.336385  0.230866 -0.080855  \n",
       "\n",
       "[5 rows x 101 columns]"
      ]
     },
     "execution_count": 82,
     "metadata": {},
     "output_type": "execute_result"
    }
   ],
   "source": [
    "final_df.head()"
   ]
  },
  {
   "cell_type": "code",
   "execution_count": 46,
   "id": "820c1874",
   "metadata": {},
   "outputs": [],
   "source": [
    "final_df.drop('text',axis=1,inplace=True)"
   ]
  },
  {
   "cell_type": "code",
   "execution_count": 62,
   "id": "192940a9",
   "metadata": {},
   "outputs": [],
   "source": [
    "x_train,x_test,y_train,y_test = train_test_split(final_df.drop('label',axis=1),final_df['label'],test_size=0.2,random_state=1)"
   ]
  },
  {
   "cell_type": "code",
   "execution_count": 50,
   "id": "03b4a315",
   "metadata": {},
   "outputs": [
    {
     "data": {
      "text/plain": [
       "0.893570912593306"
      ]
     },
     "execution_count": 50,
     "metadata": {},
     "output_type": "execute_result"
    }
   ],
   "source": [
    "from sklearn.ensemble import RandomForestClassifier\n",
    "from sklearn.metrics import accuracy_score\n",
    "rf = RandomForestClassifier()\n",
    "rf.fit(X_train,y_train)\n",
    "y_pred = rf.predict(X_test)\n",
    "accuracy_score(y_test,y_pred)"
   ]
  },
  {
   "cell_type": "code",
   "execution_count": 52,
   "id": "93670715",
   "metadata": {},
   "outputs": [
    {
     "data": {
      "text/plain": [
       "array([[1906,  209],\n",
       "       [ 233, 1805]], dtype=int64)"
      ]
     },
     "execution_count": 52,
     "metadata": {},
     "output_type": "execute_result"
    }
   ],
   "source": [
    "confusion_matrix(y_test,y_pred)"
   ]
  },
  {
   "cell_type": "code",
   "execution_count": 63,
   "id": "d66aa6ba",
   "metadata": {},
   "outputs": [
    {
     "data": {
      "text/plain": [
       "(16608, 100)"
      ]
     },
     "execution_count": 63,
     "metadata": {},
     "output_type": "execute_result"
    }
   ],
   "source": [
    "x_train.shape"
   ]
  },
  {
   "cell_type": "code",
   "execution_count": 80,
   "id": "ecee3591",
   "metadata": {},
   "outputs": [
    {
     "data": {
      "text/plain": [
       "(4153, 100)"
      ]
     },
     "execution_count": 80,
     "metadata": {},
     "output_type": "execute_result"
    }
   ],
   "source": [
    "x_test.shape"
   ]
  },
  {
   "cell_type": "code",
   "execution_count": 58,
   "id": "1673377a",
   "metadata": {},
   "outputs": [
    {
     "data": {
      "text/plain": [
       "81328"
      ]
     },
     "execution_count": 58,
     "metadata": {},
     "output_type": "execute_result"
    }
   ],
   "source": [
    "len(model.wv.key_to_index)"
   ]
  },
  {
   "cell_type": "code",
   "execution_count": 89,
   "id": "def003ef",
   "metadata": {},
   "outputs": [],
   "source": [
    "model = Sequential()\n",
    "model.add(LSTM(512,input_shape=(100,1)))\n",
    "model.add(Dense(256,activation='relu'))\n",
    "model.add(Dense(1, activation='sigmoid'))"
   ]
  },
  {
   "cell_type": "code",
   "execution_count": 90,
   "id": "46411003",
   "metadata": {},
   "outputs": [
    {
     "name": "stdout",
     "output_type": "stream",
     "text": [
      "Model: \"sequential_10\"\n",
      "_________________________________________________________________\n",
      " Layer (type)                Output Shape              Param #   \n",
      "=================================================================\n",
      " lstm_10 (LSTM)              (None, 512)               1052672   \n",
      "                                                                 \n",
      " dense_8 (Dense)             (None, 256)               131328    \n",
      "                                                                 \n",
      " dense_9 (Dense)             (None, 1)                 257       \n",
      "                                                                 \n",
      "=================================================================\n",
      "Total params: 1184257 (4.52 MB)\n",
      "Trainable params: 1184257 (4.52 MB)\n",
      "Non-trainable params: 0 (0.00 Byte)\n",
      "_________________________________________________________________\n"
     ]
    }
   ],
   "source": [
    "model.summary()"
   ]
  },
  {
   "cell_type": "code",
   "execution_count": 91,
   "id": "6798d884",
   "metadata": {},
   "outputs": [],
   "source": [
    "model.compile(loss='binary_crossentropy', optimizer='adam',metrics=['accuracy'])"
   ]
  },
  {
   "cell_type": "code",
   "execution_count": 92,
   "id": "0fdc2301",
   "metadata": {},
   "outputs": [
    {
     "name": "stdout",
     "output_type": "stream",
     "text": [
      "Epoch 1/100\n",
      "519/519 [==============================] - 665s 1s/step - loss: 0.6424 - accuracy: 0.6360 - val_loss: 0.6162 - val_accuracy: 0.6509\n",
      "Epoch 2/100\n",
      "519/519 [==============================] - 766s 1s/step - loss: 0.5655 - accuracy: 0.7088 - val_loss: 0.5127 - val_accuracy: 0.7491\n",
      "Epoch 3/100\n",
      "519/519 [==============================] - 716s 1s/step - loss: 0.5063 - accuracy: 0.7494 - val_loss: 0.5098 - val_accuracy: 0.7489\n",
      "Epoch 4/100\n",
      "519/519 [==============================] - 570s 1s/step - loss: 0.4451 - accuracy: 0.7916 - val_loss: 0.4291 - val_accuracy: 0.7929\n",
      "Epoch 5/100\n",
      "519/519 [==============================] - 570s 1s/step - loss: 0.3943 - accuracy: 0.8188 - val_loss: 0.4033 - val_accuracy: 0.8136\n",
      "Epoch 6/100\n",
      "519/519 [==============================] - 576s 1s/step - loss: 0.3625 - accuracy: 0.8357 - val_loss: 0.3530 - val_accuracy: 0.8423\n",
      "Epoch 7/100\n",
      "519/519 [==============================] - 581s 1s/step - loss: 0.3336 - accuracy: 0.8549 - val_loss: 0.3255 - val_accuracy: 0.8565\n",
      "Epoch 8/100\n",
      " 41/519 [=>............................] - ETA: 8:24 - loss: 0.3226 - accuracy: 0.8590"
     ]
    },
    {
     "ename": "KeyboardInterrupt",
     "evalue": "",
     "output_type": "error",
     "traceback": [
      "\u001b[1;31m---------------------------------------------------------------------------\u001b[0m",
      "\u001b[1;31mKeyboardInterrupt\u001b[0m                         Traceback (most recent call last)",
      "Cell \u001b[1;32mIn[92], line 1\u001b[0m\n\u001b[1;32m----> 1\u001b[0m \u001b[43mmodel\u001b[49m\u001b[38;5;241;43m.\u001b[39;49m\u001b[43mfit\u001b[49m\u001b[43m(\u001b[49m\u001b[43mx_train\u001b[49m\u001b[43m,\u001b[49m\u001b[43my_train\u001b[49m\u001b[43m,\u001b[49m\u001b[43mepochs\u001b[49m\u001b[38;5;241;43m=\u001b[39;49m\u001b[38;5;241;43m100\u001b[39;49m\u001b[43m,\u001b[49m\u001b[43mvalidation_data\u001b[49m\u001b[38;5;241;43m=\u001b[39;49m\u001b[43m(\u001b[49m\u001b[43mx_test\u001b[49m\u001b[43m,\u001b[49m\u001b[43my_test\u001b[49m\u001b[43m)\u001b[49m\u001b[43m)\u001b[49m\n",
      "File \u001b[1;32m~\\AppData\\Roaming\\Python\\Python311\\site-packages\\keras\\src\\utils\\traceback_utils.py:65\u001b[0m, in \u001b[0;36mfilter_traceback.<locals>.error_handler\u001b[1;34m(*args, **kwargs)\u001b[0m\n\u001b[0;32m     63\u001b[0m filtered_tb \u001b[38;5;241m=\u001b[39m \u001b[38;5;28;01mNone\u001b[39;00m\n\u001b[0;32m     64\u001b[0m \u001b[38;5;28;01mtry\u001b[39;00m:\n\u001b[1;32m---> 65\u001b[0m     \u001b[38;5;28;01mreturn\u001b[39;00m \u001b[43mfn\u001b[49m\u001b[43m(\u001b[49m\u001b[38;5;241;43m*\u001b[39;49m\u001b[43margs\u001b[49m\u001b[43m,\u001b[49m\u001b[43m \u001b[49m\u001b[38;5;241;43m*\u001b[39;49m\u001b[38;5;241;43m*\u001b[39;49m\u001b[43mkwargs\u001b[49m\u001b[43m)\u001b[49m\n\u001b[0;32m     66\u001b[0m \u001b[38;5;28;01mexcept\u001b[39;00m \u001b[38;5;167;01mException\u001b[39;00m \u001b[38;5;28;01mas\u001b[39;00m e:\n\u001b[0;32m     67\u001b[0m     filtered_tb \u001b[38;5;241m=\u001b[39m _process_traceback_frames(e\u001b[38;5;241m.\u001b[39m__traceback__)\n",
      "File \u001b[1;32m~\\AppData\\Roaming\\Python\\Python311\\site-packages\\keras\\src\\engine\\training.py:1742\u001b[0m, in \u001b[0;36mModel.fit\u001b[1;34m(self, x, y, batch_size, epochs, verbose, callbacks, validation_split, validation_data, shuffle, class_weight, sample_weight, initial_epoch, steps_per_epoch, validation_steps, validation_batch_size, validation_freq, max_queue_size, workers, use_multiprocessing)\u001b[0m\n\u001b[0;32m   1734\u001b[0m \u001b[38;5;28;01mwith\u001b[39;00m tf\u001b[38;5;241m.\u001b[39mprofiler\u001b[38;5;241m.\u001b[39mexperimental\u001b[38;5;241m.\u001b[39mTrace(\n\u001b[0;32m   1735\u001b[0m     \u001b[38;5;124m\"\u001b[39m\u001b[38;5;124mtrain\u001b[39m\u001b[38;5;124m\"\u001b[39m,\n\u001b[0;32m   1736\u001b[0m     epoch_num\u001b[38;5;241m=\u001b[39mepoch,\n\u001b[1;32m   (...)\u001b[0m\n\u001b[0;32m   1739\u001b[0m     _r\u001b[38;5;241m=\u001b[39m\u001b[38;5;241m1\u001b[39m,\n\u001b[0;32m   1740\u001b[0m ):\n\u001b[0;32m   1741\u001b[0m     callbacks\u001b[38;5;241m.\u001b[39mon_train_batch_begin(step)\n\u001b[1;32m-> 1742\u001b[0m     tmp_logs \u001b[38;5;241m=\u001b[39m \u001b[38;5;28;43mself\u001b[39;49m\u001b[38;5;241;43m.\u001b[39;49m\u001b[43mtrain_function\u001b[49m\u001b[43m(\u001b[49m\u001b[43miterator\u001b[49m\u001b[43m)\u001b[49m\n\u001b[0;32m   1743\u001b[0m     \u001b[38;5;28;01mif\u001b[39;00m data_handler\u001b[38;5;241m.\u001b[39mshould_sync:\n\u001b[0;32m   1744\u001b[0m         context\u001b[38;5;241m.\u001b[39masync_wait()\n",
      "File \u001b[1;32m~\\AppData\\Roaming\\Python\\Python311\\site-packages\\tensorflow\\python\\util\\traceback_utils.py:150\u001b[0m, in \u001b[0;36mfilter_traceback.<locals>.error_handler\u001b[1;34m(*args, **kwargs)\u001b[0m\n\u001b[0;32m    148\u001b[0m filtered_tb \u001b[38;5;241m=\u001b[39m \u001b[38;5;28;01mNone\u001b[39;00m\n\u001b[0;32m    149\u001b[0m \u001b[38;5;28;01mtry\u001b[39;00m:\n\u001b[1;32m--> 150\u001b[0m   \u001b[38;5;28;01mreturn\u001b[39;00m \u001b[43mfn\u001b[49m\u001b[43m(\u001b[49m\u001b[38;5;241;43m*\u001b[39;49m\u001b[43margs\u001b[49m\u001b[43m,\u001b[49m\u001b[43m \u001b[49m\u001b[38;5;241;43m*\u001b[39;49m\u001b[38;5;241;43m*\u001b[39;49m\u001b[43mkwargs\u001b[49m\u001b[43m)\u001b[49m\n\u001b[0;32m    151\u001b[0m \u001b[38;5;28;01mexcept\u001b[39;00m \u001b[38;5;167;01mException\u001b[39;00m \u001b[38;5;28;01mas\u001b[39;00m e:\n\u001b[0;32m    152\u001b[0m   filtered_tb \u001b[38;5;241m=\u001b[39m _process_traceback_frames(e\u001b[38;5;241m.\u001b[39m__traceback__)\n",
      "File \u001b[1;32m~\\AppData\\Roaming\\Python\\Python311\\site-packages\\tensorflow\\python\\eager\\polymorphic_function\\polymorphic_function.py:825\u001b[0m, in \u001b[0;36mFunction.__call__\u001b[1;34m(self, *args, **kwds)\u001b[0m\n\u001b[0;32m    822\u001b[0m compiler \u001b[38;5;241m=\u001b[39m \u001b[38;5;124m\"\u001b[39m\u001b[38;5;124mxla\u001b[39m\u001b[38;5;124m\"\u001b[39m \u001b[38;5;28;01mif\u001b[39;00m \u001b[38;5;28mself\u001b[39m\u001b[38;5;241m.\u001b[39m_jit_compile \u001b[38;5;28;01melse\u001b[39;00m \u001b[38;5;124m\"\u001b[39m\u001b[38;5;124mnonXla\u001b[39m\u001b[38;5;124m\"\u001b[39m\n\u001b[0;32m    824\u001b[0m \u001b[38;5;28;01mwith\u001b[39;00m OptionalXlaContext(\u001b[38;5;28mself\u001b[39m\u001b[38;5;241m.\u001b[39m_jit_compile):\n\u001b[1;32m--> 825\u001b[0m   result \u001b[38;5;241m=\u001b[39m \u001b[38;5;28;43mself\u001b[39;49m\u001b[38;5;241;43m.\u001b[39;49m\u001b[43m_call\u001b[49m\u001b[43m(\u001b[49m\u001b[38;5;241;43m*\u001b[39;49m\u001b[43margs\u001b[49m\u001b[43m,\u001b[49m\u001b[43m \u001b[49m\u001b[38;5;241;43m*\u001b[39;49m\u001b[38;5;241;43m*\u001b[39;49m\u001b[43mkwds\u001b[49m\u001b[43m)\u001b[49m\n\u001b[0;32m    827\u001b[0m new_tracing_count \u001b[38;5;241m=\u001b[39m \u001b[38;5;28mself\u001b[39m\u001b[38;5;241m.\u001b[39mexperimental_get_tracing_count()\n\u001b[0;32m    828\u001b[0m without_tracing \u001b[38;5;241m=\u001b[39m (tracing_count \u001b[38;5;241m==\u001b[39m new_tracing_count)\n",
      "File \u001b[1;32m~\\AppData\\Roaming\\Python\\Python311\\site-packages\\tensorflow\\python\\eager\\polymorphic_function\\polymorphic_function.py:857\u001b[0m, in \u001b[0;36mFunction._call\u001b[1;34m(self, *args, **kwds)\u001b[0m\n\u001b[0;32m    854\u001b[0m   \u001b[38;5;28mself\u001b[39m\u001b[38;5;241m.\u001b[39m_lock\u001b[38;5;241m.\u001b[39mrelease()\n\u001b[0;32m    855\u001b[0m   \u001b[38;5;66;03m# In this case we have created variables on the first call, so we run the\u001b[39;00m\n\u001b[0;32m    856\u001b[0m   \u001b[38;5;66;03m# defunned version which is guaranteed to never create variables.\u001b[39;00m\n\u001b[1;32m--> 857\u001b[0m   \u001b[38;5;28;01mreturn\u001b[39;00m \u001b[38;5;28;43mself\u001b[39;49m\u001b[38;5;241;43m.\u001b[39;49m\u001b[43m_no_variable_creation_fn\u001b[49m\u001b[43m(\u001b[49m\u001b[38;5;241;43m*\u001b[39;49m\u001b[43margs\u001b[49m\u001b[43m,\u001b[49m\u001b[43m \u001b[49m\u001b[38;5;241;43m*\u001b[39;49m\u001b[38;5;241;43m*\u001b[39;49m\u001b[43mkwds\u001b[49m\u001b[43m)\u001b[49m  \u001b[38;5;66;03m# pylint: disable=not-callable\u001b[39;00m\n\u001b[0;32m    858\u001b[0m \u001b[38;5;28;01melif\u001b[39;00m \u001b[38;5;28mself\u001b[39m\u001b[38;5;241m.\u001b[39m_variable_creation_fn \u001b[38;5;129;01mis\u001b[39;00m \u001b[38;5;129;01mnot\u001b[39;00m \u001b[38;5;28;01mNone\u001b[39;00m:\n\u001b[0;32m    859\u001b[0m   \u001b[38;5;66;03m# Release the lock early so that multiple threads can perform the call\u001b[39;00m\n\u001b[0;32m    860\u001b[0m   \u001b[38;5;66;03m# in parallel.\u001b[39;00m\n\u001b[0;32m    861\u001b[0m   \u001b[38;5;28mself\u001b[39m\u001b[38;5;241m.\u001b[39m_lock\u001b[38;5;241m.\u001b[39mrelease()\n",
      "File \u001b[1;32m~\\AppData\\Roaming\\Python\\Python311\\site-packages\\tensorflow\\python\\eager\\polymorphic_function\\tracing_compiler.py:148\u001b[0m, in \u001b[0;36mTracingCompiler.__call__\u001b[1;34m(self, *args, **kwargs)\u001b[0m\n\u001b[0;32m    145\u001b[0m \u001b[38;5;28;01mwith\u001b[39;00m \u001b[38;5;28mself\u001b[39m\u001b[38;5;241m.\u001b[39m_lock:\n\u001b[0;32m    146\u001b[0m   (concrete_function,\n\u001b[0;32m    147\u001b[0m    filtered_flat_args) \u001b[38;5;241m=\u001b[39m \u001b[38;5;28mself\u001b[39m\u001b[38;5;241m.\u001b[39m_maybe_define_function(args, kwargs)\n\u001b[1;32m--> 148\u001b[0m \u001b[38;5;28;01mreturn\u001b[39;00m \u001b[43mconcrete_function\u001b[49m\u001b[38;5;241;43m.\u001b[39;49m\u001b[43m_call_flat\u001b[49m\u001b[43m(\u001b[49m\n\u001b[0;32m    149\u001b[0m \u001b[43m    \u001b[49m\u001b[43mfiltered_flat_args\u001b[49m\u001b[43m,\u001b[49m\u001b[43m \u001b[49m\u001b[43mcaptured_inputs\u001b[49m\u001b[38;5;241;43m=\u001b[39;49m\u001b[43mconcrete_function\u001b[49m\u001b[38;5;241;43m.\u001b[39;49m\u001b[43mcaptured_inputs\u001b[49m\u001b[43m)\u001b[49m\n",
      "File \u001b[1;32m~\\AppData\\Roaming\\Python\\Python311\\site-packages\\tensorflow\\python\\eager\\polymorphic_function\\monomorphic_function.py:1349\u001b[0m, in \u001b[0;36mConcreteFunction._call_flat\u001b[1;34m(self, args, captured_inputs)\u001b[0m\n\u001b[0;32m   1345\u001b[0m possible_gradient_type \u001b[38;5;241m=\u001b[39m gradients_util\u001b[38;5;241m.\u001b[39mPossibleTapeGradientTypes(args)\n\u001b[0;32m   1346\u001b[0m \u001b[38;5;28;01mif\u001b[39;00m (possible_gradient_type \u001b[38;5;241m==\u001b[39m gradients_util\u001b[38;5;241m.\u001b[39mPOSSIBLE_GRADIENT_TYPES_NONE\n\u001b[0;32m   1347\u001b[0m     \u001b[38;5;129;01mand\u001b[39;00m executing_eagerly):\n\u001b[0;32m   1348\u001b[0m   \u001b[38;5;66;03m# No tape is watching; skip to running the function.\u001b[39;00m\n\u001b[1;32m-> 1349\u001b[0m   \u001b[38;5;28;01mreturn\u001b[39;00m \u001b[38;5;28mself\u001b[39m\u001b[38;5;241m.\u001b[39m_build_call_outputs(\u001b[38;5;28;43mself\u001b[39;49m\u001b[38;5;241;43m.\u001b[39;49m\u001b[43m_inference_function\u001b[49m\u001b[43m(\u001b[49m\u001b[38;5;241;43m*\u001b[39;49m\u001b[43margs\u001b[49m\u001b[43m)\u001b[49m)\n\u001b[0;32m   1350\u001b[0m forward_backward \u001b[38;5;241m=\u001b[39m \u001b[38;5;28mself\u001b[39m\u001b[38;5;241m.\u001b[39m_select_forward_and_backward_functions(\n\u001b[0;32m   1351\u001b[0m     args,\n\u001b[0;32m   1352\u001b[0m     possible_gradient_type,\n\u001b[0;32m   1353\u001b[0m     executing_eagerly)\n\u001b[0;32m   1354\u001b[0m forward_function, args_with_tangents \u001b[38;5;241m=\u001b[39m forward_backward\u001b[38;5;241m.\u001b[39mforward()\n",
      "File \u001b[1;32m~\\AppData\\Roaming\\Python\\Python311\\site-packages\\tensorflow\\python\\eager\\polymorphic_function\\atomic_function.py:196\u001b[0m, in \u001b[0;36mAtomicFunction.__call__\u001b[1;34m(self, *args)\u001b[0m\n\u001b[0;32m    194\u001b[0m \u001b[38;5;28;01mwith\u001b[39;00m record\u001b[38;5;241m.\u001b[39mstop_recording():\n\u001b[0;32m    195\u001b[0m   \u001b[38;5;28;01mif\u001b[39;00m \u001b[38;5;28mself\u001b[39m\u001b[38;5;241m.\u001b[39m_bound_context\u001b[38;5;241m.\u001b[39mexecuting_eagerly():\n\u001b[1;32m--> 196\u001b[0m     outputs \u001b[38;5;241m=\u001b[39m \u001b[38;5;28;43mself\u001b[39;49m\u001b[38;5;241;43m.\u001b[39;49m\u001b[43m_bound_context\u001b[49m\u001b[38;5;241;43m.\u001b[39;49m\u001b[43mcall_function\u001b[49m\u001b[43m(\u001b[49m\n\u001b[0;32m    197\u001b[0m \u001b[43m        \u001b[49m\u001b[38;5;28;43mself\u001b[39;49m\u001b[38;5;241;43m.\u001b[39;49m\u001b[43mname\u001b[49m\u001b[43m,\u001b[49m\n\u001b[0;32m    198\u001b[0m \u001b[43m        \u001b[49m\u001b[38;5;28;43mlist\u001b[39;49m\u001b[43m(\u001b[49m\u001b[43margs\u001b[49m\u001b[43m)\u001b[49m\u001b[43m,\u001b[49m\n\u001b[0;32m    199\u001b[0m \u001b[43m        \u001b[49m\u001b[38;5;28;43mlen\u001b[39;49m\u001b[43m(\u001b[49m\u001b[38;5;28;43mself\u001b[39;49m\u001b[38;5;241;43m.\u001b[39;49m\u001b[43mfunction_type\u001b[49m\u001b[38;5;241;43m.\u001b[39;49m\u001b[43mflat_outputs\u001b[49m\u001b[43m)\u001b[49m\u001b[43m,\u001b[49m\n\u001b[0;32m    200\u001b[0m \u001b[43m    \u001b[49m\u001b[43m)\u001b[49m\n\u001b[0;32m    201\u001b[0m   \u001b[38;5;28;01melse\u001b[39;00m:\n\u001b[0;32m    202\u001b[0m     outputs \u001b[38;5;241m=\u001b[39m make_call_op_in_graph(\u001b[38;5;28mself\u001b[39m, \u001b[38;5;28mlist\u001b[39m(args))\n",
      "File \u001b[1;32m~\\AppData\\Roaming\\Python\\Python311\\site-packages\\tensorflow\\python\\eager\\context.py:1457\u001b[0m, in \u001b[0;36mContext.call_function\u001b[1;34m(self, name, tensor_inputs, num_outputs)\u001b[0m\n\u001b[0;32m   1455\u001b[0m cancellation_context \u001b[38;5;241m=\u001b[39m cancellation\u001b[38;5;241m.\u001b[39mcontext()\n\u001b[0;32m   1456\u001b[0m \u001b[38;5;28;01mif\u001b[39;00m cancellation_context \u001b[38;5;129;01mis\u001b[39;00m \u001b[38;5;28;01mNone\u001b[39;00m:\n\u001b[1;32m-> 1457\u001b[0m   outputs \u001b[38;5;241m=\u001b[39m \u001b[43mexecute\u001b[49m\u001b[38;5;241;43m.\u001b[39;49m\u001b[43mexecute\u001b[49m\u001b[43m(\u001b[49m\n\u001b[0;32m   1458\u001b[0m \u001b[43m      \u001b[49m\u001b[43mname\u001b[49m\u001b[38;5;241;43m.\u001b[39;49m\u001b[43mdecode\u001b[49m\u001b[43m(\u001b[49m\u001b[38;5;124;43m\"\u001b[39;49m\u001b[38;5;124;43mutf-8\u001b[39;49m\u001b[38;5;124;43m\"\u001b[39;49m\u001b[43m)\u001b[49m\u001b[43m,\u001b[49m\n\u001b[0;32m   1459\u001b[0m \u001b[43m      \u001b[49m\u001b[43mnum_outputs\u001b[49m\u001b[38;5;241;43m=\u001b[39;49m\u001b[43mnum_outputs\u001b[49m\u001b[43m,\u001b[49m\n\u001b[0;32m   1460\u001b[0m \u001b[43m      \u001b[49m\u001b[43minputs\u001b[49m\u001b[38;5;241;43m=\u001b[39;49m\u001b[43mtensor_inputs\u001b[49m\u001b[43m,\u001b[49m\n\u001b[0;32m   1461\u001b[0m \u001b[43m      \u001b[49m\u001b[43mattrs\u001b[49m\u001b[38;5;241;43m=\u001b[39;49m\u001b[43mattrs\u001b[49m\u001b[43m,\u001b[49m\n\u001b[0;32m   1462\u001b[0m \u001b[43m      \u001b[49m\u001b[43mctx\u001b[49m\u001b[38;5;241;43m=\u001b[39;49m\u001b[38;5;28;43mself\u001b[39;49m\u001b[43m,\u001b[49m\n\u001b[0;32m   1463\u001b[0m \u001b[43m  \u001b[49m\u001b[43m)\u001b[49m\n\u001b[0;32m   1464\u001b[0m \u001b[38;5;28;01melse\u001b[39;00m:\n\u001b[0;32m   1465\u001b[0m   outputs \u001b[38;5;241m=\u001b[39m execute\u001b[38;5;241m.\u001b[39mexecute_with_cancellation(\n\u001b[0;32m   1466\u001b[0m       name\u001b[38;5;241m.\u001b[39mdecode(\u001b[38;5;124m\"\u001b[39m\u001b[38;5;124mutf-8\u001b[39m\u001b[38;5;124m\"\u001b[39m),\n\u001b[0;32m   1467\u001b[0m       num_outputs\u001b[38;5;241m=\u001b[39mnum_outputs,\n\u001b[1;32m   (...)\u001b[0m\n\u001b[0;32m   1471\u001b[0m       cancellation_manager\u001b[38;5;241m=\u001b[39mcancellation_context,\n\u001b[0;32m   1472\u001b[0m   )\n",
      "File \u001b[1;32m~\\AppData\\Roaming\\Python\\Python311\\site-packages\\tensorflow\\python\\eager\\execute.py:53\u001b[0m, in \u001b[0;36mquick_execute\u001b[1;34m(op_name, num_outputs, inputs, attrs, ctx, name)\u001b[0m\n\u001b[0;32m     51\u001b[0m \u001b[38;5;28;01mtry\u001b[39;00m:\n\u001b[0;32m     52\u001b[0m   ctx\u001b[38;5;241m.\u001b[39mensure_initialized()\n\u001b[1;32m---> 53\u001b[0m   tensors \u001b[38;5;241m=\u001b[39m \u001b[43mpywrap_tfe\u001b[49m\u001b[38;5;241;43m.\u001b[39;49m\u001b[43mTFE_Py_Execute\u001b[49m\u001b[43m(\u001b[49m\u001b[43mctx\u001b[49m\u001b[38;5;241;43m.\u001b[39;49m\u001b[43m_handle\u001b[49m\u001b[43m,\u001b[49m\u001b[43m \u001b[49m\u001b[43mdevice_name\u001b[49m\u001b[43m,\u001b[49m\u001b[43m \u001b[49m\u001b[43mop_name\u001b[49m\u001b[43m,\u001b[49m\n\u001b[0;32m     54\u001b[0m \u001b[43m                                      \u001b[49m\u001b[43minputs\u001b[49m\u001b[43m,\u001b[49m\u001b[43m \u001b[49m\u001b[43mattrs\u001b[49m\u001b[43m,\u001b[49m\u001b[43m \u001b[49m\u001b[43mnum_outputs\u001b[49m\u001b[43m)\u001b[49m\n\u001b[0;32m     55\u001b[0m \u001b[38;5;28;01mexcept\u001b[39;00m core\u001b[38;5;241m.\u001b[39m_NotOkStatusException \u001b[38;5;28;01mas\u001b[39;00m e:\n\u001b[0;32m     56\u001b[0m   \u001b[38;5;28;01mif\u001b[39;00m name \u001b[38;5;129;01mis\u001b[39;00m \u001b[38;5;129;01mnot\u001b[39;00m \u001b[38;5;28;01mNone\u001b[39;00m:\n",
      "\u001b[1;31mKeyboardInterrupt\u001b[0m: "
     ]
    }
   ],
   "source": [
    "model.fit(x_train,y_train,epochs=100,validation_data=(x_test,y_test))"
   ]
  },
  {
   "cell_type": "code",
   "execution_count": 83,
   "id": "00ae63a8",
   "metadata": {},
   "outputs": [
    {
     "data": {
      "text/html": [
       "<div>\n",
       "<style scoped>\n",
       "    .dataframe tbody tr th:only-of-type {\n",
       "        vertical-align: middle;\n",
       "    }\n",
       "\n",
       "    .dataframe tbody tr th {\n",
       "        vertical-align: top;\n",
       "    }\n",
       "\n",
       "    .dataframe thead th {\n",
       "        text-align: right;\n",
       "    }\n",
       "</style>\n",
       "<table border=\"1\" class=\"dataframe\">\n",
       "  <thead>\n",
       "    <tr style=\"text-align: right;\">\n",
       "      <th></th>\n",
       "      <th>0</th>\n",
       "      <th>1</th>\n",
       "      <th>2</th>\n",
       "      <th>3</th>\n",
       "      <th>4</th>\n",
       "      <th>5</th>\n",
       "      <th>6</th>\n",
       "      <th>7</th>\n",
       "      <th>8</th>\n",
       "      <th>9</th>\n",
       "      <th>...</th>\n",
       "      <th>90</th>\n",
       "      <th>91</th>\n",
       "      <th>92</th>\n",
       "      <th>93</th>\n",
       "      <th>94</th>\n",
       "      <th>95</th>\n",
       "      <th>96</th>\n",
       "      <th>97</th>\n",
       "      <th>98</th>\n",
       "      <th>99</th>\n",
       "    </tr>\n",
       "  </thead>\n",
       "  <tbody>\n",
       "    <tr>\n",
       "      <th>5432</th>\n",
       "      <td>0.319345</td>\n",
       "      <td>0.216051</td>\n",
       "      <td>0.488394</td>\n",
       "      <td>0.769706</td>\n",
       "      <td>-0.074444</td>\n",
       "      <td>0.322269</td>\n",
       "      <td>0.023629</td>\n",
       "      <td>-0.751429</td>\n",
       "      <td>-0.325741</td>\n",
       "      <td>-0.158208</td>\n",
       "      <td>...</td>\n",
       "      <td>0.153516</td>\n",
       "      <td>0.497290</td>\n",
       "      <td>-0.123050</td>\n",
       "      <td>0.100872</td>\n",
       "      <td>0.656913</td>\n",
       "      <td>-0.169846</td>\n",
       "      <td>-0.576972</td>\n",
       "      <td>0.452521</td>\n",
       "      <td>-0.105086</td>\n",
       "      <td>-0.046068</td>\n",
       "    </tr>\n",
       "    <tr>\n",
       "      <th>14615</th>\n",
       "      <td>0.311759</td>\n",
       "      <td>0.917897</td>\n",
       "      <td>0.088555</td>\n",
       "      <td>0.587045</td>\n",
       "      <td>-0.184994</td>\n",
       "      <td>-0.305074</td>\n",
       "      <td>-0.327234</td>\n",
       "      <td>-0.058998</td>\n",
       "      <td>0.093634</td>\n",
       "      <td>0.173844</td>\n",
       "      <td>...</td>\n",
       "      <td>0.284934</td>\n",
       "      <td>-0.104547</td>\n",
       "      <td>0.006587</td>\n",
       "      <td>0.291495</td>\n",
       "      <td>-0.238838</td>\n",
       "      <td>-0.148068</td>\n",
       "      <td>-0.434172</td>\n",
       "      <td>0.459087</td>\n",
       "      <td>-0.494190</td>\n",
       "      <td>0.251719</td>\n",
       "    </tr>\n",
       "    <tr>\n",
       "      <th>12355</th>\n",
       "      <td>0.735314</td>\n",
       "      <td>-0.529947</td>\n",
       "      <td>0.450254</td>\n",
       "      <td>0.556916</td>\n",
       "      <td>-1.293685</td>\n",
       "      <td>-0.731561</td>\n",
       "      <td>0.191941</td>\n",
       "      <td>-0.383599</td>\n",
       "      <td>-0.639428</td>\n",
       "      <td>-0.870939</td>\n",
       "      <td>...</td>\n",
       "      <td>-0.039420</td>\n",
       "      <td>0.914096</td>\n",
       "      <td>0.992610</td>\n",
       "      <td>-0.124573</td>\n",
       "      <td>0.121101</td>\n",
       "      <td>-1.446060</td>\n",
       "      <td>-0.466249</td>\n",
       "      <td>0.680397</td>\n",
       "      <td>-0.100907</td>\n",
       "      <td>-0.763873</td>\n",
       "    </tr>\n",
       "    <tr>\n",
       "      <th>2686</th>\n",
       "      <td>0.331402</td>\n",
       "      <td>-0.031913</td>\n",
       "      <td>0.126572</td>\n",
       "      <td>0.181878</td>\n",
       "      <td>0.122649</td>\n",
       "      <td>-0.144408</td>\n",
       "      <td>0.082146</td>\n",
       "      <td>-0.184459</td>\n",
       "      <td>-0.284526</td>\n",
       "      <td>-0.253955</td>\n",
       "      <td>...</td>\n",
       "      <td>-0.217537</td>\n",
       "      <td>0.164581</td>\n",
       "      <td>-0.105804</td>\n",
       "      <td>0.418111</td>\n",
       "      <td>0.619561</td>\n",
       "      <td>0.056181</td>\n",
       "      <td>-0.469440</td>\n",
       "      <td>0.371183</td>\n",
       "      <td>0.112078</td>\n",
       "      <td>-0.102247</td>\n",
       "    </tr>\n",
       "    <tr>\n",
       "      <th>730</th>\n",
       "      <td>0.879149</td>\n",
       "      <td>0.252238</td>\n",
       "      <td>-0.047569</td>\n",
       "      <td>-0.289922</td>\n",
       "      <td>-0.280536</td>\n",
       "      <td>-0.076051</td>\n",
       "      <td>-0.229166</td>\n",
       "      <td>-0.730744</td>\n",
       "      <td>0.109512</td>\n",
       "      <td>0.269428</td>\n",
       "      <td>...</td>\n",
       "      <td>-0.974169</td>\n",
       "      <td>0.913256</td>\n",
       "      <td>0.707616</td>\n",
       "      <td>-0.654427</td>\n",
       "      <td>-0.014254</td>\n",
       "      <td>-0.776108</td>\n",
       "      <td>-0.994772</td>\n",
       "      <td>1.529997</td>\n",
       "      <td>-0.532820</td>\n",
       "      <td>0.012829</td>\n",
       "    </tr>\n",
       "  </tbody>\n",
       "</table>\n",
       "<p>5 rows × 100 columns</p>\n",
       "</div>"
      ],
      "text/plain": [
       "             0         1         2         3         4         5         6   \\\n",
       "5432   0.319345  0.216051  0.488394  0.769706 -0.074444  0.322269  0.023629   \n",
       "14615  0.311759  0.917897  0.088555  0.587045 -0.184994 -0.305074 -0.327234   \n",
       "12355  0.735314 -0.529947  0.450254  0.556916 -1.293685 -0.731561  0.191941   \n",
       "2686   0.331402 -0.031913  0.126572  0.181878  0.122649 -0.144408  0.082146   \n",
       "730    0.879149  0.252238 -0.047569 -0.289922 -0.280536 -0.076051 -0.229166   \n",
       "\n",
       "             7         8         9   ...        90        91        92  \\\n",
       "5432  -0.751429 -0.325741 -0.158208  ...  0.153516  0.497290 -0.123050   \n",
       "14615 -0.058998  0.093634  0.173844  ...  0.284934 -0.104547  0.006587   \n",
       "12355 -0.383599 -0.639428 -0.870939  ... -0.039420  0.914096  0.992610   \n",
       "2686  -0.184459 -0.284526 -0.253955  ... -0.217537  0.164581 -0.105804   \n",
       "730   -0.730744  0.109512  0.269428  ... -0.974169  0.913256  0.707616   \n",
       "\n",
       "             93        94        95        96        97        98        99  \n",
       "5432   0.100872  0.656913 -0.169846 -0.576972  0.452521 -0.105086 -0.046068  \n",
       "14615  0.291495 -0.238838 -0.148068 -0.434172  0.459087 -0.494190  0.251719  \n",
       "12355 -0.124573  0.121101 -1.446060 -0.466249  0.680397 -0.100907 -0.763873  \n",
       "2686   0.418111  0.619561  0.056181 -0.469440  0.371183  0.112078 -0.102247  \n",
       "730   -0.654427 -0.014254 -0.776108 -0.994772  1.529997 -0.532820  0.012829  \n",
       "\n",
       "[5 rows x 100 columns]"
      ]
     },
     "execution_count": 83,
     "metadata": {},
     "output_type": "execute_result"
    }
   ],
   "source": [
    "x_train.head()"
   ]
  },
  {
   "cell_type": "markdown",
   "id": "25ef361b",
   "metadata": {},
   "source": [
    "## Deep Learning Models"
   ]
  },
  {
   "cell_type": "code",
   "execution_count": 71,
   "id": "e7057e49",
   "metadata": {},
   "outputs": [],
   "source": [
    "model_1 = keras.Sequential([\n",
    "    keras.layers.Dense(128, activation='relu', input_shape=(10000,)),  # Adjust the number of units as needed\n",
    "    keras.layers.Dropout(0.5),  # Optional dropout layer for regularization\n",
    "    keras.layers.Dense(64, activation='relu'),  # Additional layers can be added as needed\n",
    "    keras.layers.Dropout(0.5),  # Optional dropout layer for regularization\n",
    "    keras.layers.Dense(1, activation='sigmoid')  # Binary classification output (0 or 1)\n",
    "])\n"
   ]
  },
  {
   "cell_type": "code",
   "execution_count": 72,
   "id": "8d84f48c",
   "metadata": {},
   "outputs": [],
   "source": [
    "model_1.compile(optimizer='adam', loss='binary_crossentropy', metrics=['accuracy'])"
   ]
  },
  {
   "cell_type": "code",
   "execution_count": 73,
   "id": "02296f34",
   "metadata": {},
   "outputs": [
    {
     "name": "stdout",
     "output_type": "stream",
     "text": [
      "Epoch 1/5\n",
      "208/208 [==============================] - 18s 43ms/step - loss: 0.2905 - accuracy: 0.8897 - val_loss: 0.1530 - val_accuracy: 0.9539\n",
      "Epoch 2/5\n",
      "208/208 [==============================] - 7s 35ms/step - loss: 0.1050 - accuracy: 0.9684 - val_loss: 0.1377 - val_accuracy: 0.9588\n",
      "Epoch 3/5\n",
      "208/208 [==============================] - 7s 35ms/step - loss: 0.0550 - accuracy: 0.9832 - val_loss: 0.1547 - val_accuracy: 0.9603\n",
      "Epoch 4/5\n",
      "208/208 [==============================] - 7s 36ms/step - loss: 0.0337 - accuracy: 0.9915 - val_loss: 0.1719 - val_accuracy: 0.9554\n",
      "Epoch 5/5\n",
      "208/208 [==============================] - 9s 42ms/step - loss: 0.0200 - accuracy: 0.9944 - val_loss: 0.1947 - val_accuracy: 0.9570\n"
     ]
    },
    {
     "data": {
      "text/plain": [
       "<keras.src.callbacks.History at 0x214e2c71310>"
      ]
     },
     "execution_count": 73,
     "metadata": {},
     "output_type": "execute_result"
    }
   ],
   "source": [
    "model_1.fit(cv_x_train, y_train, epochs=5, batch_size=64, validation_split=0.2)"
   ]
  },
  {
   "cell_type": "code",
   "execution_count": 77,
   "id": "47c62abc",
   "metadata": {},
   "outputs": [],
   "source": [
    "model_2 = keras.Sequential([\n",
    "    keras.layers.Embedding(input_dim=10000, output_dim=256, input_length=10000),\n",
    "    keras.layers.GlobalAveragePooling1D(),  # Use GlobalAveragePooling1D instead of Flatten for variable-length input\n",
    "    keras.layers.Dense(128, activation='relu'),\n",
    "    keras.layers.Dropout(0.2),\n",
    "    keras.layers.Dense(64, activation='relu'),\n",
    "    keras.layers.Dropout(0.2),\n",
    "    keras.layers.Dense(1, activation='sigmoid')\n",
    "])"
   ]
  },
  {
   "cell_type": "code",
   "execution_count": 78,
   "id": "266e967f",
   "metadata": {},
   "outputs": [],
   "source": [
    "model_2.compile(optimizer='adam', loss='binary_crossentropy', metrics=['accuracy'])"
   ]
  },
  {
   "cell_type": "code",
   "execution_count": 79,
   "id": "18479c9c",
   "metadata": {},
   "outputs": [
    {
     "name": "stdout",
     "output_type": "stream",
     "text": [
      "Model: \"sequential_8\"\n",
      "_________________________________________________________________\n",
      " Layer (type)                Output Shape              Param #   \n",
      "=================================================================\n",
      " embedding_4 (Embedding)     (None, 10000, 256)        2560000   \n",
      "                                                                 \n",
      " global_average_pooling1d_4  (None, 256)               0         \n",
      "  (GlobalAveragePooling1D)                                       \n",
      "                                                                 \n",
      " dense_24 (Dense)            (None, 128)               32896     \n",
      "                                                                 \n",
      " dropout_16 (Dropout)        (None, 128)               0         \n",
      "                                                                 \n",
      " dense_25 (Dense)            (None, 64)                8256      \n",
      "                                                                 \n",
      " dropout_17 (Dropout)        (None, 64)                0         \n",
      "                                                                 \n",
      " dense_26 (Dense)            (None, 1)                 65        \n",
      "                                                                 \n",
      "=================================================================\n",
      "Total params: 2601217 (9.92 MB)\n",
      "Trainable params: 2601217 (9.92 MB)\n",
      "Non-trainable params: 0 (0.00 Byte)\n",
      "_________________________________________________________________\n"
     ]
    }
   ],
   "source": [
    "model_2.summary()"
   ]
  },
  {
   "cell_type": "code",
   "execution_count": 81,
   "id": "f624fcd3",
   "metadata": {},
   "outputs": [],
   "source": [
    "model_2.fit(cv_x_train, y_train, epochs=5, batch_size=64, validation_split=0.2)"
   ]
  }
 ],
 "metadata": {
  "kernelspec": {
   "display_name": "Python 3 (ipykernel)",
   "language": "python",
   "name": "python3"
  },
  "language_info": {
   "codemirror_mode": {
    "name": "ipython",
    "version": 3
   },
   "file_extension": ".py",
   "mimetype": "text/x-python",
   "name": "python",
   "nbconvert_exporter": "python",
   "pygments_lexer": "ipython3",
   "version": "3.11.4"
  }
 },
 "nbformat": 4,
 "nbformat_minor": 5
}
