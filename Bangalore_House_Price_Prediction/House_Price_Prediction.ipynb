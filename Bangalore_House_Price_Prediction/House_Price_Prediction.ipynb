{
 "cells": [
  {
   "cell_type": "code",
   "execution_count": 87,
   "id": "6fc9fa99",
   "metadata": {},
   "outputs": [],
   "source": [
    "import pandas as pd\n",
    "import numpy as np\n",
    "import matplotlib.pyplot as plt\n",
    "from sklearn.metrics import r2_score,mean_absolute_error,mean_absolute_percentage_error,mean_squared_error\n",
    "from sklearn.model_selection import train_test_split,cross_val_score\n",
    "from sklearn.linear_model import LinearRegression,Lasso,Ridge\n",
    "from sklearn.preprocessing import OneHotEncoder,StandardScaler,OrdinalEncoder\n",
    "from sklearn.compose import make_column_transformer,ColumnTransformer\n",
    "from sklearn.pipeline import make_pipeline,Pipeline\n",
    "import seaborn as sns\n",
    "from sklearn.tree import DecisionTreeRegressor\n",
    "from sklearn.ensemble import RandomForestRegressor\n",
    "import regex as re\n",
    "from tensorflow.keras.layers import Dense\n",
    "from tensorflow.keras.models import Sequential\n",
    "from tensorflow.keras.models import Model\n",
    "%matplotlib inline"
   ]
  },
  {
   "cell_type": "code",
   "execution_count": 2,
   "id": "8458bf0a",
   "metadata": {},
   "outputs": [],
   "source": [
    "data = pd.read_csv('Bengaluru_House_Data.csv')"
   ]
  },
  {
   "cell_type": "code",
   "execution_count": 3,
   "id": "5d126785",
   "metadata": {},
   "outputs": [
    {
     "data": {
      "text/html": [
       "<div>\n",
       "<style scoped>\n",
       "    .dataframe tbody tr th:only-of-type {\n",
       "        vertical-align: middle;\n",
       "    }\n",
       "\n",
       "    .dataframe tbody tr th {\n",
       "        vertical-align: top;\n",
       "    }\n",
       "\n",
       "    .dataframe thead th {\n",
       "        text-align: right;\n",
       "    }\n",
       "</style>\n",
       "<table border=\"1\" class=\"dataframe\">\n",
       "  <thead>\n",
       "    <tr style=\"text-align: right;\">\n",
       "      <th></th>\n",
       "      <th>area_type</th>\n",
       "      <th>availability</th>\n",
       "      <th>location</th>\n",
       "      <th>size</th>\n",
       "      <th>society</th>\n",
       "      <th>total_sqft</th>\n",
       "      <th>bath</th>\n",
       "      <th>balcony</th>\n",
       "      <th>price</th>\n",
       "    </tr>\n",
       "  </thead>\n",
       "  <tbody>\n",
       "    <tr>\n",
       "      <th>0</th>\n",
       "      <td>Super built-up  Area</td>\n",
       "      <td>19-Dec</td>\n",
       "      <td>Electronic City Phase II</td>\n",
       "      <td>2 BHK</td>\n",
       "      <td>Coomee</td>\n",
       "      <td>1056</td>\n",
       "      <td>2.0</td>\n",
       "      <td>1.0</td>\n",
       "      <td>39.07</td>\n",
       "    </tr>\n",
       "    <tr>\n",
       "      <th>1</th>\n",
       "      <td>Plot  Area</td>\n",
       "      <td>Ready To Move</td>\n",
       "      <td>Chikka Tirupathi</td>\n",
       "      <td>4 Bedroom</td>\n",
       "      <td>Theanmp</td>\n",
       "      <td>2600</td>\n",
       "      <td>5.0</td>\n",
       "      <td>3.0</td>\n",
       "      <td>120.00</td>\n",
       "    </tr>\n",
       "    <tr>\n",
       "      <th>2</th>\n",
       "      <td>Built-up  Area</td>\n",
       "      <td>Ready To Move</td>\n",
       "      <td>Uttarahalli</td>\n",
       "      <td>3 BHK</td>\n",
       "      <td>NaN</td>\n",
       "      <td>1440</td>\n",
       "      <td>2.0</td>\n",
       "      <td>3.0</td>\n",
       "      <td>62.00</td>\n",
       "    </tr>\n",
       "    <tr>\n",
       "      <th>3</th>\n",
       "      <td>Super built-up  Area</td>\n",
       "      <td>Ready To Move</td>\n",
       "      <td>Lingadheeranahalli</td>\n",
       "      <td>3 BHK</td>\n",
       "      <td>Soiewre</td>\n",
       "      <td>1521</td>\n",
       "      <td>3.0</td>\n",
       "      <td>1.0</td>\n",
       "      <td>95.00</td>\n",
       "    </tr>\n",
       "    <tr>\n",
       "      <th>4</th>\n",
       "      <td>Super built-up  Area</td>\n",
       "      <td>Ready To Move</td>\n",
       "      <td>Kothanur</td>\n",
       "      <td>2 BHK</td>\n",
       "      <td>NaN</td>\n",
       "      <td>1200</td>\n",
       "      <td>2.0</td>\n",
       "      <td>1.0</td>\n",
       "      <td>51.00</td>\n",
       "    </tr>\n",
       "    <tr>\n",
       "      <th>...</th>\n",
       "      <td>...</td>\n",
       "      <td>...</td>\n",
       "      <td>...</td>\n",
       "      <td>...</td>\n",
       "      <td>...</td>\n",
       "      <td>...</td>\n",
       "      <td>...</td>\n",
       "      <td>...</td>\n",
       "      <td>...</td>\n",
       "    </tr>\n",
       "    <tr>\n",
       "      <th>13315</th>\n",
       "      <td>Built-up  Area</td>\n",
       "      <td>Ready To Move</td>\n",
       "      <td>Whitefield</td>\n",
       "      <td>5 Bedroom</td>\n",
       "      <td>ArsiaEx</td>\n",
       "      <td>3453</td>\n",
       "      <td>4.0</td>\n",
       "      <td>0.0</td>\n",
       "      <td>231.00</td>\n",
       "    </tr>\n",
       "    <tr>\n",
       "      <th>13316</th>\n",
       "      <td>Super built-up  Area</td>\n",
       "      <td>Ready To Move</td>\n",
       "      <td>Richards Town</td>\n",
       "      <td>4 BHK</td>\n",
       "      <td>NaN</td>\n",
       "      <td>3600</td>\n",
       "      <td>5.0</td>\n",
       "      <td>NaN</td>\n",
       "      <td>400.00</td>\n",
       "    </tr>\n",
       "    <tr>\n",
       "      <th>13317</th>\n",
       "      <td>Built-up  Area</td>\n",
       "      <td>Ready To Move</td>\n",
       "      <td>Raja Rajeshwari Nagar</td>\n",
       "      <td>2 BHK</td>\n",
       "      <td>Mahla T</td>\n",
       "      <td>1141</td>\n",
       "      <td>2.0</td>\n",
       "      <td>1.0</td>\n",
       "      <td>60.00</td>\n",
       "    </tr>\n",
       "    <tr>\n",
       "      <th>13318</th>\n",
       "      <td>Super built-up  Area</td>\n",
       "      <td>18-Jun</td>\n",
       "      <td>Padmanabhanagar</td>\n",
       "      <td>4 BHK</td>\n",
       "      <td>SollyCl</td>\n",
       "      <td>4689</td>\n",
       "      <td>4.0</td>\n",
       "      <td>1.0</td>\n",
       "      <td>488.00</td>\n",
       "    </tr>\n",
       "    <tr>\n",
       "      <th>13319</th>\n",
       "      <td>Super built-up  Area</td>\n",
       "      <td>Ready To Move</td>\n",
       "      <td>Doddathoguru</td>\n",
       "      <td>1 BHK</td>\n",
       "      <td>NaN</td>\n",
       "      <td>550</td>\n",
       "      <td>1.0</td>\n",
       "      <td>1.0</td>\n",
       "      <td>17.00</td>\n",
       "    </tr>\n",
       "  </tbody>\n",
       "</table>\n",
       "<p>13320 rows × 9 columns</p>\n",
       "</div>"
      ],
      "text/plain": [
       "                  area_type   availability                  location  \\\n",
       "0      Super built-up  Area         19-Dec  Electronic City Phase II   \n",
       "1                Plot  Area  Ready To Move          Chikka Tirupathi   \n",
       "2            Built-up  Area  Ready To Move               Uttarahalli   \n",
       "3      Super built-up  Area  Ready To Move        Lingadheeranahalli   \n",
       "4      Super built-up  Area  Ready To Move                  Kothanur   \n",
       "...                     ...            ...                       ...   \n",
       "13315        Built-up  Area  Ready To Move                Whitefield   \n",
       "13316  Super built-up  Area  Ready To Move             Richards Town   \n",
       "13317        Built-up  Area  Ready To Move     Raja Rajeshwari Nagar   \n",
       "13318  Super built-up  Area         18-Jun           Padmanabhanagar   \n",
       "13319  Super built-up  Area  Ready To Move              Doddathoguru   \n",
       "\n",
       "            size  society total_sqft  bath  balcony   price  \n",
       "0          2 BHK  Coomee        1056   2.0      1.0   39.07  \n",
       "1      4 Bedroom  Theanmp       2600   5.0      3.0  120.00  \n",
       "2          3 BHK      NaN       1440   2.0      3.0   62.00  \n",
       "3          3 BHK  Soiewre       1521   3.0      1.0   95.00  \n",
       "4          2 BHK      NaN       1200   2.0      1.0   51.00  \n",
       "...          ...      ...        ...   ...      ...     ...  \n",
       "13315  5 Bedroom  ArsiaEx       3453   4.0      0.0  231.00  \n",
       "13316      4 BHK      NaN       3600   5.0      NaN  400.00  \n",
       "13317      2 BHK  Mahla T       1141   2.0      1.0   60.00  \n",
       "13318      4 BHK  SollyCl       4689   4.0      1.0  488.00  \n",
       "13319      1 BHK      NaN        550   1.0      1.0   17.00  \n",
       "\n",
       "[13320 rows x 9 columns]"
      ]
     },
     "execution_count": 3,
     "metadata": {},
     "output_type": "execute_result"
    }
   ],
   "source": [
    "data"
   ]
  },
  {
   "cell_type": "code",
   "execution_count": 4,
   "id": "30e4f939",
   "metadata": {},
   "outputs": [
    {
     "name": "stdout",
     "output_type": "stream",
     "text": [
      "<class 'pandas.core.frame.DataFrame'>\n",
      "RangeIndex: 13320 entries, 0 to 13319\n",
      "Data columns (total 9 columns):\n",
      " #   Column        Non-Null Count  Dtype  \n",
      "---  ------        --------------  -----  \n",
      " 0   area_type     13320 non-null  object \n",
      " 1   availability  13320 non-null  object \n",
      " 2   location      13319 non-null  object \n",
      " 3   size          13304 non-null  object \n",
      " 4   society       7818 non-null   object \n",
      " 5   total_sqft    13320 non-null  object \n",
      " 6   bath          13247 non-null  float64\n",
      " 7   balcony       12711 non-null  float64\n",
      " 8   price         13320 non-null  float64\n",
      "dtypes: float64(3), object(6)\n",
      "memory usage: 936.7+ KB\n"
     ]
    }
   ],
   "source": [
    "data.info()"
   ]
  },
  {
   "cell_type": "code",
   "execution_count": 5,
   "id": "6e4b2348",
   "metadata": {},
   "outputs": [
    {
     "name": "stdout",
     "output_type": "stream",
     "text": [
      "area_type\n",
      "Super built-up  Area    8790\n",
      "Built-up  Area          2418\n",
      "Plot  Area              2025\n",
      "Carpet  Area              87\n",
      "Name: count, dtype: int64\n",
      "**************************************************\n",
      "availability\n",
      "Ready To Move    10581\n",
      "18-Dec             307\n",
      "18-May             295\n",
      "18-Apr             271\n",
      "18-Aug             200\n",
      "                 ...  \n",
      "15-Aug               1\n",
      "17-Jan               1\n",
      "16-Nov               1\n",
      "16-Jan               1\n",
      "14-Jul               1\n",
      "Name: count, Length: 81, dtype: int64\n",
      "**************************************************\n",
      "location\n",
      "Whitefield                        540\n",
      "Sarjapur  Road                    399\n",
      "Electronic City                   302\n",
      "Kanakpura Road                    273\n",
      "Thanisandra                       234\n",
      "                                 ... \n",
      "Bapuji Layout                       1\n",
      "1st Stage Radha Krishna Layout      1\n",
      "BEML Layout 5th stage               1\n",
      "singapura paradise                  1\n",
      "Abshot Layout                       1\n",
      "Name: count, Length: 1305, dtype: int64\n",
      "**************************************************\n",
      "size\n",
      "2 BHK         5199\n",
      "3 BHK         4310\n",
      "4 Bedroom      826\n",
      "4 BHK          591\n",
      "3 Bedroom      547\n",
      "1 BHK          538\n",
      "2 Bedroom      329\n",
      "5 Bedroom      297\n",
      "6 Bedroom      191\n",
      "1 Bedroom      105\n",
      "8 Bedroom       84\n",
      "7 Bedroom       83\n",
      "5 BHK           59\n",
      "9 Bedroom       46\n",
      "6 BHK           30\n",
      "7 BHK           17\n",
      "1 RK            13\n",
      "10 Bedroom      12\n",
      "9 BHK            8\n",
      "8 BHK            5\n",
      "11 BHK           2\n",
      "11 Bedroom       2\n",
      "10 BHK           2\n",
      "14 BHK           1\n",
      "13 BHK           1\n",
      "12 Bedroom       1\n",
      "27 BHK           1\n",
      "43 Bedroom       1\n",
      "16 BHK           1\n",
      "19 BHK           1\n",
      "18 Bedroom       1\n",
      "Name: count, dtype: int64\n",
      "**************************************************\n",
      "society\n",
      "GrrvaGr    80\n",
      "PrarePa    76\n",
      "Sryalan    59\n",
      "Prtates    59\n",
      "GMown E    56\n",
      "           ..\n",
      "Amionce     1\n",
      "JaghtDe     1\n",
      "Jauraht     1\n",
      "Brity U     1\n",
      "RSntsAp     1\n",
      "Name: count, Length: 2688, dtype: int64\n",
      "**************************************************\n",
      "total_sqft\n",
      "1200    843\n",
      "1100    221\n",
      "1500    205\n",
      "2400    196\n",
      "600     180\n",
      "       ... \n",
      "3580      1\n",
      "2461      1\n",
      "1437      1\n",
      "2155      1\n",
      "4689      1\n",
      "Name: count, Length: 2117, dtype: int64\n",
      "**************************************************\n",
      "bath\n",
      "2.0     6908\n",
      "3.0     3286\n",
      "4.0     1226\n",
      "1.0      788\n",
      "5.0      524\n",
      "6.0      273\n",
      "7.0      102\n",
      "8.0       64\n",
      "9.0       43\n",
      "10.0      13\n",
      "12.0       7\n",
      "13.0       3\n",
      "11.0       3\n",
      "16.0       2\n",
      "27.0       1\n",
      "40.0       1\n",
      "15.0       1\n",
      "14.0       1\n",
      "18.0       1\n",
      "Name: count, dtype: int64\n",
      "**************************************************\n",
      "balcony\n",
      "2.0    5113\n",
      "1.0    4897\n",
      "3.0    1672\n",
      "0.0    1029\n",
      "Name: count, dtype: int64\n",
      "**************************************************\n",
      "price\n",
      "75.00     310\n",
      "65.00     302\n",
      "55.00     275\n",
      "60.00     270\n",
      "45.00     240\n",
      "         ... \n",
      "351.00      1\n",
      "54.10       1\n",
      "80.64       1\n",
      "32.73       1\n",
      "488.00      1\n",
      "Name: count, Length: 1994, dtype: int64\n",
      "**************************************************\n"
     ]
    }
   ],
   "source": [
    "for i in data.columns:\n",
    "    print(data[i].value_counts())\n",
    "    print('*'*50)"
   ]
  },
  {
   "cell_type": "code",
   "execution_count": 6,
   "id": "d817d453",
   "metadata": {},
   "outputs": [
    {
     "data": {
      "text/plain": [
       "area_type          0\n",
       "availability       0\n",
       "location           1\n",
       "size              16\n",
       "society         5502\n",
       "total_sqft         0\n",
       "bath              73\n",
       "balcony          609\n",
       "price              0\n",
       "dtype: int64"
      ]
     },
     "execution_count": 6,
     "metadata": {},
     "output_type": "execute_result"
    }
   ],
   "source": [
    "data.isna().sum()"
   ]
  },
  {
   "cell_type": "code",
   "execution_count": 7,
   "id": "d0787ecf",
   "metadata": {},
   "outputs": [],
   "source": [
    "data.drop(columns=['society','availability'],inplace=True,axis=1)"
   ]
  },
  {
   "cell_type": "code",
   "execution_count": 8,
   "id": "66465a8d",
   "metadata": {},
   "outputs": [
    {
     "data": {
      "text/html": [
       "<div>\n",
       "<style scoped>\n",
       "    .dataframe tbody tr th:only-of-type {\n",
       "        vertical-align: middle;\n",
       "    }\n",
       "\n",
       "    .dataframe tbody tr th {\n",
       "        vertical-align: top;\n",
       "    }\n",
       "\n",
       "    .dataframe thead th {\n",
       "        text-align: right;\n",
       "    }\n",
       "</style>\n",
       "<table border=\"1\" class=\"dataframe\">\n",
       "  <thead>\n",
       "    <tr style=\"text-align: right;\">\n",
       "      <th></th>\n",
       "      <th>area_type</th>\n",
       "      <th>location</th>\n",
       "      <th>size</th>\n",
       "      <th>total_sqft</th>\n",
       "      <th>bath</th>\n",
       "      <th>balcony</th>\n",
       "      <th>price</th>\n",
       "    </tr>\n",
       "  </thead>\n",
       "  <tbody>\n",
       "    <tr>\n",
       "      <th>0</th>\n",
       "      <td>Super built-up  Area</td>\n",
       "      <td>Electronic City Phase II</td>\n",
       "      <td>2 BHK</td>\n",
       "      <td>1056</td>\n",
       "      <td>2.0</td>\n",
       "      <td>1.0</td>\n",
       "      <td>39.07</td>\n",
       "    </tr>\n",
       "    <tr>\n",
       "      <th>1</th>\n",
       "      <td>Plot  Area</td>\n",
       "      <td>Chikka Tirupathi</td>\n",
       "      <td>4 Bedroom</td>\n",
       "      <td>2600</td>\n",
       "      <td>5.0</td>\n",
       "      <td>3.0</td>\n",
       "      <td>120.00</td>\n",
       "    </tr>\n",
       "  </tbody>\n",
       "</table>\n",
       "</div>"
      ],
      "text/plain": [
       "              area_type                  location       size total_sqft  bath  \\\n",
       "0  Super built-up  Area  Electronic City Phase II      2 BHK       1056   2.0   \n",
       "1            Plot  Area          Chikka Tirupathi  4 Bedroom       2600   5.0   \n",
       "\n",
       "   balcony   price  \n",
       "0      1.0   39.07  \n",
       "1      3.0  120.00  "
      ]
     },
     "execution_count": 8,
     "metadata": {},
     "output_type": "execute_result"
    }
   ],
   "source": [
    "data.head(2)"
   ]
  },
  {
   "cell_type": "code",
   "execution_count": 9,
   "id": "e3602b8b",
   "metadata": {},
   "outputs": [
    {
     "name": "stdout",
     "output_type": "stream",
     "text": [
      "<class 'pandas.core.frame.DataFrame'>\n",
      "RangeIndex: 13320 entries, 0 to 13319\n",
      "Data columns (total 7 columns):\n",
      " #   Column      Non-Null Count  Dtype  \n",
      "---  ------      --------------  -----  \n",
      " 0   area_type   13320 non-null  object \n",
      " 1   location    13319 non-null  object \n",
      " 2   size        13304 non-null  object \n",
      " 3   total_sqft  13320 non-null  object \n",
      " 4   bath        13247 non-null  float64\n",
      " 5   balcony     12711 non-null  float64\n",
      " 6   price       13320 non-null  float64\n",
      "dtypes: float64(3), object(4)\n",
      "memory usage: 728.6+ KB\n"
     ]
    }
   ],
   "source": [
    "data.info()"
   ]
  },
  {
   "cell_type": "code",
   "execution_count": 10,
   "id": "53fb859a",
   "metadata": {},
   "outputs": [],
   "source": [
    "data.location.fillna(data.location.mode()[0],inplace=True)"
   ]
  },
  {
   "cell_type": "code",
   "execution_count": 11,
   "id": "e3420eeb",
   "metadata": {},
   "outputs": [
    {
     "data": {
      "text/html": [
       "<div>\n",
       "<style scoped>\n",
       "    .dataframe tbody tr th:only-of-type {\n",
       "        vertical-align: middle;\n",
       "    }\n",
       "\n",
       "    .dataframe tbody tr th {\n",
       "        vertical-align: top;\n",
       "    }\n",
       "\n",
       "    .dataframe thead th {\n",
       "        text-align: right;\n",
       "    }\n",
       "</style>\n",
       "<table border=\"1\" class=\"dataframe\">\n",
       "  <thead>\n",
       "    <tr style=\"text-align: right;\">\n",
       "      <th></th>\n",
       "      <th>area_type</th>\n",
       "      <th>location</th>\n",
       "      <th>size</th>\n",
       "      <th>total_sqft</th>\n",
       "      <th>bath</th>\n",
       "      <th>balcony</th>\n",
       "      <th>price</th>\n",
       "    </tr>\n",
       "  </thead>\n",
       "  <tbody>\n",
       "    <tr>\n",
       "      <th>0</th>\n",
       "      <td>Super built-up  Area</td>\n",
       "      <td>Electronic City Phase II</td>\n",
       "      <td>2 BHK</td>\n",
       "      <td>1056</td>\n",
       "      <td>2.0</td>\n",
       "      <td>1.0</td>\n",
       "      <td>39.07</td>\n",
       "    </tr>\n",
       "    <tr>\n",
       "      <th>1</th>\n",
       "      <td>Plot  Area</td>\n",
       "      <td>Chikka Tirupathi</td>\n",
       "      <td>4 Bedroom</td>\n",
       "      <td>2600</td>\n",
       "      <td>5.0</td>\n",
       "      <td>3.0</td>\n",
       "      <td>120.00</td>\n",
       "    </tr>\n",
       "    <tr>\n",
       "      <th>2</th>\n",
       "      <td>Built-up  Area</td>\n",
       "      <td>Uttarahalli</td>\n",
       "      <td>3 BHK</td>\n",
       "      <td>1440</td>\n",
       "      <td>2.0</td>\n",
       "      <td>3.0</td>\n",
       "      <td>62.00</td>\n",
       "    </tr>\n",
       "    <tr>\n",
       "      <th>3</th>\n",
       "      <td>Super built-up  Area</td>\n",
       "      <td>Lingadheeranahalli</td>\n",
       "      <td>3 BHK</td>\n",
       "      <td>1521</td>\n",
       "      <td>3.0</td>\n",
       "      <td>1.0</td>\n",
       "      <td>95.00</td>\n",
       "    </tr>\n",
       "    <tr>\n",
       "      <th>4</th>\n",
       "      <td>Super built-up  Area</td>\n",
       "      <td>Kothanur</td>\n",
       "      <td>2 BHK</td>\n",
       "      <td>1200</td>\n",
       "      <td>2.0</td>\n",
       "      <td>1.0</td>\n",
       "      <td>51.00</td>\n",
       "    </tr>\n",
       "  </tbody>\n",
       "</table>\n",
       "</div>"
      ],
      "text/plain": [
       "              area_type                  location       size total_sqft  bath  \\\n",
       "0  Super built-up  Area  Electronic City Phase II      2 BHK       1056   2.0   \n",
       "1            Plot  Area          Chikka Tirupathi  4 Bedroom       2600   5.0   \n",
       "2        Built-up  Area               Uttarahalli      3 BHK       1440   2.0   \n",
       "3  Super built-up  Area        Lingadheeranahalli      3 BHK       1521   3.0   \n",
       "4  Super built-up  Area                  Kothanur      2 BHK       1200   2.0   \n",
       "\n",
       "   balcony   price  \n",
       "0      1.0   39.07  \n",
       "1      3.0  120.00  \n",
       "2      3.0   62.00  \n",
       "3      1.0   95.00  \n",
       "4      1.0   51.00  "
      ]
     },
     "execution_count": 11,
     "metadata": {},
     "output_type": "execute_result"
    }
   ],
   "source": [
    "data.head()"
   ]
  },
  {
   "cell_type": "code",
   "execution_count": 12,
   "id": "74d12546",
   "metadata": {},
   "outputs": [],
   "source": [
    "#for value in data.total_sqft.unique():\n",
    "#    print(value)"
   ]
  },
  {
   "cell_type": "code",
   "execution_count": 13,
   "id": "1bf4c12f",
   "metadata": {},
   "outputs": [
    {
     "data": {
      "text/plain": [
       "0        1056\n",
       "1        2600\n",
       "2        1440\n",
       "3        1521\n",
       "4        1200\n",
       "         ... \n",
       "13315    3453\n",
       "13316    3600\n",
       "13317    1141\n",
       "13318    4689\n",
       "13319     550\n",
       "Name: total_sqft, Length: 13320, dtype: object"
      ]
     },
     "execution_count": 13,
     "metadata": {},
     "output_type": "execute_result"
    }
   ],
   "source": [
    "data.total_sqft"
   ]
  },
  {
   "cell_type": "code",
   "execution_count": 14,
   "id": "86952e22",
   "metadata": {},
   "outputs": [],
   "source": [
    "def fun(x):\n",
    "    x = x.split('-')\n",
    "    if len(x) > 1:\n",
    "        avg = (float(x[0])+float(x[1]))/2\n",
    "        return avg\n",
    "    else:\n",
    "        if 'Sq. Meter' in x[0]:\n",
    "            match = re.search(r'\\d+', x[0])\n",
    "            num = int(match.group())\n",
    "            return num * 10.7639\n",
    "        \n",
    "        elif 'Sq. Yards' in x[0]:\n",
    "            match = re.search(r'\\d+', x[0])\n",
    "            num = int(match.group())\n",
    "            return num * 9\n",
    "        \n",
    "        elif 'Acres' in x[0]:\n",
    "            match = re.search(r'\\d+', x[0])\n",
    "            num = int(match.group())\n",
    "            return num * 43560\n",
    "        elif 'Cents' in x[0]:\n",
    "            match = re.search(r'\\d+', x[0])\n",
    "            num = int(match.group())\n",
    "            return num * 435.6\n",
    "        elif 'Guntha' in x[0]:\n",
    "            match = re.search(r'\\d+', x[0])\n",
    "            num = int(match.group())\n",
    "            return num * 1089\n",
    "        elif 'Grounds' in x[0]:\n",
    "            match = re.search(r'\\d+', x[0])\n",
    "            num = int(match.group())\n",
    "            return num * 2400\n",
    "        \n",
    "        elif 'Perch' in x[0]:\n",
    "            match = re.search(r'\\d+', x[0])\n",
    "            num = int(match.group())\n",
    "            return num * 272.25\n",
    "        else:\n",
    "            return float(x[0])"
   ]
  },
  {
   "cell_type": "code",
   "execution_count": 15,
   "id": "e5fee858",
   "metadata": {},
   "outputs": [],
   "source": [
    "data.total_sqft = data.total_sqft.apply(fun)"
   ]
  },
  {
   "cell_type": "code",
   "execution_count": 16,
   "id": "bf6fbfbb",
   "metadata": {},
   "outputs": [
    {
     "data": {
      "text/html": [
       "<div>\n",
       "<style scoped>\n",
       "    .dataframe tbody tr th:only-of-type {\n",
       "        vertical-align: middle;\n",
       "    }\n",
       "\n",
       "    .dataframe tbody tr th {\n",
       "        vertical-align: top;\n",
       "    }\n",
       "\n",
       "    .dataframe thead th {\n",
       "        text-align: right;\n",
       "    }\n",
       "</style>\n",
       "<table border=\"1\" class=\"dataframe\">\n",
       "  <thead>\n",
       "    <tr style=\"text-align: right;\">\n",
       "      <th></th>\n",
       "      <th>total_sqft</th>\n",
       "      <th>bath</th>\n",
       "      <th>balcony</th>\n",
       "      <th>price</th>\n",
       "    </tr>\n",
       "  </thead>\n",
       "  <tbody>\n",
       "    <tr>\n",
       "      <th>total_sqft</th>\n",
       "      <td>1.000000</td>\n",
       "      <td>0.053329</td>\n",
       "      <td>0.006832</td>\n",
       "      <td>0.049008</td>\n",
       "    </tr>\n",
       "    <tr>\n",
       "      <th>bath</th>\n",
       "      <td>0.053329</td>\n",
       "      <td>1.000000</td>\n",
       "      <td>0.204201</td>\n",
       "      <td>0.456345</td>\n",
       "    </tr>\n",
       "    <tr>\n",
       "      <th>balcony</th>\n",
       "      <td>0.006832</td>\n",
       "      <td>0.204201</td>\n",
       "      <td>1.000000</td>\n",
       "      <td>0.120355</td>\n",
       "    </tr>\n",
       "    <tr>\n",
       "      <th>price</th>\n",
       "      <td>0.049008</td>\n",
       "      <td>0.456345</td>\n",
       "      <td>0.120355</td>\n",
       "      <td>1.000000</td>\n",
       "    </tr>\n",
       "  </tbody>\n",
       "</table>\n",
       "</div>"
      ],
      "text/plain": [
       "            total_sqft      bath   balcony     price\n",
       "total_sqft    1.000000  0.053329  0.006832  0.049008\n",
       "bath          0.053329  1.000000  0.204201  0.456345\n",
       "balcony       0.006832  0.204201  1.000000  0.120355\n",
       "price         0.049008  0.456345  0.120355  1.000000"
      ]
     },
     "execution_count": 16,
     "metadata": {},
     "output_type": "execute_result"
    }
   ],
   "source": [
    "data.corr(numeric_only=True)"
   ]
  },
  {
   "cell_type": "code",
   "execution_count": 17,
   "id": "5b0a5341",
   "metadata": {},
   "outputs": [
    {
     "data": {
      "text/html": [
       "<div>\n",
       "<style scoped>\n",
       "    .dataframe tbody tr th:only-of-type {\n",
       "        vertical-align: middle;\n",
       "    }\n",
       "\n",
       "    .dataframe tbody tr th {\n",
       "        vertical-align: top;\n",
       "    }\n",
       "\n",
       "    .dataframe thead th {\n",
       "        text-align: right;\n",
       "    }\n",
       "</style>\n",
       "<table border=\"1\" class=\"dataframe\">\n",
       "  <thead>\n",
       "    <tr style=\"text-align: right;\">\n",
       "      <th></th>\n",
       "      <th>area_type</th>\n",
       "      <th>location</th>\n",
       "      <th>size</th>\n",
       "      <th>total_sqft</th>\n",
       "      <th>bath</th>\n",
       "      <th>balcony</th>\n",
       "      <th>price</th>\n",
       "    </tr>\n",
       "  </thead>\n",
       "  <tbody>\n",
       "    <tr>\n",
       "      <th>0</th>\n",
       "      <td>Super built-up  Area</td>\n",
       "      <td>Electronic City Phase II</td>\n",
       "      <td>2 BHK</td>\n",
       "      <td>1056.0</td>\n",
       "      <td>2.0</td>\n",
       "      <td>1.0</td>\n",
       "      <td>39.07</td>\n",
       "    </tr>\n",
       "    <tr>\n",
       "      <th>1</th>\n",
       "      <td>Plot  Area</td>\n",
       "      <td>Chikka Tirupathi</td>\n",
       "      <td>4 Bedroom</td>\n",
       "      <td>2600.0</td>\n",
       "      <td>5.0</td>\n",
       "      <td>3.0</td>\n",
       "      <td>120.00</td>\n",
       "    </tr>\n",
       "    <tr>\n",
       "      <th>2</th>\n",
       "      <td>Built-up  Area</td>\n",
       "      <td>Uttarahalli</td>\n",
       "      <td>3 BHK</td>\n",
       "      <td>1440.0</td>\n",
       "      <td>2.0</td>\n",
       "      <td>3.0</td>\n",
       "      <td>62.00</td>\n",
       "    </tr>\n",
       "    <tr>\n",
       "      <th>3</th>\n",
       "      <td>Super built-up  Area</td>\n",
       "      <td>Lingadheeranahalli</td>\n",
       "      <td>3 BHK</td>\n",
       "      <td>1521.0</td>\n",
       "      <td>3.0</td>\n",
       "      <td>1.0</td>\n",
       "      <td>95.00</td>\n",
       "    </tr>\n",
       "    <tr>\n",
       "      <th>4</th>\n",
       "      <td>Super built-up  Area</td>\n",
       "      <td>Kothanur</td>\n",
       "      <td>2 BHK</td>\n",
       "      <td>1200.0</td>\n",
       "      <td>2.0</td>\n",
       "      <td>1.0</td>\n",
       "      <td>51.00</td>\n",
       "    </tr>\n",
       "  </tbody>\n",
       "</table>\n",
       "</div>"
      ],
      "text/plain": [
       "              area_type                  location       size  total_sqft  \\\n",
       "0  Super built-up  Area  Electronic City Phase II      2 BHK      1056.0   \n",
       "1            Plot  Area          Chikka Tirupathi  4 Bedroom      2600.0   \n",
       "2        Built-up  Area               Uttarahalli      3 BHK      1440.0   \n",
       "3  Super built-up  Area        Lingadheeranahalli      3 BHK      1521.0   \n",
       "4  Super built-up  Area                  Kothanur      2 BHK      1200.0   \n",
       "\n",
       "   bath  balcony   price  \n",
       "0   2.0      1.0   39.07  \n",
       "1   5.0      3.0  120.00  \n",
       "2   2.0      3.0   62.00  \n",
       "3   3.0      1.0   95.00  \n",
       "4   2.0      1.0   51.00  "
      ]
     },
     "execution_count": 17,
     "metadata": {},
     "output_type": "execute_result"
    }
   ],
   "source": [
    "data.head()"
   ]
  },
  {
   "cell_type": "code",
   "execution_count": 18,
   "id": "42dfeb06",
   "metadata": {},
   "outputs": [
    {
     "name": "stdout",
     "output_type": "stream",
     "text": [
      "<class 'pandas.core.frame.DataFrame'>\n",
      "RangeIndex: 13320 entries, 0 to 13319\n",
      "Data columns (total 7 columns):\n",
      " #   Column      Non-Null Count  Dtype  \n",
      "---  ------      --------------  -----  \n",
      " 0   area_type   13320 non-null  object \n",
      " 1   location    13320 non-null  object \n",
      " 2   size        13304 non-null  object \n",
      " 3   total_sqft  13320 non-null  float64\n",
      " 4   bath        13247 non-null  float64\n",
      " 5   balcony     12711 non-null  float64\n",
      " 6   price       13320 non-null  float64\n",
      "dtypes: float64(4), object(3)\n",
      "memory usage: 728.6+ KB\n"
     ]
    }
   ],
   "source": [
    "data.info()"
   ]
  },
  {
   "cell_type": "code",
   "execution_count": 19,
   "id": "bde3aa63",
   "metadata": {},
   "outputs": [
    {
     "data": {
      "text/plain": [
       "area_type       0\n",
       "location        0\n",
       "size           16\n",
       "total_sqft      0\n",
       "bath           73\n",
       "balcony       609\n",
       "price           0\n",
       "dtype: int64"
      ]
     },
     "execution_count": 19,
     "metadata": {},
     "output_type": "execute_result"
    }
   ],
   "source": [
    "data.isnull().sum()"
   ]
  },
  {
   "cell_type": "code",
   "execution_count": 20,
   "id": "3c11584b",
   "metadata": {},
   "outputs": [
    {
     "name": "stderr",
     "output_type": "stream",
     "text": [
      "C:\\Users\\DARSHIT\\AppData\\Local\\Temp\\ipykernel_11956\\382643837.py:1: UserWarning: \n",
      "\n",
      "`distplot` is a deprecated function and will be removed in seaborn v0.14.0.\n",
      "\n",
      "Please adapt your code to use either `displot` (a figure-level function with\n",
      "similar flexibility) or `histplot` (an axes-level function for histograms).\n",
      "\n",
      "For a guide to updating your code to use the new functions, please see\n",
      "https://gist.github.com/mwaskom/de44147ed2974457ad6372750bbe5751\n",
      "\n",
      "  sns.distplot(x = data.bath)\n"
     ]
    },
    {
     "data": {
      "text/plain": [
       "<Axes: ylabel='Density'>"
      ]
     },
     "execution_count": 20,
     "metadata": {},
     "output_type": "execute_result"
    },
    {
     "data": {
      "image/png": "[encoded data removed]",
      "text/plain": [
       "<Figure size 640x480 with 1 Axes>"
      ]
     },
     "metadata": {},
     "output_type": "display_data"
    }
   ],
   "source": [
    "sns.distplot(x = data.bath)"
   ]
  },
  {
   "cell_type": "code",
   "execution_count": 21,
   "id": "4fb258d8",
   "metadata": {},
   "outputs": [
    {
     "name": "stderr",
     "output_type": "stream",
     "text": [
      "C:\\Users\\DARSHIT\\AppData\\Local\\Temp\\ipykernel_11956\\4032532646.py:1: UserWarning: \n",
      "\n",
      "`distplot` is a deprecated function and will be removed in seaborn v0.14.0.\n",
      "\n",
      "Please adapt your code to use either `displot` (a figure-level function with\n",
      "similar flexibility) or `histplot` (an axes-level function for histograms).\n",
      "\n",
      "For a guide to updating your code to use the new functions, please see\n",
      "https://gist.github.com/mwaskom/de44147ed2974457ad6372750bbe5751\n",
      "\n",
      "  sns.distplot(data.balcony)\n"
     ]
    },
    {
     "data": {
      "text/plain": [
       "<Axes: xlabel='balcony', ylabel='Density'>"
      ]
     },
     "execution_count": 21,
     "metadata": {},
     "output_type": "execute_result"
    },
    {
     "data": {
      "image/png": "[encoded data removed]",
      "text/plain": [
       "<Figure size 640x480 with 1 Axes>"
      ]
     },
     "metadata": {},
     "output_type": "display_data"
    }
   ],
   "source": [
    "sns.distplot(data.balcony)"
   ]
  },
  {
   "cell_type": "code",
   "execution_count": 22,
   "id": "c6364a95",
   "metadata": {},
   "outputs": [
    {
     "data": {
      "text/plain": [
       "count    12711.000000\n",
       "mean         1.584376\n",
       "std          0.817263\n",
       "min          0.000000\n",
       "25%          1.000000\n",
       "50%          2.000000\n",
       "75%          2.000000\n",
       "max          3.000000\n",
       "Name: balcony, dtype: float64"
      ]
     },
     "execution_count": 22,
     "metadata": {},
     "output_type": "execute_result"
    }
   ],
   "source": [
    "data.describe()['balcony']"
   ]
  },
  {
   "cell_type": "code",
   "execution_count": 23,
   "id": "044439b2",
   "metadata": {},
   "outputs": [
    {
     "data": {
      "text/plain": [
       "balcony\n",
       "2.0    5113\n",
       "1.0    4897\n",
       "3.0    1672\n",
       "0.0    1029\n",
       "Name: count, dtype: int64"
      ]
     },
     "execution_count": 23,
     "metadata": {},
     "output_type": "execute_result"
    }
   ],
   "source": [
    "data.balcony.value_counts()"
   ]
  },
  {
   "cell_type": "code",
   "execution_count": 24,
   "id": "78cee3cb",
   "metadata": {},
   "outputs": [
    {
     "data": {
      "text/plain": [
       "<Axes: xlabel='balcony', ylabel='price'>"
      ]
     },
     "execution_count": 24,
     "metadata": {},
     "output_type": "execute_result"
    },
    {
     "data": {
      "image/png": "[encoded data removed]",
      "text/plain": [
       "<Figure size 640x480 with 1 Axes>"
      ]
     },
     "metadata": {},
     "output_type": "display_data"
    }
   ],
   "source": [
    "sns.barplot(x= data.balcony,y = data.price)"
   ]
  },
  {
   "cell_type": "markdown",
   "id": "5925176e",
   "metadata": {},
   "source": [
    "## Filling missing values of balcony"
   ]
  },
  {
   "cell_type": "code",
   "execution_count": 25,
   "id": "fb0223ff",
   "metadata": {},
   "outputs": [],
   "source": [
    "balcony_values = np.random.randint(data.balcony.mean()-data.balcony.std(),data.balcony.mean()+data.balcony.std(),609)"
   ]
  },
  {
   "cell_type": "code",
   "execution_count": 26,
   "id": "c4681449",
   "metadata": {},
   "outputs": [
    {
     "name": "stderr",
     "output_type": "stream",
     "text": [
      "C:\\Users\\DARSHIT\\AppData\\Local\\Temp\\ipykernel_11956\\499434042.py:1: SettingWithCopyWarning: \n",
      "A value is trying to be set on a copy of a slice from a DataFrame\n",
      "\n",
      "See the caveats in the documentation: https://pandas.pydata.org/pandas-docs/stable/user_guide/indexing.html#returning-a-view-versus-a-copy\n",
      "  data['balcony'][data.balcony.isnull()] = balcony_values\n"
     ]
    }
   ],
   "source": [
    "data['balcony'][data.balcony.isnull()] = balcony_values"
   ]
  },
  {
   "cell_type": "code",
   "execution_count": 27,
   "id": "03625ae4",
   "metadata": {},
   "outputs": [
    {
     "data": {
      "text/plain": [
       "area_type      0\n",
       "location       0\n",
       "size          16\n",
       "total_sqft     0\n",
       "bath          73\n",
       "balcony        0\n",
       "price          0\n",
       "dtype: int64"
      ]
     },
     "execution_count": 27,
     "metadata": {},
     "output_type": "execute_result"
    }
   ],
   "source": [
    "data.isnull().sum()"
   ]
  },
  {
   "cell_type": "code",
   "execution_count": 28,
   "id": "1b2d1d82",
   "metadata": {},
   "outputs": [],
   "source": [
    "data.bath.fillna(data.bath.median(),inplace=True)"
   ]
  },
  {
   "cell_type": "code",
   "execution_count": 29,
   "id": "94b1f9d8",
   "metadata": {},
   "outputs": [],
   "source": [
    "data['size'].fillna(data['size'].mode()[0],inplace=True)"
   ]
  },
  {
   "cell_type": "code",
   "execution_count": 30,
   "id": "4a6c0190",
   "metadata": {},
   "outputs": [
    {
     "data": {
      "text/html": [
       "<div>\n",
       "<style scoped>\n",
       "    .dataframe tbody tr th:only-of-type {\n",
       "        vertical-align: middle;\n",
       "    }\n",
       "\n",
       "    .dataframe tbody tr th {\n",
       "        vertical-align: top;\n",
       "    }\n",
       "\n",
       "    .dataframe thead th {\n",
       "        text-align: right;\n",
       "    }\n",
       "</style>\n",
       "<table border=\"1\" class=\"dataframe\">\n",
       "  <thead>\n",
       "    <tr style=\"text-align: right;\">\n",
       "      <th></th>\n",
       "      <th>total_sqft</th>\n",
       "      <th>bath</th>\n",
       "      <th>balcony</th>\n",
       "      <th>price</th>\n",
       "    </tr>\n",
       "  </thead>\n",
       "  <tbody>\n",
       "    <tr>\n",
       "      <th>count</th>\n",
       "      <td>1.332000e+04</td>\n",
       "      <td>13320.000000</td>\n",
       "      <td>13320.000000</td>\n",
       "      <td>13320.000000</td>\n",
       "    </tr>\n",
       "    <tr>\n",
       "      <th>mean</th>\n",
       "      <td>1.908617e+03</td>\n",
       "      <td>2.688814</td>\n",
       "      <td>1.534309</td>\n",
       "      <td>112.565627</td>\n",
       "    </tr>\n",
       "    <tr>\n",
       "      <th>std</th>\n",
       "      <td>1.725778e+04</td>\n",
       "      <td>1.338754</td>\n",
       "      <td>0.837334</td>\n",
       "      <td>148.971674</td>\n",
       "    </tr>\n",
       "    <tr>\n",
       "      <th>min</th>\n",
       "      <td>1.000000e+00</td>\n",
       "      <td>1.000000</td>\n",
       "      <td>0.000000</td>\n",
       "      <td>8.000000</td>\n",
       "    </tr>\n",
       "    <tr>\n",
       "      <th>25%</th>\n",
       "      <td>1.100000e+03</td>\n",
       "      <td>2.000000</td>\n",
       "      <td>1.000000</td>\n",
       "      <td>50.000000</td>\n",
       "    </tr>\n",
       "    <tr>\n",
       "      <th>50%</th>\n",
       "      <td>1.277250e+03</td>\n",
       "      <td>2.000000</td>\n",
       "      <td>2.000000</td>\n",
       "      <td>72.000000</td>\n",
       "    </tr>\n",
       "    <tr>\n",
       "      <th>75%</th>\n",
       "      <td>1.680000e+03</td>\n",
       "      <td>3.000000</td>\n",
       "      <td>2.000000</td>\n",
       "      <td>120.000000</td>\n",
       "    </tr>\n",
       "    <tr>\n",
       "      <th>max</th>\n",
       "      <td>1.306800e+06</td>\n",
       "      <td>40.000000</td>\n",
       "      <td>3.000000</td>\n",
       "      <td>3600.000000</td>\n",
       "    </tr>\n",
       "  </tbody>\n",
       "</table>\n",
       "</div>"
      ],
      "text/plain": [
       "         total_sqft          bath       balcony         price\n",
       "count  1.332000e+04  13320.000000  13320.000000  13320.000000\n",
       "mean   1.908617e+03      2.688814      1.534309    112.565627\n",
       "std    1.725778e+04      1.338754      0.837334    148.971674\n",
       "min    1.000000e+00      1.000000      0.000000      8.000000\n",
       "25%    1.100000e+03      2.000000      1.000000     50.000000\n",
       "50%    1.277250e+03      2.000000      2.000000     72.000000\n",
       "75%    1.680000e+03      3.000000      2.000000    120.000000\n",
       "max    1.306800e+06     40.000000      3.000000   3600.000000"
      ]
     },
     "execution_count": 30,
     "metadata": {},
     "output_type": "execute_result"
    }
   ],
   "source": [
    "data.describe()"
   ]
  },
  {
   "cell_type": "code",
   "execution_count": 31,
   "id": "01fe646a",
   "metadata": {},
   "outputs": [],
   "source": [
    "data['bhk'] = data['size'].str.split().str.get(0).astype(int)"
   ]
  },
  {
   "cell_type": "code",
   "execution_count": 32,
   "id": "1bef9861",
   "metadata": {},
   "outputs": [
    {
     "data": {
      "text/html": [
       "<div>\n",
       "<style scoped>\n",
       "    .dataframe tbody tr th:only-of-type {\n",
       "        vertical-align: middle;\n",
       "    }\n",
       "\n",
       "    .dataframe tbody tr th {\n",
       "        vertical-align: top;\n",
       "    }\n",
       "\n",
       "    .dataframe thead th {\n",
       "        text-align: right;\n",
       "    }\n",
       "</style>\n",
       "<table border=\"1\" class=\"dataframe\">\n",
       "  <thead>\n",
       "    <tr style=\"text-align: right;\">\n",
       "      <th></th>\n",
       "      <th>area_type</th>\n",
       "      <th>location</th>\n",
       "      <th>size</th>\n",
       "      <th>total_sqft</th>\n",
       "      <th>bath</th>\n",
       "      <th>balcony</th>\n",
       "      <th>price</th>\n",
       "      <th>bhk</th>\n",
       "    </tr>\n",
       "  </thead>\n",
       "  <tbody>\n",
       "    <tr>\n",
       "      <th>1718</th>\n",
       "      <td>Super built-up  Area</td>\n",
       "      <td>2Electronic City Phase II</td>\n",
       "      <td>27 BHK</td>\n",
       "      <td>8000.0</td>\n",
       "      <td>27.0</td>\n",
       "      <td>0.0</td>\n",
       "      <td>230.0</td>\n",
       "      <td>27</td>\n",
       "    </tr>\n",
       "    <tr>\n",
       "      <th>4684</th>\n",
       "      <td>Plot  Area</td>\n",
       "      <td>Munnekollal</td>\n",
       "      <td>43 Bedroom</td>\n",
       "      <td>2400.0</td>\n",
       "      <td>40.0</td>\n",
       "      <td>0.0</td>\n",
       "      <td>660.0</td>\n",
       "      <td>43</td>\n",
       "    </tr>\n",
       "  </tbody>\n",
       "</table>\n",
       "</div>"
      ],
      "text/plain": [
       "                 area_type                   location        size  total_sqft  \\\n",
       "1718  Super built-up  Area  2Electronic City Phase II      27 BHK      8000.0   \n",
       "4684            Plot  Area                Munnekollal  43 Bedroom      2400.0   \n",
       "\n",
       "      bath  balcony  price  bhk  \n",
       "1718  27.0      0.0  230.0   27  \n",
       "4684  40.0      0.0  660.0   43  "
      ]
     },
     "execution_count": 32,
     "metadata": {},
     "output_type": "execute_result"
    }
   ],
   "source": [
    "data[data.bhk > 20]"
   ]
  },
  {
   "cell_type": "code",
   "execution_count": 33,
   "id": "575d8312",
   "metadata": {},
   "outputs": [],
   "source": [
    "data['price_per_sqft'] = data['price']*100000 / data['total_sqft']"
   ]
  },
  {
   "cell_type": "code",
   "execution_count": 34,
   "id": "20852487",
   "metadata": {},
   "outputs": [
    {
     "data": {
      "text/plain": [
       "0         3699.810606\n",
       "1         4615.384615\n",
       "2         4305.555556\n",
       "3         6245.890861\n",
       "4         4250.000000\n",
       "             ...     \n",
       "13315     6689.834926\n",
       "13316    11111.111111\n",
       "13317     5258.545136\n",
       "13318    10407.336319\n",
       "13319     3090.909091\n",
       "Name: price_per_sqft, Length: 13320, dtype: float64"
      ]
     },
     "execution_count": 34,
     "metadata": {},
     "output_type": "execute_result"
    }
   ],
   "source": [
    "data['price_per_sqft']"
   ]
  },
  {
   "cell_type": "code",
   "execution_count": 35,
   "id": "7d6168f6",
   "metadata": {},
   "outputs": [
    {
     "data": {
      "text/html": [
       "<div>\n",
       "<style scoped>\n",
       "    .dataframe tbody tr th:only-of-type {\n",
       "        vertical-align: middle;\n",
       "    }\n",
       "\n",
       "    .dataframe tbody tr th {\n",
       "        vertical-align: top;\n",
       "    }\n",
       "\n",
       "    .dataframe thead th {\n",
       "        text-align: right;\n",
       "    }\n",
       "</style>\n",
       "<table border=\"1\" class=\"dataframe\">\n",
       "  <thead>\n",
       "    <tr style=\"text-align: right;\">\n",
       "      <th></th>\n",
       "      <th>total_sqft</th>\n",
       "      <th>bath</th>\n",
       "      <th>balcony</th>\n",
       "      <th>price</th>\n",
       "      <th>bhk</th>\n",
       "      <th>price_per_sqft</th>\n",
       "    </tr>\n",
       "  </thead>\n",
       "  <tbody>\n",
       "    <tr>\n",
       "      <th>total_sqft</th>\n",
       "      <td>1.000000</td>\n",
       "      <td>0.053218</td>\n",
       "      <td>-0.005957</td>\n",
       "      <td>0.049008</td>\n",
       "      <td>0.054493</td>\n",
       "      <td>-0.002087</td>\n",
       "    </tr>\n",
       "    <tr>\n",
       "      <th>bath</th>\n",
       "      <td>0.053218</td>\n",
       "      <td>1.000000</td>\n",
       "      <td>0.108618</td>\n",
       "      <td>0.454449</td>\n",
       "      <td>0.895786</td>\n",
       "      <td>0.030973</td>\n",
       "    </tr>\n",
       "    <tr>\n",
       "      <th>balcony</th>\n",
       "      <td>-0.005957</td>\n",
       "      <td>0.108618</td>\n",
       "      <td>1.000000</td>\n",
       "      <td>0.048140</td>\n",
       "      <td>0.099512</td>\n",
       "      <td>-0.002368</td>\n",
       "    </tr>\n",
       "    <tr>\n",
       "      <th>price</th>\n",
       "      <td>0.049008</td>\n",
       "      <td>0.454449</td>\n",
       "      <td>0.048140</td>\n",
       "      <td>1.000000</td>\n",
       "      <td>0.398074</td>\n",
       "      <td>0.028477</td>\n",
       "    </tr>\n",
       "    <tr>\n",
       "      <th>bhk</th>\n",
       "      <td>0.054493</td>\n",
       "      <td>0.895786</td>\n",
       "      <td>0.099512</td>\n",
       "      <td>0.398074</td>\n",
       "      <td>1.000000</td>\n",
       "      <td>0.030926</td>\n",
       "    </tr>\n",
       "    <tr>\n",
       "      <th>price_per_sqft</th>\n",
       "      <td>-0.002087</td>\n",
       "      <td>0.030973</td>\n",
       "      <td>-0.002368</td>\n",
       "      <td>0.028477</td>\n",
       "      <td>0.030926</td>\n",
       "      <td>1.000000</td>\n",
       "    </tr>\n",
       "  </tbody>\n",
       "</table>\n",
       "</div>"
      ],
      "text/plain": [
       "                total_sqft      bath   balcony     price       bhk  \\\n",
       "total_sqft        1.000000  0.053218 -0.005957  0.049008  0.054493   \n",
       "bath              0.053218  1.000000  0.108618  0.454449  0.895786   \n",
       "balcony          -0.005957  0.108618  1.000000  0.048140  0.099512   \n",
       "price             0.049008  0.454449  0.048140  1.000000  0.398074   \n",
       "bhk               0.054493  0.895786  0.099512  0.398074  1.000000   \n",
       "price_per_sqft   -0.002087  0.030973 -0.002368  0.028477  0.030926   \n",
       "\n",
       "                price_per_sqft  \n",
       "total_sqft           -0.002087  \n",
       "bath                  0.030973  \n",
       "balcony              -0.002368  \n",
       "price                 0.028477  \n",
       "bhk                   0.030926  \n",
       "price_per_sqft        1.000000  "
      ]
     },
     "execution_count": 35,
     "metadata": {},
     "output_type": "execute_result"
    }
   ],
   "source": [
    "data.corr(numeric_only=True)"
   ]
  },
  {
   "cell_type": "code",
   "execution_count": 36,
   "id": "34247e49",
   "metadata": {},
   "outputs": [],
   "source": [
    "data['location'] = data.location.apply(lambda x: x.strip())"
   ]
  },
  {
   "cell_type": "code",
   "execution_count": 37,
   "id": "08d4f768",
   "metadata": {},
   "outputs": [],
   "source": [
    "location_count = data.location.value_counts()"
   ]
  },
  {
   "cell_type": "code",
   "execution_count": 38,
   "id": "4327bfbf",
   "metadata": {},
   "outputs": [
    {
     "data": {
      "text/plain": [
       "location\n",
       "Whitefield                        542\n",
       "Sarjapur  Road                    399\n",
       "Electronic City                   304\n",
       "Kanakpura Road                    273\n",
       "Thanisandra                       237\n",
       "                                 ... \n",
       "Bapuji Layout                       1\n",
       "1st Stage Radha Krishna Layout      1\n",
       "BEML Layout 5th stage               1\n",
       "singapura paradise                  1\n",
       "Abshot Layout                       1\n",
       "Name: count, Length: 1294, dtype: int64"
      ]
     },
     "execution_count": 38,
     "metadata": {},
     "output_type": "execute_result"
    }
   ],
   "source": [
    "location_count"
   ]
  },
  {
   "cell_type": "code",
   "execution_count": 39,
   "id": "fce1d39a",
   "metadata": {},
   "outputs": [],
   "source": [
    "location_count_less_10 = location_count[location_count <= 10]"
   ]
  },
  {
   "cell_type": "code",
   "execution_count": 40,
   "id": "84bc0f26",
   "metadata": {},
   "outputs": [
    {
     "data": {
      "text/plain": [
       "1053"
      ]
     },
     "execution_count": 40,
     "metadata": {},
     "output_type": "execute_result"
    }
   ],
   "source": [
    "location_count_less_10.count()"
   ]
  },
  {
   "cell_type": "code",
   "execution_count": 41,
   "id": "f3d6827f",
   "metadata": {},
   "outputs": [],
   "source": [
    "data.location = data.location.apply(lambda x: 'other' if x in location_count_less_10 else x)"
   ]
  },
  {
   "cell_type": "code",
   "execution_count": 42,
   "id": "efe43d8a",
   "metadata": {},
   "outputs": [
    {
     "data": {
      "text/plain": [
       "location\n",
       "other                 2885\n",
       "Whitefield             542\n",
       "Sarjapur  Road         399\n",
       "Electronic City        304\n",
       "Kanakpura Road         273\n",
       "                      ... \n",
       "Nehru Nagar             11\n",
       "Banjara Layout          11\n",
       "LB Shastri Nagar        11\n",
       "Pattandur Agrahara      11\n",
       "Narayanapura            11\n",
       "Name: count, Length: 242, dtype: int64"
      ]
     },
     "execution_count": 42,
     "metadata": {},
     "output_type": "execute_result"
    }
   ],
   "source": [
    "data.location.value_counts()"
   ]
  },
  {
   "cell_type": "code",
   "execution_count": 43,
   "id": "0f5742a4",
   "metadata": {},
   "outputs": [
    {
     "data": {
      "text/html": [
       "<div>\n",
       "<style scoped>\n",
       "    .dataframe tbody tr th:only-of-type {\n",
       "        vertical-align: middle;\n",
       "    }\n",
       "\n",
       "    .dataframe tbody tr th {\n",
       "        vertical-align: top;\n",
       "    }\n",
       "\n",
       "    .dataframe thead th {\n",
       "        text-align: right;\n",
       "    }\n",
       "</style>\n",
       "<table border=\"1\" class=\"dataframe\">\n",
       "  <thead>\n",
       "    <tr style=\"text-align: right;\">\n",
       "      <th></th>\n",
       "      <th>area_type</th>\n",
       "      <th>location</th>\n",
       "      <th>size</th>\n",
       "      <th>total_sqft</th>\n",
       "      <th>bath</th>\n",
       "      <th>balcony</th>\n",
       "      <th>price</th>\n",
       "      <th>bhk</th>\n",
       "      <th>price_per_sqft</th>\n",
       "    </tr>\n",
       "  </thead>\n",
       "  <tbody>\n",
       "    <tr>\n",
       "      <th>0</th>\n",
       "      <td>Super built-up  Area</td>\n",
       "      <td>Electronic City Phase II</td>\n",
       "      <td>2 BHK</td>\n",
       "      <td>1056.0</td>\n",
       "      <td>2.0</td>\n",
       "      <td>1.0</td>\n",
       "      <td>39.07</td>\n",
       "      <td>2</td>\n",
       "      <td>3699.810606</td>\n",
       "    </tr>\n",
       "    <tr>\n",
       "      <th>1</th>\n",
       "      <td>Plot  Area</td>\n",
       "      <td>Chikka Tirupathi</td>\n",
       "      <td>4 Bedroom</td>\n",
       "      <td>2600.0</td>\n",
       "      <td>5.0</td>\n",
       "      <td>3.0</td>\n",
       "      <td>120.00</td>\n",
       "      <td>4</td>\n",
       "      <td>4615.384615</td>\n",
       "    </tr>\n",
       "    <tr>\n",
       "      <th>2</th>\n",
       "      <td>Built-up  Area</td>\n",
       "      <td>Uttarahalli</td>\n",
       "      <td>3 BHK</td>\n",
       "      <td>1440.0</td>\n",
       "      <td>2.0</td>\n",
       "      <td>3.0</td>\n",
       "      <td>62.00</td>\n",
       "      <td>3</td>\n",
       "      <td>4305.555556</td>\n",
       "    </tr>\n",
       "    <tr>\n",
       "      <th>3</th>\n",
       "      <td>Super built-up  Area</td>\n",
       "      <td>Lingadheeranahalli</td>\n",
       "      <td>3 BHK</td>\n",
       "      <td>1521.0</td>\n",
       "      <td>3.0</td>\n",
       "      <td>1.0</td>\n",
       "      <td>95.00</td>\n",
       "      <td>3</td>\n",
       "      <td>6245.890861</td>\n",
       "    </tr>\n",
       "    <tr>\n",
       "      <th>4</th>\n",
       "      <td>Super built-up  Area</td>\n",
       "      <td>Kothanur</td>\n",
       "      <td>2 BHK</td>\n",
       "      <td>1200.0</td>\n",
       "      <td>2.0</td>\n",
       "      <td>1.0</td>\n",
       "      <td>51.00</td>\n",
       "      <td>2</td>\n",
       "      <td>4250.000000</td>\n",
       "    </tr>\n",
       "  </tbody>\n",
       "</table>\n",
       "</div>"
      ],
      "text/plain": [
       "              area_type                  location       size  total_sqft  \\\n",
       "0  Super built-up  Area  Electronic City Phase II      2 BHK      1056.0   \n",
       "1            Plot  Area          Chikka Tirupathi  4 Bedroom      2600.0   \n",
       "2        Built-up  Area               Uttarahalli      3 BHK      1440.0   \n",
       "3  Super built-up  Area        Lingadheeranahalli      3 BHK      1521.0   \n",
       "4  Super built-up  Area                  Kothanur      2 BHK      1200.0   \n",
       "\n",
       "   bath  balcony   price  bhk  price_per_sqft  \n",
       "0   2.0      1.0   39.07    2     3699.810606  \n",
       "1   5.0      3.0  120.00    4     4615.384615  \n",
       "2   2.0      3.0   62.00    3     4305.555556  \n",
       "3   3.0      1.0   95.00    3     6245.890861  \n",
       "4   2.0      1.0   51.00    2     4250.000000  "
      ]
     },
     "execution_count": 43,
     "metadata": {},
     "output_type": "execute_result"
    }
   ],
   "source": [
    "data.head()"
   ]
  },
  {
   "cell_type": "code",
   "execution_count": 44,
   "id": "9aa31581",
   "metadata": {},
   "outputs": [
    {
     "data": {
      "image/png": "[encoded data removed]",
      "text/plain": [
       "<Figure size 1200x600 with 1 Axes>"
      ]
     },
     "metadata": {},
     "output_type": "display_data"
    }
   ],
   "source": [
    "average_price_by_location = data.groupby('area_type')['price'].mean().reset_index()\n",
    "\n",
    "# Sort the data by average price in descending order\n",
    "average_price_by_location = average_price_by_location.sort_values(by='price', ascending=False)\n",
    "\n",
    "# Create a bar chart to visualize the data\n",
    "plt.figure(figsize=(12, 6))\n",
    "plt.bar(average_price_by_location['area_type'], average_price_by_location['price'])\n",
    "plt.xticks(rotation=90)\n",
    "plt.xlabel('Location')\n",
    "plt.ylabel('Average Price per sqft')\n",
    "plt.title('Impact of Location on Property Prices')\n",
    "plt.show()"
   ]
  },
  {
   "cell_type": "code",
   "execution_count": 45,
   "id": "8452c6e0",
   "metadata": {},
   "outputs": [
    {
     "name": "stderr",
     "output_type": "stream",
     "text": [
      "C:\\Users\\DARSHIT\\AppData\\Local\\Temp\\ipykernel_11956\\2627369951.py:1: UserWarning: \n",
      "\n",
      "`distplot` is a deprecated function and will be removed in seaborn v0.14.0.\n",
      "\n",
      "Please adapt your code to use either `displot` (a figure-level function with\n",
      "similar flexibility) or `histplot` (an axes-level function for histograms).\n",
      "\n",
      "For a guide to updating your code to use the new functions, please see\n",
      "https://gist.github.com/mwaskom/de44147ed2974457ad6372750bbe5751\n",
      "\n",
      "  sns.distplot(data.price_per_sqft)\n"
     ]
    },
    {
     "data": {
      "text/plain": [
       "<Axes: xlabel='price_per_sqft', ylabel='Density'>"
      ]
     },
     "execution_count": 45,
     "metadata": {},
     "output_type": "execute_result"
    },
    {
     "data": {
      "image/png": "[encoded data removed]",
      "text/plain": [
       "<Figure size 640x480 with 1 Axes>"
      ]
     },
     "metadata": {},
     "output_type": "display_data"
    }
   ],
   "source": [
    "sns.distplot(data.price_per_sqft)"
   ]
  },
  {
   "cell_type": "markdown",
   "id": "bb3ed2d2",
   "metadata": {},
   "source": [
    "## Outlier Detection"
   ]
  },
  {
   "cell_type": "markdown",
   "id": "b1c3363b",
   "metadata": {},
   "source": [
    "## IQR on total_sqft"
   ]
  },
  {
   "cell_type": "code",
   "execution_count": 46,
   "id": "126d9315",
   "metadata": {},
   "outputs": [],
   "source": [
    "data['sq_bhk'] = data['total_sqft']/data['bhk']"
   ]
  },
  {
   "cell_type": "code",
   "execution_count": 47,
   "id": "a5fba43e",
   "metadata": {},
   "outputs": [
    {
     "data": {
      "text/html": [
       "<div>\n",
       "<style scoped>\n",
       "    .dataframe tbody tr th:only-of-type {\n",
       "        vertical-align: middle;\n",
       "    }\n",
       "\n",
       "    .dataframe tbody tr th {\n",
       "        vertical-align: top;\n",
       "    }\n",
       "\n",
       "    .dataframe thead th {\n",
       "        text-align: right;\n",
       "    }\n",
       "</style>\n",
       "<table border=\"1\" class=\"dataframe\">\n",
       "  <thead>\n",
       "    <tr style=\"text-align: right;\">\n",
       "      <th></th>\n",
       "      <th>area_type</th>\n",
       "      <th>location</th>\n",
       "      <th>size</th>\n",
       "      <th>total_sqft</th>\n",
       "      <th>bath</th>\n",
       "      <th>balcony</th>\n",
       "      <th>price</th>\n",
       "      <th>bhk</th>\n",
       "      <th>price_per_sqft</th>\n",
       "      <th>sq_bhk</th>\n",
       "    </tr>\n",
       "  </thead>\n",
       "  <tbody>\n",
       "    <tr>\n",
       "      <th>0</th>\n",
       "      <td>Super built-up  Area</td>\n",
       "      <td>Electronic City Phase II</td>\n",
       "      <td>2 BHK</td>\n",
       "      <td>1056.0</td>\n",
       "      <td>2.0</td>\n",
       "      <td>1.0</td>\n",
       "      <td>39.07</td>\n",
       "      <td>2</td>\n",
       "      <td>3699.810606</td>\n",
       "      <td>528.00</td>\n",
       "    </tr>\n",
       "    <tr>\n",
       "      <th>1</th>\n",
       "      <td>Plot  Area</td>\n",
       "      <td>Chikka Tirupathi</td>\n",
       "      <td>4 Bedroom</td>\n",
       "      <td>2600.0</td>\n",
       "      <td>5.0</td>\n",
       "      <td>3.0</td>\n",
       "      <td>120.00</td>\n",
       "      <td>4</td>\n",
       "      <td>4615.384615</td>\n",
       "      <td>650.00</td>\n",
       "    </tr>\n",
       "    <tr>\n",
       "      <th>2</th>\n",
       "      <td>Built-up  Area</td>\n",
       "      <td>Uttarahalli</td>\n",
       "      <td>3 BHK</td>\n",
       "      <td>1440.0</td>\n",
       "      <td>2.0</td>\n",
       "      <td>3.0</td>\n",
       "      <td>62.00</td>\n",
       "      <td>3</td>\n",
       "      <td>4305.555556</td>\n",
       "      <td>480.00</td>\n",
       "    </tr>\n",
       "    <tr>\n",
       "      <th>3</th>\n",
       "      <td>Super built-up  Area</td>\n",
       "      <td>Lingadheeranahalli</td>\n",
       "      <td>3 BHK</td>\n",
       "      <td>1521.0</td>\n",
       "      <td>3.0</td>\n",
       "      <td>1.0</td>\n",
       "      <td>95.00</td>\n",
       "      <td>3</td>\n",
       "      <td>6245.890861</td>\n",
       "      <td>507.00</td>\n",
       "    </tr>\n",
       "    <tr>\n",
       "      <th>4</th>\n",
       "      <td>Super built-up  Area</td>\n",
       "      <td>Kothanur</td>\n",
       "      <td>2 BHK</td>\n",
       "      <td>1200.0</td>\n",
       "      <td>2.0</td>\n",
       "      <td>1.0</td>\n",
       "      <td>51.00</td>\n",
       "      <td>2</td>\n",
       "      <td>4250.000000</td>\n",
       "      <td>600.00</td>\n",
       "    </tr>\n",
       "    <tr>\n",
       "      <th>...</th>\n",
       "      <td>...</td>\n",
       "      <td>...</td>\n",
       "      <td>...</td>\n",
       "      <td>...</td>\n",
       "      <td>...</td>\n",
       "      <td>...</td>\n",
       "      <td>...</td>\n",
       "      <td>...</td>\n",
       "      <td>...</td>\n",
       "      <td>...</td>\n",
       "    </tr>\n",
       "    <tr>\n",
       "      <th>13315</th>\n",
       "      <td>Built-up  Area</td>\n",
       "      <td>Whitefield</td>\n",
       "      <td>5 Bedroom</td>\n",
       "      <td>3453.0</td>\n",
       "      <td>4.0</td>\n",
       "      <td>0.0</td>\n",
       "      <td>231.00</td>\n",
       "      <td>5</td>\n",
       "      <td>6689.834926</td>\n",
       "      <td>690.60</td>\n",
       "    </tr>\n",
       "    <tr>\n",
       "      <th>13316</th>\n",
       "      <td>Super built-up  Area</td>\n",
       "      <td>other</td>\n",
       "      <td>4 BHK</td>\n",
       "      <td>3600.0</td>\n",
       "      <td>5.0</td>\n",
       "      <td>1.0</td>\n",
       "      <td>400.00</td>\n",
       "      <td>4</td>\n",
       "      <td>11111.111111</td>\n",
       "      <td>900.00</td>\n",
       "    </tr>\n",
       "    <tr>\n",
       "      <th>13317</th>\n",
       "      <td>Built-up  Area</td>\n",
       "      <td>Raja Rajeshwari Nagar</td>\n",
       "      <td>2 BHK</td>\n",
       "      <td>1141.0</td>\n",
       "      <td>2.0</td>\n",
       "      <td>1.0</td>\n",
       "      <td>60.00</td>\n",
       "      <td>2</td>\n",
       "      <td>5258.545136</td>\n",
       "      <td>570.50</td>\n",
       "    </tr>\n",
       "    <tr>\n",
       "      <th>13318</th>\n",
       "      <td>Super built-up  Area</td>\n",
       "      <td>Padmanabhanagar</td>\n",
       "      <td>4 BHK</td>\n",
       "      <td>4689.0</td>\n",
       "      <td>4.0</td>\n",
       "      <td>1.0</td>\n",
       "      <td>488.00</td>\n",
       "      <td>4</td>\n",
       "      <td>10407.336319</td>\n",
       "      <td>1172.25</td>\n",
       "    </tr>\n",
       "    <tr>\n",
       "      <th>13319</th>\n",
       "      <td>Super built-up  Area</td>\n",
       "      <td>Doddathoguru</td>\n",
       "      <td>1 BHK</td>\n",
       "      <td>550.0</td>\n",
       "      <td>1.0</td>\n",
       "      <td>1.0</td>\n",
       "      <td>17.00</td>\n",
       "      <td>1</td>\n",
       "      <td>3090.909091</td>\n",
       "      <td>550.00</td>\n",
       "    </tr>\n",
       "  </tbody>\n",
       "</table>\n",
       "<p>13320 rows × 10 columns</p>\n",
       "</div>"
      ],
      "text/plain": [
       "                  area_type                  location       size  total_sqft  \\\n",
       "0      Super built-up  Area  Electronic City Phase II      2 BHK      1056.0   \n",
       "1                Plot  Area          Chikka Tirupathi  4 Bedroom      2600.0   \n",
       "2            Built-up  Area               Uttarahalli      3 BHK      1440.0   \n",
       "3      Super built-up  Area        Lingadheeranahalli      3 BHK      1521.0   \n",
       "4      Super built-up  Area                  Kothanur      2 BHK      1200.0   \n",
       "...                     ...                       ...        ...         ...   \n",
       "13315        Built-up  Area                Whitefield  5 Bedroom      3453.0   \n",
       "13316  Super built-up  Area                     other      4 BHK      3600.0   \n",
       "13317        Built-up  Area     Raja Rajeshwari Nagar      2 BHK      1141.0   \n",
       "13318  Super built-up  Area           Padmanabhanagar      4 BHK      4689.0   \n",
       "13319  Super built-up  Area              Doddathoguru      1 BHK       550.0   \n",
       "\n",
       "       bath  balcony   price  bhk  price_per_sqft   sq_bhk  \n",
       "0       2.0      1.0   39.07    2     3699.810606   528.00  \n",
       "1       5.0      3.0  120.00    4     4615.384615   650.00  \n",
       "2       2.0      3.0   62.00    3     4305.555556   480.00  \n",
       "3       3.0      1.0   95.00    3     6245.890861   507.00  \n",
       "4       2.0      1.0   51.00    2     4250.000000   600.00  \n",
       "...     ...      ...     ...  ...             ...      ...  \n",
       "13315   4.0      0.0  231.00    5     6689.834926   690.60  \n",
       "13316   5.0      1.0  400.00    4    11111.111111   900.00  \n",
       "13317   2.0      1.0   60.00    2     5258.545136   570.50  \n",
       "13318   4.0      1.0  488.00    4    10407.336319  1172.25  \n",
       "13319   1.0      1.0   17.00    1     3090.909091   550.00  \n",
       "\n",
       "[13320 rows x 10 columns]"
      ]
     },
     "execution_count": 47,
     "metadata": {},
     "output_type": "execute_result"
    }
   ],
   "source": [
    "data"
   ]
  },
  {
   "cell_type": "markdown",
   "id": "551a8023",
   "metadata": {},
   "source": [
    "## Checking Distribuion of Every Column"
   ]
  },
  {
   "cell_type": "code",
   "execution_count": 48,
   "id": "fd1073f2",
   "metadata": {},
   "outputs": [
    {
     "name": "stdout",
     "output_type": "stream",
     "text": [
      "total_sqft\n"
     ]
    },
    {
     "name": "stderr",
     "output_type": "stream",
     "text": [
      "C:\\Users\\DARSHIT\\AppData\\Local\\Temp\\ipykernel_11956\\934777279.py:4: UserWarning: \n",
      "\n",
      "`distplot` is a deprecated function and will be removed in seaborn v0.14.0.\n",
      "\n",
      "Please adapt your code to use either `displot` (a figure-level function with\n",
      "similar flexibility) or `histplot` (an axes-level function for histograms).\n",
      "\n",
      "For a guide to updating your code to use the new functions, please see\n",
      "https://gist.github.com/mwaskom/de44147ed2974457ad6372750bbe5751\n",
      "\n",
      "  sns.distplot(data[i])\n"
     ]
    },
    {
     "data": {
      "image/png": "[encoded data removed]",
      "text/plain": [
       "<Figure size 640x480 with 1 Axes>"
      ]
     },
     "metadata": {},
     "output_type": "display_data"
    },
    {
     "name": "stdout",
     "output_type": "stream",
     "text": [
      "bath\n"
     ]
    },
    {
     "name": "stderr",
     "output_type": "stream",
     "text": [
      "C:\\Users\\DARSHIT\\AppData\\Local\\Temp\\ipykernel_11956\\934777279.py:4: UserWarning: \n",
      "\n",
      "`distplot` is a deprecated function and will be removed in seaborn v0.14.0.\n",
      "\n",
      "Please adapt your code to use either `displot` (a figure-level function with\n",
      "similar flexibility) or `histplot` (an axes-level function for histograms).\n",
      "\n",
      "For a guide to updating your code to use the new functions, please see\n",
      "https://gist.github.com/mwaskom/de44147ed2974457ad6372750bbe5751\n",
      "\n",
      "  sns.distplot(data[i])\n"
     ]
    },
    {
     "data": {
      "image/png": "[encoded data removed]",
      "text/plain": [
       "<Figure size 640x480 with 1 Axes>"
      ]
     },
     "metadata": {},
     "output_type": "display_data"
    },
    {
     "name": "stdout",
     "output_type": "stream",
     "text": [
      "balcony\n"
     ]
    },
    {
     "name": "stderr",
     "output_type": "stream",
     "text": [
      "C:\\Users\\DARSHIT\\AppData\\Local\\Temp\\ipykernel_11956\\934777279.py:4: UserWarning: \n",
      "\n",
      "`distplot` is a deprecated function and will be removed in seaborn v0.14.0.\n",
      "\n",
      "Please adapt your code to use either `displot` (a figure-level function with\n",
      "similar flexibility) or `histplot` (an axes-level function for histograms).\n",
      "\n",
      "For a guide to updating your code to use the new functions, please see\n",
      "https://gist.github.com/mwaskom/de44147ed2974457ad6372750bbe5751\n",
      "\n",
      "  sns.distplot(data[i])\n"
     ]
    },
    {
     "data": {
      "image/png": "[encoded data removed]",
      "text/plain": [
       "<Figure size 640x480 with 1 Axes>"
      ]
     },
     "metadata": {},
     "output_type": "display_data"
    },
    {
     "name": "stdout",
     "output_type": "stream",
     "text": [
      "price\n"
     ]
    },
    {
     "name": "stderr",
     "output_type": "stream",
     "text": [
      "C:\\Users\\DARSHIT\\AppData\\Local\\Temp\\ipykernel_11956\\934777279.py:4: UserWarning: \n",
      "\n",
      "`distplot` is a deprecated function and will be removed in seaborn v0.14.0.\n",
      "\n",
      "Please adapt your code to use either `displot` (a figure-level function with\n",
      "similar flexibility) or `histplot` (an axes-level function for histograms).\n",
      "\n",
      "For a guide to updating your code to use the new functions, please see\n",
      "https://gist.github.com/mwaskom/de44147ed2974457ad6372750bbe5751\n",
      "\n",
      "  sns.distplot(data[i])\n"
     ]
    },
    {
     "data": {
      "image/png": "[encoded data removed]",
      "text/plain": [
       "<Figure size 640x480 with 1 Axes>"
      ]
     },
     "metadata": {},
     "output_type": "display_data"
    },
    {
     "name": "stdout",
     "output_type": "stream",
     "text": [
      "bhk\n"
     ]
    },
    {
     "name": "stderr",
     "output_type": "stream",
     "text": [
      "C:\\Users\\DARSHIT\\AppData\\Local\\Temp\\ipykernel_11956\\934777279.py:4: UserWarning: \n",
      "\n",
      "`distplot` is a deprecated function and will be removed in seaborn v0.14.0.\n",
      "\n",
      "Please adapt your code to use either `displot` (a figure-level function with\n",
      "similar flexibility) or `histplot` (an axes-level function for histograms).\n",
      "\n",
      "For a guide to updating your code to use the new functions, please see\n",
      "https://gist.github.com/mwaskom/de44147ed2974457ad6372750bbe5751\n",
      "\n",
      "  sns.distplot(data[i])\n"
     ]
    },
    {
     "data": {
      "image/png": "[encoded data removed]",
      "text/plain": [
       "<Figure size 640x480 with 1 Axes>"
      ]
     },
     "metadata": {},
     "output_type": "display_data"
    },
    {
     "name": "stdout",
     "output_type": "stream",
     "text": [
      "price_per_sqft\n"
     ]
    },
    {
     "name": "stderr",
     "output_type": "stream",
     "text": [
      "C:\\Users\\DARSHIT\\AppData\\Local\\Temp\\ipykernel_11956\\934777279.py:4: UserWarning: \n",
      "\n",
      "`distplot` is a deprecated function and will be removed in seaborn v0.14.0.\n",
      "\n",
      "Please adapt your code to use either `displot` (a figure-level function with\n",
      "similar flexibility) or `histplot` (an axes-level function for histograms).\n",
      "\n",
      "For a guide to updating your code to use the new functions, please see\n",
      "https://gist.github.com/mwaskom/de44147ed2974457ad6372750bbe5751\n",
      "\n",
      "  sns.distplot(data[i])\n"
     ]
    },
    {
     "data": {
      "image/png": "[encoded data removed]",
      "text/plain": [
       "<Figure size 640x480 with 1 Axes>"
      ]
     },
     "metadata": {},
     "output_type": "display_data"
    },
    {
     "name": "stdout",
     "output_type": "stream",
     "text": [
      "sq_bhk\n"
     ]
    },
    {
     "name": "stderr",
     "output_type": "stream",
     "text": [
      "C:\\Users\\DARSHIT\\AppData\\Local\\Temp\\ipykernel_11956\\934777279.py:4: UserWarning: \n",
      "\n",
      "`distplot` is a deprecated function and will be removed in seaborn v0.14.0.\n",
      "\n",
      "Please adapt your code to use either `displot` (a figure-level function with\n",
      "similar flexibility) or `histplot` (an axes-level function for histograms).\n",
      "\n",
      "For a guide to updating your code to use the new functions, please see\n",
      "https://gist.github.com/mwaskom/de44147ed2974457ad6372750bbe5751\n",
      "\n",
      "  sns.distplot(data[i])\n"
     ]
    },
    {
     "data": {
      "image/png": "[encoded data removed]",
      "text/plain": [
       "<Figure size 640x480 with 1 Axes>"
      ]
     },
     "metadata": {},
     "output_type": "display_data"
    }
   ],
   "source": [
    "for i in data.columns:\n",
    "    if data[i].dtype != 'object':\n",
    "        print(i)\n",
    "        sns.distplot(data[i])\n",
    "        plt.show()"
   ]
  },
  {
   "cell_type": "code",
   "execution_count": 49,
   "id": "bf2d6795",
   "metadata": {},
   "outputs": [
    {
     "name": "stdout",
     "output_type": "stream",
     "text": [
      "area_type\n",
      "Super built-up  Area    8790\n",
      "Built-up  Area          2418\n",
      "Plot  Area              2025\n",
      "Carpet  Area              87\n",
      "Name: count, dtype: int64\n",
      "**************************************************\n",
      "location\n",
      "other                 2885\n",
      "Whitefield             542\n",
      "Sarjapur  Road         399\n",
      "Electronic City        304\n",
      "Kanakpura Road         273\n",
      "                      ... \n",
      "Nehru Nagar             11\n",
      "Banjara Layout          11\n",
      "LB Shastri Nagar        11\n",
      "Pattandur Agrahara      11\n",
      "Narayanapura            11\n",
      "Name: count, Length: 242, dtype: int64\n",
      "**************************************************\n",
      "size\n",
      "2 BHK         5215\n",
      "3 BHK         4310\n",
      "4 Bedroom      826\n",
      "4 BHK          591\n",
      "3 Bedroom      547\n",
      "1 BHK          538\n",
      "2 Bedroom      329\n",
      "5 Bedroom      297\n",
      "6 Bedroom      191\n",
      "1 Bedroom      105\n",
      "8 Bedroom       84\n",
      "7 Bedroom       83\n",
      "5 BHK           59\n",
      "9 Bedroom       46\n",
      "6 BHK           30\n",
      "7 BHK           17\n",
      "1 RK            13\n",
      "10 Bedroom      12\n",
      "9 BHK            8\n",
      "8 BHK            5\n",
      "11 BHK           2\n",
      "11 Bedroom       2\n",
      "10 BHK           2\n",
      "14 BHK           1\n",
      "13 BHK           1\n",
      "12 Bedroom       1\n",
      "27 BHK           1\n",
      "43 Bedroom       1\n",
      "16 BHK           1\n",
      "19 BHK           1\n",
      "18 Bedroom       1\n",
      "Name: count, dtype: int64\n",
      "**************************************************\n",
      "total_sqft\n",
      "1200.0    843\n",
      "1100.0    221\n",
      "1500.0    206\n",
      "2400.0    197\n",
      "600.0     180\n",
      "         ... \n",
      "300.0       1\n",
      "1778.0      1\n",
      "2006.8      1\n",
      "1922.0      1\n",
      "4689.0      1\n",
      "Name: count, Length: 2028, dtype: int64\n",
      "**************************************************\n",
      "bath\n",
      "2.0     6981\n",
      "3.0     3286\n",
      "4.0     1226\n",
      "1.0      788\n",
      "5.0      524\n",
      "6.0      273\n",
      "7.0      102\n",
      "8.0       64\n",
      "9.0       43\n",
      "10.0      13\n",
      "12.0       7\n",
      "13.0       3\n",
      "11.0       3\n",
      "16.0       2\n",
      "27.0       1\n",
      "40.0       1\n",
      "15.0       1\n",
      "14.0       1\n",
      "18.0       1\n",
      "Name: count, dtype: int64\n",
      "**************************************************\n",
      "balcony\n",
      "1.0    5195\n",
      "2.0    5113\n",
      "3.0    1672\n",
      "0.0    1340\n",
      "Name: count, dtype: int64\n",
      "**************************************************\n",
      "price\n",
      "75.00     310\n",
      "65.00     302\n",
      "55.00     275\n",
      "60.00     270\n",
      "45.00     240\n",
      "         ... \n",
      "351.00      1\n",
      "54.10       1\n",
      "80.64       1\n",
      "32.73       1\n",
      "488.00      1\n",
      "Name: count, Length: 1994, dtype: int64\n",
      "**************************************************\n",
      "bhk\n",
      "2     5544\n",
      "3     4857\n",
      "4     1417\n",
      "1      656\n",
      "5      356\n",
      "6      221\n",
      "7      100\n",
      "8       89\n",
      "9       54\n",
      "10      14\n",
      "11       4\n",
      "27       1\n",
      "19       1\n",
      "16       1\n",
      "43       1\n",
      "14       1\n",
      "12       1\n",
      "13       1\n",
      "18       1\n",
      "Name: count, dtype: int64\n",
      "**************************************************\n",
      "price_per_sqft\n",
      "5000.000000     147\n",
      "4000.000000     137\n",
      "10000.000000     77\n",
      "6666.666667      73\n",
      "3500.000000      65\n",
      "               ... \n",
      "15304.347826      1\n",
      "7154.471545       1\n",
      "6092.607636       1\n",
      "4973.544974       1\n",
      "10407.336319      1\n",
      "Name: count, Length: 7645, dtype: int64\n",
      "**************************************************\n",
      "sq_bhk\n",
      "600.000000     531\n",
      "500.000000     336\n",
      "550.000000     260\n",
      "400.000000     256\n",
      "450.000000     194\n",
      "              ... \n",
      "332.333333       1\n",
      "418.666667       1\n",
      "470.500000       1\n",
      "485.750000       1\n",
      "1172.250000      1\n",
      "Name: count, Length: 2167, dtype: int64\n",
      "**************************************************\n"
     ]
    }
   ],
   "source": [
    "for i in data.columns:\n",
    "    print(data[i].value_counts())\n",
    "    print('*'*50)"
   ]
  },
  {
   "cell_type": "code",
   "execution_count": 50,
   "id": "15bb01e4",
   "metadata": {},
   "outputs": [],
   "source": [
    "Q1 = data['total_sqft'].quantile(0.25)\n",
    "Q3 = data['total_sqft'].quantile(0.75)\n",
    "IQR = Q3 - Q1\n",
    "\n",
    "# Define lower and upper bounds\n",
    "lower_bound = Q1 - 1.5 * IQR\n",
    "upper_bound = Q3 + 1.5 * IQR\n",
    "\n",
    "# Identify and remove outliers\n",
    "new_data = data[(data['total_sqft'] >= lower_bound) & (data['total_sqft'] <= upper_bound)]"
   ]
  },
  {
   "cell_type": "code",
   "execution_count": 51,
   "id": "7fec87e1",
   "metadata": {},
   "outputs": [
    {
     "name": "stdout",
     "output_type": "stream",
     "text": [
      "area_type\n",
      "Super built-up  Area    8270\n",
      "Built-up  Area          2084\n",
      "Plot  Area              1691\n",
      "Carpet  Area              82\n",
      "Name: count, dtype: int64\n",
      "**************************************************\n",
      "location\n",
      "other               2550\n",
      "Whitefield           448\n",
      "Sarjapur  Road       343\n",
      "Electronic City      303\n",
      "Kanakpura Road       266\n",
      "                    ... \n",
      "Konanakunte            8\n",
      "Kodihalli              7\n",
      "Chikka Tirupathi       7\n",
      "Doddaballapur          6\n",
      "Cunningham Road        1\n",
      "Name: count, Length: 242, dtype: int64\n",
      "**************************************************\n",
      "size\n",
      "2 BHK         5207\n",
      "3 BHK         4171\n",
      "1 BHK          534\n",
      "4 Bedroom      532\n",
      "3 Bedroom      462\n",
      "2 Bedroom      319\n",
      "5 Bedroom      224\n",
      "4 BHK          188\n",
      "6 Bedroom      158\n",
      "1 Bedroom       97\n",
      "8 Bedroom       64\n",
      "7 Bedroom       61\n",
      "9 Bedroom       35\n",
      "5 BHK           18\n",
      "6 BHK           17\n",
      "1 RK            13\n",
      "7 BHK            8\n",
      "10 Bedroom       8\n",
      "8 BHK            3\n",
      "11 Bedroom       2\n",
      "19 BHK           1\n",
      "43 Bedroom       1\n",
      "14 BHK           1\n",
      "12 Bedroom       1\n",
      "9 BHK            1\n",
      "18 Bedroom       1\n",
      "Name: count, dtype: int64\n",
      "**************************************************\n",
      "total_sqft\n",
      "1200.00    843\n",
      "1100.00    221\n",
      "1500.00    206\n",
      "2400.00    197\n",
      "600.00     180\n",
      "          ... \n",
      "981.00       1\n",
      "1548.30      1\n",
      "2302.00      1\n",
      "1525.84      1\n",
      "774.00       1\n",
      "Name: count, Length: 1562, dtype: int64\n",
      "**************************************************\n",
      "bath\n",
      "2.0     6922\n",
      "3.0     3096\n",
      "4.0      777\n",
      "1.0      775\n",
      "5.0      249\n",
      "6.0      154\n",
      "7.0       64\n",
      "8.0       42\n",
      "9.0       26\n",
      "10.0      11\n",
      "11.0       3\n",
      "12.0       3\n",
      "16.0       1\n",
      "40.0       1\n",
      "15.0       1\n",
      "13.0       1\n",
      "18.0       1\n",
      "Name: count, dtype: int64\n",
      "**************************************************\n",
      "balcony\n",
      "1.0    4883\n",
      "2.0    4759\n",
      "3.0    1387\n",
      "0.0    1098\n",
      "Name: count, dtype: int64\n",
      "**************************************************\n",
      "price\n",
      "75.00    308\n",
      "65.00    302\n",
      "55.00    274\n",
      "60.00    269\n",
      "45.00    239\n",
      "        ... \n",
      "40.98      1\n",
      "27.54      1\n",
      "84.95      1\n",
      "63.98      1\n",
      "40.14      1\n",
      "Name: count, Length: 1817, dtype: int64\n",
      "**************************************************\n",
      "bhk\n",
      "2     5526\n",
      "3     4633\n",
      "4      720\n",
      "1      644\n",
      "5      242\n",
      "6      175\n",
      "7       69\n",
      "8       67\n",
      "9       36\n",
      "10       8\n",
      "11       2\n",
      "19       1\n",
      "43       1\n",
      "14       1\n",
      "12       1\n",
      "18       1\n",
      "Name: count, dtype: int64\n",
      "**************************************************\n",
      "price_per_sqft\n",
      "4000.000000     133\n",
      "5000.000000     133\n",
      "6666.666667      67\n",
      "3500.000000      65\n",
      "10000.000000     64\n",
      "               ... \n",
      "5704.918033       1\n",
      "5102.880658       1\n",
      "6344.410876       1\n",
      "5101.214575       1\n",
      "5258.545136       1\n",
      "Name: count, Length: 6958, dtype: int64\n",
      "**************************************************\n",
      "sq_bhk\n",
      "600.000000    519\n",
      "500.000000    324\n",
      "550.000000    259\n",
      "400.000000    249\n",
      "450.000000    188\n",
      "             ... \n",
      "277.500000      1\n",
      "595.750000      1\n",
      "132.857143      1\n",
      "307.600000      1\n",
      "154.800000      1\n",
      "Name: count, Length: 1730, dtype: int64\n",
      "**************************************************\n"
     ]
    }
   ],
   "source": [
    "for i in new_data.columns:\n",
    "    print(new_data[i].value_counts())\n",
    "    print('*'*50)"
   ]
  },
  {
   "cell_type": "code",
   "execution_count": 52,
   "id": "534efa08",
   "metadata": {},
   "outputs": [
    {
     "data": {
      "text/plain": [
       "(12127, 10)"
      ]
     },
     "execution_count": 52,
     "metadata": {},
     "output_type": "execute_result"
    }
   ],
   "source": [
    "new_data.shape"
   ]
  },
  {
   "cell_type": "code",
   "execution_count": 53,
   "id": "36805af5",
   "metadata": {},
   "outputs": [
    {
     "name": "stderr",
     "output_type": "stream",
     "text": [
      "C:\\Users\\DARSHIT\\AppData\\Local\\Temp\\ipykernel_11956\\3803462747.py:1: UserWarning: \n",
      "\n",
      "`distplot` is a deprecated function and will be removed in seaborn v0.14.0.\n",
      "\n",
      "Please adapt your code to use either `displot` (a figure-level function with\n",
      "similar flexibility) or `histplot` (an axes-level function for histograms).\n",
      "\n",
      "For a guide to updating your code to use the new functions, please see\n",
      "https://gist.github.com/mwaskom/de44147ed2974457ad6372750bbe5751\n",
      "\n",
      "  sns.distplot(new_data.bhk)\n"
     ]
    },
    {
     "data": {
      "text/plain": [
       "<Axes: xlabel='bhk', ylabel='Density'>"
      ]
     },
     "execution_count": 53,
     "metadata": {},
     "output_type": "execute_result"
    },
    {
     "data": {
      "image/png": "[encoded data removed]",
      "text/plain": [
       "<Figure size 640x480 with 1 Axes>"
      ]
     },
     "metadata": {},
     "output_type": "display_data"
    }
   ],
   "source": [
    "sns.distplot(new_data.bhk)"
   ]
  },
  {
   "cell_type": "code",
   "execution_count": 54,
   "id": "65f60b17",
   "metadata": {},
   "outputs": [
    {
     "data": {
      "text/html": [
       "<div>\n",
       "<style scoped>\n",
       "    .dataframe tbody tr th:only-of-type {\n",
       "        vertical-align: middle;\n",
       "    }\n",
       "\n",
       "    .dataframe tbody tr th {\n",
       "        vertical-align: top;\n",
       "    }\n",
       "\n",
       "    .dataframe thead th {\n",
       "        text-align: right;\n",
       "    }\n",
       "</style>\n",
       "<table border=\"1\" class=\"dataframe\">\n",
       "  <thead>\n",
       "    <tr style=\"text-align: right;\">\n",
       "      <th></th>\n",
       "      <th>total_sqft</th>\n",
       "      <th>bath</th>\n",
       "      <th>balcony</th>\n",
       "      <th>price</th>\n",
       "      <th>bhk</th>\n",
       "      <th>price_per_sqft</th>\n",
       "      <th>sq_bhk</th>\n",
       "    </tr>\n",
       "  </thead>\n",
       "  <tbody>\n",
       "    <tr>\n",
       "      <th>total_sqft</th>\n",
       "      <td>1.000000</td>\n",
       "      <td>0.400641</td>\n",
       "      <td>0.247249</td>\n",
       "      <td>0.563539</td>\n",
       "      <td>0.374598</td>\n",
       "      <td>0.112742</td>\n",
       "      <td>0.381249</td>\n",
       "    </tr>\n",
       "    <tr>\n",
       "      <th>bath</th>\n",
       "      <td>0.400641</td>\n",
       "      <td>1.000000</td>\n",
       "      <td>0.134811</td>\n",
       "      <td>0.505926</td>\n",
       "      <td>0.892631</td>\n",
       "      <td>0.433825</td>\n",
       "      <td>-0.392520</td>\n",
       "    </tr>\n",
       "    <tr>\n",
       "      <th>balcony</th>\n",
       "      <td>0.247249</td>\n",
       "      <td>0.134811</td>\n",
       "      <td>1.000000</td>\n",
       "      <td>0.074056</td>\n",
       "      <td>0.119235</td>\n",
       "      <td>-0.014611</td>\n",
       "      <td>0.012964</td>\n",
       "    </tr>\n",
       "    <tr>\n",
       "      <th>price</th>\n",
       "      <td>0.563539</td>\n",
       "      <td>0.505926</td>\n",
       "      <td>0.074056</td>\n",
       "      <td>1.000000</td>\n",
       "      <td>0.484226</td>\n",
       "      <td>0.791946</td>\n",
       "      <td>0.022215</td>\n",
       "    </tr>\n",
       "    <tr>\n",
       "      <th>bhk</th>\n",
       "      <td>0.374598</td>\n",
       "      <td>0.892631</td>\n",
       "      <td>0.119235</td>\n",
       "      <td>0.484226</td>\n",
       "      <td>1.000000</td>\n",
       "      <td>0.427025</td>\n",
       "      <td>-0.531230</td>\n",
       "    </tr>\n",
       "    <tr>\n",
       "      <th>price_per_sqft</th>\n",
       "      <td>0.112742</td>\n",
       "      <td>0.433825</td>\n",
       "      <td>-0.014611</td>\n",
       "      <td>0.791946</td>\n",
       "      <td>0.427025</td>\n",
       "      <td>1.000000</td>\n",
       "      <td>-0.240404</td>\n",
       "    </tr>\n",
       "    <tr>\n",
       "      <th>sq_bhk</th>\n",
       "      <td>0.381249</td>\n",
       "      <td>-0.392520</td>\n",
       "      <td>0.012964</td>\n",
       "      <td>0.022215</td>\n",
       "      <td>-0.531230</td>\n",
       "      <td>-0.240404</td>\n",
       "      <td>1.000000</td>\n",
       "    </tr>\n",
       "  </tbody>\n",
       "</table>\n",
       "</div>"
      ],
      "text/plain": [
       "                total_sqft      bath   balcony     price       bhk  \\\n",
       "total_sqft        1.000000  0.400641  0.247249  0.563539  0.374598   \n",
       "bath              0.400641  1.000000  0.134811  0.505926  0.892631   \n",
       "balcony           0.247249  0.134811  1.000000  0.074056  0.119235   \n",
       "price             0.563539  0.505926  0.074056  1.000000  0.484226   \n",
       "bhk               0.374598  0.892631  0.119235  0.484226  1.000000   \n",
       "price_per_sqft    0.112742  0.433825 -0.014611  0.791946  0.427025   \n",
       "sq_bhk            0.381249 -0.392520  0.012964  0.022215 -0.531230   \n",
       "\n",
       "                price_per_sqft    sq_bhk  \n",
       "total_sqft            0.112742  0.381249  \n",
       "bath                  0.433825 -0.392520  \n",
       "balcony              -0.014611  0.012964  \n",
       "price                 0.791946  0.022215  \n",
       "bhk                   0.427025 -0.531230  \n",
       "price_per_sqft        1.000000 -0.240404  \n",
       "sq_bhk               -0.240404  1.000000  "
      ]
     },
     "execution_count": 54,
     "metadata": {},
     "output_type": "execute_result"
    }
   ],
   "source": [
    "new_data.corr(numeric_only=True)"
   ]
  },
  {
   "cell_type": "code",
   "execution_count": 55,
   "id": "6f67fe7b",
   "metadata": {},
   "outputs": [],
   "source": [
    "#new_data.drop('sq_bhk',axis=1,inplace=True)"
   ]
  },
  {
   "cell_type": "code",
   "execution_count": 56,
   "id": "195d2c6d",
   "metadata": {},
   "outputs": [
    {
     "data": {
      "text/html": [
       "<div>\n",
       "<style scoped>\n",
       "    .dataframe tbody tr th:only-of-type {\n",
       "        vertical-align: middle;\n",
       "    }\n",
       "\n",
       "    .dataframe tbody tr th {\n",
       "        vertical-align: top;\n",
       "    }\n",
       "\n",
       "    .dataframe thead th {\n",
       "        text-align: right;\n",
       "    }\n",
       "</style>\n",
       "<table border=\"1\" class=\"dataframe\">\n",
       "  <thead>\n",
       "    <tr style=\"text-align: right;\">\n",
       "      <th></th>\n",
       "      <th>total_sqft</th>\n",
       "      <th>bath</th>\n",
       "      <th>balcony</th>\n",
       "      <th>price</th>\n",
       "      <th>bhk</th>\n",
       "      <th>price_per_sqft</th>\n",
       "      <th>sq_bhk</th>\n",
       "    </tr>\n",
       "  </thead>\n",
       "  <tbody>\n",
       "    <tr>\n",
       "      <th>count</th>\n",
       "      <td>12127.000000</td>\n",
       "      <td>12127.000000</td>\n",
       "      <td>12127.000000</td>\n",
       "      <td>12127.000000</td>\n",
       "      <td>12127.000000</td>\n",
       "      <td>12127.000000</td>\n",
       "      <td>12127.000000</td>\n",
       "    </tr>\n",
       "    <tr>\n",
       "      <th>mean</th>\n",
       "      <td>1323.135449</td>\n",
       "      <td>2.513647</td>\n",
       "      <td>1.530634</td>\n",
       "      <td>87.189476</td>\n",
       "      <td>2.662324</td>\n",
       "      <td>6434.726228</td>\n",
       "      <td>531.969237</td>\n",
       "    </tr>\n",
       "    <tr>\n",
       "      <th>std</th>\n",
       "      <td>415.088451</td>\n",
       "      <td>1.159529</td>\n",
       "      <td>0.811754</td>\n",
       "      <td>71.321687</td>\n",
       "      <td>1.179160</td>\n",
       "      <td>4379.476082</td>\n",
       "      <td>148.700188</td>\n",
       "    </tr>\n",
       "    <tr>\n",
       "      <th>min</th>\n",
       "      <td>250.000000</td>\n",
       "      <td>1.000000</td>\n",
       "      <td>0.000000</td>\n",
       "      <td>8.000000</td>\n",
       "      <td>1.000000</td>\n",
       "      <td>500.000000</td>\n",
       "      <td>51.666720</td>\n",
       "    </tr>\n",
       "    <tr>\n",
       "      <th>25%</th>\n",
       "      <td>1080.000000</td>\n",
       "      <td>2.000000</td>\n",
       "      <td>1.000000</td>\n",
       "      <td>48.000000</td>\n",
       "      <td>2.000000</td>\n",
       "      <td>4200.285626</td>\n",
       "      <td>465.666667</td>\n",
       "    </tr>\n",
       "    <tr>\n",
       "      <th>50%</th>\n",
       "      <td>1236.000000</td>\n",
       "      <td>2.000000</td>\n",
       "      <td>2.000000</td>\n",
       "      <td>67.000000</td>\n",
       "      <td>2.000000</td>\n",
       "      <td>5283.711615</td>\n",
       "      <td>544.000000</td>\n",
       "    </tr>\n",
       "    <tr>\n",
       "      <th>75%</th>\n",
       "      <td>1541.000000</td>\n",
       "      <td>3.000000</td>\n",
       "      <td>2.000000</td>\n",
       "      <td>100.000000</td>\n",
       "      <td>3.000000</td>\n",
       "      <td>6942.090826</td>\n",
       "      <td>603.500000</td>\n",
       "    </tr>\n",
       "    <tr>\n",
       "      <th>max</th>\n",
       "      <td>2550.000000</td>\n",
       "      <td>40.000000</td>\n",
       "      <td>3.000000</td>\n",
       "      <td>1400.000000</td>\n",
       "      <td>43.000000</td>\n",
       "      <td>176470.588235</td>\n",
       "      <td>2400.000000</td>\n",
       "    </tr>\n",
       "  </tbody>\n",
       "</table>\n",
       "</div>"
      ],
      "text/plain": [
       "         total_sqft          bath       balcony         price           bhk  \\\n",
       "count  12127.000000  12127.000000  12127.000000  12127.000000  12127.000000   \n",
       "mean    1323.135449      2.513647      1.530634     87.189476      2.662324   \n",
       "std      415.088451      1.159529      0.811754     71.321687      1.179160   \n",
       "min      250.000000      1.000000      0.000000      8.000000      1.000000   \n",
       "25%     1080.000000      2.000000      1.000000     48.000000      2.000000   \n",
       "50%     1236.000000      2.000000      2.000000     67.000000      2.000000   \n",
       "75%     1541.000000      3.000000      2.000000    100.000000      3.000000   \n",
       "max     2550.000000     40.000000      3.000000   1400.000000     43.000000   \n",
       "\n",
       "       price_per_sqft        sq_bhk  \n",
       "count    12127.000000  12127.000000  \n",
       "mean      6434.726228    531.969237  \n",
       "std       4379.476082    148.700188  \n",
       "min        500.000000     51.666720  \n",
       "25%       4200.285626    465.666667  \n",
       "50%       5283.711615    544.000000  \n",
       "75%       6942.090826    603.500000  \n",
       "max     176470.588235   2400.000000  "
      ]
     },
     "execution_count": 56,
     "metadata": {},
     "output_type": "execute_result"
    }
   ],
   "source": [
    "new_data.describe()"
   ]
  },
  {
   "cell_type": "code",
   "execution_count": 57,
   "id": "24f5381b",
   "metadata": {},
   "outputs": [
    {
     "name": "stderr",
     "output_type": "stream",
     "text": [
      "C:\\Users\\DARSHIT\\AppData\\Local\\Temp\\ipykernel_11956\\3803462747.py:1: UserWarning: \n",
      "\n",
      "`distplot` is a deprecated function and will be removed in seaborn v0.14.0.\n",
      "\n",
      "Please adapt your code to use either `displot` (a figure-level function with\n",
      "similar flexibility) or `histplot` (an axes-level function for histograms).\n",
      "\n",
      "For a guide to updating your code to use the new functions, please see\n",
      "https://gist.github.com/mwaskom/de44147ed2974457ad6372750bbe5751\n",
      "\n",
      "  sns.distplot(new_data.bhk)\n"
     ]
    },
    {
     "data": {
      "text/plain": [
       "<Axes: xlabel='bhk', ylabel='Density'>"
      ]
     },
     "execution_count": 57,
     "metadata": {},
     "output_type": "execute_result"
    },
    {
     "data": {
      "image/png": "[encoded data removed]",
      "text/plain": [
       "<Figure size 640x480 with 1 Axes>"
      ]
     },
     "metadata": {},
     "output_type": "display_data"
    }
   ],
   "source": [
    "sns.distplot(new_data.bhk)"
   ]
  },
  {
   "cell_type": "code",
   "execution_count": 58,
   "id": "5726e643",
   "metadata": {},
   "outputs": [
    {
     "data": {
      "text/plain": [
       "bhk\n",
       "2     5526\n",
       "3     4633\n",
       "4      720\n",
       "1      644\n",
       "5      242\n",
       "6      175\n",
       "7       69\n",
       "8       67\n",
       "9       36\n",
       "10       8\n",
       "11       2\n",
       "19       1\n",
       "43       1\n",
       "14       1\n",
       "12       1\n",
       "18       1\n",
       "Name: count, dtype: int64"
      ]
     },
     "execution_count": 58,
     "metadata": {},
     "output_type": "execute_result"
    }
   ],
   "source": [
    "new_data.bhk.value_counts()"
   ]
  },
  {
   "cell_type": "code",
   "execution_count": 59,
   "id": "0f96e8dc",
   "metadata": {},
   "outputs": [
    {
     "name": "stderr",
     "output_type": "stream",
     "text": [
      "C:\\Users\\DARSHIT\\AppData\\Local\\Temp\\ipykernel_11956\\1162017719.py:1: SettingWithCopyWarning: \n",
      "A value is trying to be set on a copy of a slice from a DataFrame\n",
      "\n",
      "See the caveats in the documentation: https://pandas.pydata.org/pandas-docs/stable/user_guide/indexing.html#returning-a-view-versus-a-copy\n",
      "  new_data.drop('size',axis=1,inplace=True)\n"
     ]
    }
   ],
   "source": [
    "new_data.drop('size',axis=1,inplace=True)"
   ]
  },
  {
   "cell_type": "code",
   "execution_count": 60,
   "id": "94830ae0",
   "metadata": {},
   "outputs": [
    {
     "data": {
      "text/plain": [
       "(12127, 9)"
      ]
     },
     "execution_count": 60,
     "metadata": {},
     "output_type": "execute_result"
    }
   ],
   "source": [
    "new_data.shape"
   ]
  },
  {
   "cell_type": "code",
   "execution_count": 61,
   "id": "10009cbd",
   "metadata": {},
   "outputs": [
    {
     "data": {
      "text/html": [
       "<div>\n",
       "<style scoped>\n",
       "    .dataframe tbody tr th:only-of-type {\n",
       "        vertical-align: middle;\n",
       "    }\n",
       "\n",
       "    .dataframe tbody tr th {\n",
       "        vertical-align: top;\n",
       "    }\n",
       "\n",
       "    .dataframe thead th {\n",
       "        text-align: right;\n",
       "    }\n",
       "</style>\n",
       "<table border=\"1\" class=\"dataframe\">\n",
       "  <thead>\n",
       "    <tr style=\"text-align: right;\">\n",
       "      <th></th>\n",
       "      <th>area_type</th>\n",
       "      <th>location</th>\n",
       "      <th>total_sqft</th>\n",
       "      <th>bath</th>\n",
       "      <th>balcony</th>\n",
       "      <th>price</th>\n",
       "      <th>bhk</th>\n",
       "      <th>price_per_sqft</th>\n",
       "      <th>sq_bhk</th>\n",
       "    </tr>\n",
       "  </thead>\n",
       "  <tbody>\n",
       "    <tr>\n",
       "      <th>0</th>\n",
       "      <td>Super built-up  Area</td>\n",
       "      <td>Electronic City Phase II</td>\n",
       "      <td>1056.0</td>\n",
       "      <td>2.0</td>\n",
       "      <td>1.0</td>\n",
       "      <td>39.07</td>\n",
       "      <td>2</td>\n",
       "      <td>3699.810606</td>\n",
       "      <td>528.0</td>\n",
       "    </tr>\n",
       "    <tr>\n",
       "      <th>2</th>\n",
       "      <td>Built-up  Area</td>\n",
       "      <td>Uttarahalli</td>\n",
       "      <td>1440.0</td>\n",
       "      <td>2.0</td>\n",
       "      <td>3.0</td>\n",
       "      <td>62.00</td>\n",
       "      <td>3</td>\n",
       "      <td>4305.555556</td>\n",
       "      <td>480.0</td>\n",
       "    </tr>\n",
       "    <tr>\n",
       "      <th>3</th>\n",
       "      <td>Super built-up  Area</td>\n",
       "      <td>Lingadheeranahalli</td>\n",
       "      <td>1521.0</td>\n",
       "      <td>3.0</td>\n",
       "      <td>1.0</td>\n",
       "      <td>95.00</td>\n",
       "      <td>3</td>\n",
       "      <td>6245.890861</td>\n",
       "      <td>507.0</td>\n",
       "    </tr>\n",
       "    <tr>\n",
       "      <th>4</th>\n",
       "      <td>Super built-up  Area</td>\n",
       "      <td>Kothanur</td>\n",
       "      <td>1200.0</td>\n",
       "      <td>2.0</td>\n",
       "      <td>1.0</td>\n",
       "      <td>51.00</td>\n",
       "      <td>2</td>\n",
       "      <td>4250.000000</td>\n",
       "      <td>600.0</td>\n",
       "    </tr>\n",
       "    <tr>\n",
       "      <th>5</th>\n",
       "      <td>Super built-up  Area</td>\n",
       "      <td>Whitefield</td>\n",
       "      <td>1170.0</td>\n",
       "      <td>2.0</td>\n",
       "      <td>1.0</td>\n",
       "      <td>38.00</td>\n",
       "      <td>2</td>\n",
       "      <td>3247.863248</td>\n",
       "      <td>585.0</td>\n",
       "    </tr>\n",
       "  </tbody>\n",
       "</table>\n",
       "</div>"
      ],
      "text/plain": [
       "              area_type                  location  total_sqft  bath  balcony  \\\n",
       "0  Super built-up  Area  Electronic City Phase II      1056.0   2.0      1.0   \n",
       "2        Built-up  Area               Uttarahalli      1440.0   2.0      3.0   \n",
       "3  Super built-up  Area        Lingadheeranahalli      1521.0   3.0      1.0   \n",
       "4  Super built-up  Area                  Kothanur      1200.0   2.0      1.0   \n",
       "5  Super built-up  Area                Whitefield      1170.0   2.0      1.0   \n",
       "\n",
       "   price  bhk  price_per_sqft  sq_bhk  \n",
       "0  39.07    2     3699.810606   528.0  \n",
       "2  62.00    3     4305.555556   480.0  \n",
       "3  95.00    3     6245.890861   507.0  \n",
       "4  51.00    2     4250.000000   600.0  \n",
       "5  38.00    2     3247.863248   585.0  "
      ]
     },
     "execution_count": 61,
     "metadata": {},
     "output_type": "execute_result"
    }
   ],
   "source": [
    "new_data.head()"
   ]
  },
  {
   "cell_type": "code",
   "execution_count": 62,
   "id": "edbbb2e5",
   "metadata": {},
   "outputs": [
    {
     "data": {
      "text/plain": [
       "array([ 2,  3,  6,  1,  4,  8,  7,  5,  9, 10, 11, 19, 43, 14, 12, 18])"
      ]
     },
     "execution_count": 62,
     "metadata": {},
     "output_type": "execute_result"
    }
   ],
   "source": [
    "new_data.bhk.unique()"
   ]
  },
  {
   "cell_type": "code",
   "execution_count": 63,
   "id": "6d59b26e",
   "metadata": {},
   "outputs": [
    {
     "data": {
      "text/plain": [
       "array([ 2.,  3.,  6.,  1.,  4.,  9.,  7.,  5.,  8., 11., 10., 12., 16.,\n",
       "       40., 15., 13., 18.])"
      ]
     },
     "execution_count": 63,
     "metadata": {},
     "output_type": "execute_result"
    }
   ],
   "source": [
    "new_data.bath.unique()"
   ]
  },
  {
   "cell_type": "code",
   "execution_count": 64,
   "id": "d77da2d7",
   "metadata": {},
   "outputs": [
    {
     "name": "stderr",
     "output_type": "stream",
     "text": [
      "C:\\Users\\DARSHIT\\AppData\\Local\\Temp\\ipykernel_11956\\4010065514.py:1: UserWarning: \n",
      "\n",
      "`distplot` is a deprecated function and will be removed in seaborn v0.14.0.\n",
      "\n",
      "Please adapt your code to use either `displot` (a figure-level function with\n",
      "similar flexibility) or `histplot` (an axes-level function for histograms).\n",
      "\n",
      "For a guide to updating your code to use the new functions, please see\n",
      "https://gist.github.com/mwaskom/de44147ed2974457ad6372750bbe5751\n",
      "\n",
      "  sns.distplot(new_data.bath)\n"
     ]
    },
    {
     "data": {
      "text/plain": [
       "<Axes: xlabel='bath', ylabel='Density'>"
      ]
     },
     "execution_count": 64,
     "metadata": {},
     "output_type": "execute_result"
    },
    {
     "data": {
      "image/png": "[encoded data removed]",
      "text/plain": [
       "<Figure size 640x480 with 1 Axes>"
      ]
     },
     "metadata": {},
     "output_type": "display_data"
    }
   ],
   "source": [
    "sns.distplot(new_data.bath)"
   ]
  },
  {
   "cell_type": "code",
   "execution_count": 65,
   "id": "af11eac6",
   "metadata": {},
   "outputs": [],
   "source": [
    "def fun2(x):\n",
    "\n",
    "    if x > 4:\n",
    "        return '5'\n",
    "    else:\n",
    "        return str(int(x))"
   ]
  },
  {
   "cell_type": "code",
   "execution_count": 66,
   "id": "9dfa7019",
   "metadata": {},
   "outputs": [
    {
     "name": "stderr",
     "output_type": "stream",
     "text": [
      "C:\\Users\\DARSHIT\\AppData\\Local\\Temp\\ipykernel_11956\\2422670145.py:1: SettingWithCopyWarning: \n",
      "A value is trying to be set on a copy of a slice from a DataFrame.\n",
      "Try using .loc[row_indexer,col_indexer] = value instead\n",
      "\n",
      "See the caveats in the documentation: https://pandas.pydata.org/pandas-docs/stable/user_guide/indexing.html#returning-a-view-versus-a-copy\n",
      "  new_data.bhk = new_data.bhk.apply(fun2)\n",
      "C:\\Users\\DARSHIT\\AppData\\Local\\Temp\\ipykernel_11956\\2422670145.py:2: SettingWithCopyWarning: \n",
      "A value is trying to be set on a copy of a slice from a DataFrame.\n",
      "Try using .loc[row_indexer,col_indexer] = value instead\n",
      "\n",
      "See the caveats in the documentation: https://pandas.pydata.org/pandas-docs/stable/user_guide/indexing.html#returning-a-view-versus-a-copy\n",
      "  new_data.bath = new_data.bath.apply(fun2)\n"
     ]
    }
   ],
   "source": [
    "new_data.bhk = new_data.bhk.apply(fun2)\n",
    "new_data.bath = new_data.bath.apply(fun2)"
   ]
  },
  {
   "cell_type": "code",
   "execution_count": 67,
   "id": "ef23ceaf",
   "metadata": {},
   "outputs": [
    {
     "name": "stdout",
     "output_type": "stream",
     "text": [
      "<class 'pandas.core.frame.DataFrame'>\n",
      "Index: 12127 entries, 0 to 13319\n",
      "Data columns (total 9 columns):\n",
      " #   Column          Non-Null Count  Dtype  \n",
      "---  ------          --------------  -----  \n",
      " 0   area_type       12127 non-null  object \n",
      " 1   location        12127 non-null  object \n",
      " 2   total_sqft      12127 non-null  float64\n",
      " 3   bath            12127 non-null  object \n",
      " 4   balcony         12127 non-null  float64\n",
      " 5   price           12127 non-null  float64\n",
      " 6   bhk             12127 non-null  object \n",
      " 7   price_per_sqft  12127 non-null  float64\n",
      " 8   sq_bhk          12127 non-null  float64\n",
      "dtypes: float64(5), object(4)\n",
      "memory usage: 947.4+ KB\n"
     ]
    }
   ],
   "source": [
    "new_data.info()"
   ]
  },
  {
   "cell_type": "code",
   "execution_count": 68,
   "id": "5ff5f350",
   "metadata": {},
   "outputs": [
    {
     "data": {
      "text/plain": [
       "bath\n",
       "2    6922\n",
       "3    3096\n",
       "4     777\n",
       "1     775\n",
       "5     557\n",
       "Name: count, dtype: int64"
      ]
     },
     "execution_count": 68,
     "metadata": {},
     "output_type": "execute_result"
    }
   ],
   "source": [
    "new_data.bath.value_counts()"
   ]
  },
  {
   "cell_type": "code",
   "execution_count": 69,
   "id": "85c3455b",
   "metadata": {},
   "outputs": [
    {
     "data": {
      "text/plain": [
       "bhk\n",
       "2    5526\n",
       "3    4633\n",
       "4     720\n",
       "1     644\n",
       "5     604\n",
       "Name: count, dtype: int64"
      ]
     },
     "execution_count": 69,
     "metadata": {},
     "output_type": "execute_result"
    }
   ],
   "source": [
    "new_data.bhk.value_counts()"
   ]
  },
  {
   "cell_type": "code",
   "execution_count": 70,
   "id": "acfa8476",
   "metadata": {},
   "outputs": [
    {
     "data": {
      "text/html": [
       "<div>\n",
       "<style scoped>\n",
       "    .dataframe tbody tr th:only-of-type {\n",
       "        vertical-align: middle;\n",
       "    }\n",
       "\n",
       "    .dataframe tbody tr th {\n",
       "        vertical-align: top;\n",
       "    }\n",
       "\n",
       "    .dataframe thead th {\n",
       "        text-align: right;\n",
       "    }\n",
       "</style>\n",
       "<table border=\"1\" class=\"dataframe\">\n",
       "  <thead>\n",
       "    <tr style=\"text-align: right;\">\n",
       "      <th></th>\n",
       "      <th>area_type</th>\n",
       "      <th>location</th>\n",
       "      <th>total_sqft</th>\n",
       "      <th>bath</th>\n",
       "      <th>balcony</th>\n",
       "      <th>price</th>\n",
       "      <th>bhk</th>\n",
       "      <th>price_per_sqft</th>\n",
       "      <th>sq_bhk</th>\n",
       "    </tr>\n",
       "  </thead>\n",
       "  <tbody>\n",
       "    <tr>\n",
       "      <th>0</th>\n",
       "      <td>Super built-up  Area</td>\n",
       "      <td>Electronic City Phase II</td>\n",
       "      <td>1056.0</td>\n",
       "      <td>2</td>\n",
       "      <td>1.0</td>\n",
       "      <td>39.07</td>\n",
       "      <td>2</td>\n",
       "      <td>3699.810606</td>\n",
       "      <td>528.0</td>\n",
       "    </tr>\n",
       "    <tr>\n",
       "      <th>2</th>\n",
       "      <td>Built-up  Area</td>\n",
       "      <td>Uttarahalli</td>\n",
       "      <td>1440.0</td>\n",
       "      <td>2</td>\n",
       "      <td>3.0</td>\n",
       "      <td>62.00</td>\n",
       "      <td>3</td>\n",
       "      <td>4305.555556</td>\n",
       "      <td>480.0</td>\n",
       "    </tr>\n",
       "    <tr>\n",
       "      <th>3</th>\n",
       "      <td>Super built-up  Area</td>\n",
       "      <td>Lingadheeranahalli</td>\n",
       "      <td>1521.0</td>\n",
       "      <td>3</td>\n",
       "      <td>1.0</td>\n",
       "      <td>95.00</td>\n",
       "      <td>3</td>\n",
       "      <td>6245.890861</td>\n",
       "      <td>507.0</td>\n",
       "    </tr>\n",
       "    <tr>\n",
       "      <th>4</th>\n",
       "      <td>Super built-up  Area</td>\n",
       "      <td>Kothanur</td>\n",
       "      <td>1200.0</td>\n",
       "      <td>2</td>\n",
       "      <td>1.0</td>\n",
       "      <td>51.00</td>\n",
       "      <td>2</td>\n",
       "      <td>4250.000000</td>\n",
       "      <td>600.0</td>\n",
       "    </tr>\n",
       "    <tr>\n",
       "      <th>5</th>\n",
       "      <td>Super built-up  Area</td>\n",
       "      <td>Whitefield</td>\n",
       "      <td>1170.0</td>\n",
       "      <td>2</td>\n",
       "      <td>1.0</td>\n",
       "      <td>38.00</td>\n",
       "      <td>2</td>\n",
       "      <td>3247.863248</td>\n",
       "      <td>585.0</td>\n",
       "    </tr>\n",
       "  </tbody>\n",
       "</table>\n",
       "</div>"
      ],
      "text/plain": [
       "              area_type                  location  total_sqft bath  balcony  \\\n",
       "0  Super built-up  Area  Electronic City Phase II      1056.0    2      1.0   \n",
       "2        Built-up  Area               Uttarahalli      1440.0    2      3.0   \n",
       "3  Super built-up  Area        Lingadheeranahalli      1521.0    3      1.0   \n",
       "4  Super built-up  Area                  Kothanur      1200.0    2      1.0   \n",
       "5  Super built-up  Area                Whitefield      1170.0    2      1.0   \n",
       "\n",
       "   price bhk  price_per_sqft  sq_bhk  \n",
       "0  39.07   2     3699.810606   528.0  \n",
       "2  62.00   3     4305.555556   480.0  \n",
       "3  95.00   3     6245.890861   507.0  \n",
       "4  51.00   2     4250.000000   600.0  \n",
       "5  38.00   2     3247.863248   585.0  "
      ]
     },
     "execution_count": 70,
     "metadata": {},
     "output_type": "execute_result"
    }
   ],
   "source": [
    "new_data.head()"
   ]
  },
  {
   "cell_type": "code",
   "execution_count": 71,
   "id": "7da10d88",
   "metadata": {},
   "outputs": [
    {
     "data": {
      "text/html": [
       "<div>\n",
       "<style scoped>\n",
       "    .dataframe tbody tr th:only-of-type {\n",
       "        vertical-align: middle;\n",
       "    }\n",
       "\n",
       "    .dataframe tbody tr th {\n",
       "        vertical-align: top;\n",
       "    }\n",
       "\n",
       "    .dataframe thead th {\n",
       "        text-align: right;\n",
       "    }\n",
       "</style>\n",
       "<table border=\"1\" class=\"dataframe\">\n",
       "  <thead>\n",
       "    <tr style=\"text-align: right;\">\n",
       "      <th></th>\n",
       "      <th>total_sqft</th>\n",
       "      <th>balcony</th>\n",
       "      <th>price</th>\n",
       "      <th>price_per_sqft</th>\n",
       "      <th>sq_bhk</th>\n",
       "    </tr>\n",
       "  </thead>\n",
       "  <tbody>\n",
       "    <tr>\n",
       "      <th>total_sqft</th>\n",
       "      <td>1.000000</td>\n",
       "      <td>0.247249</td>\n",
       "      <td>0.563539</td>\n",
       "      <td>0.112742</td>\n",
       "      <td>0.381249</td>\n",
       "    </tr>\n",
       "    <tr>\n",
       "      <th>balcony</th>\n",
       "      <td>0.247249</td>\n",
       "      <td>1.000000</td>\n",
       "      <td>0.074056</td>\n",
       "      <td>-0.014611</td>\n",
       "      <td>0.012964</td>\n",
       "    </tr>\n",
       "    <tr>\n",
       "      <th>price</th>\n",
       "      <td>0.563539</td>\n",
       "      <td>0.074056</td>\n",
       "      <td>1.000000</td>\n",
       "      <td>0.791946</td>\n",
       "      <td>0.022215</td>\n",
       "    </tr>\n",
       "    <tr>\n",
       "      <th>price_per_sqft</th>\n",
       "      <td>0.112742</td>\n",
       "      <td>-0.014611</td>\n",
       "      <td>0.791946</td>\n",
       "      <td>1.000000</td>\n",
       "      <td>-0.240404</td>\n",
       "    </tr>\n",
       "    <tr>\n",
       "      <th>sq_bhk</th>\n",
       "      <td>0.381249</td>\n",
       "      <td>0.012964</td>\n",
       "      <td>0.022215</td>\n",
       "      <td>-0.240404</td>\n",
       "      <td>1.000000</td>\n",
       "    </tr>\n",
       "  </tbody>\n",
       "</table>\n",
       "</div>"
      ],
      "text/plain": [
       "                total_sqft   balcony     price  price_per_sqft    sq_bhk\n",
       "total_sqft        1.000000  0.247249  0.563539        0.112742  0.381249\n",
       "balcony           0.247249  1.000000  0.074056       -0.014611  0.012964\n",
       "price             0.563539  0.074056  1.000000        0.791946  0.022215\n",
       "price_per_sqft    0.112742 -0.014611  0.791946        1.000000 -0.240404\n",
       "sq_bhk            0.381249  0.012964  0.022215       -0.240404  1.000000"
      ]
     },
     "execution_count": 71,
     "metadata": {},
     "output_type": "execute_result"
    }
   ],
   "source": [
    "new_data.corr(numeric_only=True)"
   ]
  },
  {
   "cell_type": "code",
   "execution_count": 72,
   "id": "17948547",
   "metadata": {},
   "outputs": [],
   "source": [
    "#new_data.drop(columns=['price_per_sqft'],axis=1,inplace=True)"
   ]
  },
  {
   "cell_type": "code",
   "execution_count": 73,
   "id": "fb4cba95",
   "metadata": {},
   "outputs": [
    {
     "data": {
      "text/html": [
       "<div>\n",
       "<style scoped>\n",
       "    .dataframe tbody tr th:only-of-type {\n",
       "        vertical-align: middle;\n",
       "    }\n",
       "\n",
       "    .dataframe tbody tr th {\n",
       "        vertical-align: top;\n",
       "    }\n",
       "\n",
       "    .dataframe thead th {\n",
       "        text-align: right;\n",
       "    }\n",
       "</style>\n",
       "<table border=\"1\" class=\"dataframe\">\n",
       "  <thead>\n",
       "    <tr style=\"text-align: right;\">\n",
       "      <th></th>\n",
       "      <th>area_type</th>\n",
       "      <th>location</th>\n",
       "      <th>total_sqft</th>\n",
       "      <th>bath</th>\n",
       "      <th>balcony</th>\n",
       "      <th>price</th>\n",
       "      <th>bhk</th>\n",
       "      <th>price_per_sqft</th>\n",
       "      <th>sq_bhk</th>\n",
       "    </tr>\n",
       "  </thead>\n",
       "  <tbody>\n",
       "    <tr>\n",
       "      <th>0</th>\n",
       "      <td>Super built-up  Area</td>\n",
       "      <td>Electronic City Phase II</td>\n",
       "      <td>1056.0</td>\n",
       "      <td>2</td>\n",
       "      <td>1.0</td>\n",
       "      <td>39.07</td>\n",
       "      <td>2</td>\n",
       "      <td>3699.810606</td>\n",
       "      <td>528.0</td>\n",
       "    </tr>\n",
       "    <tr>\n",
       "      <th>2</th>\n",
       "      <td>Built-up  Area</td>\n",
       "      <td>Uttarahalli</td>\n",
       "      <td>1440.0</td>\n",
       "      <td>2</td>\n",
       "      <td>3.0</td>\n",
       "      <td>62.00</td>\n",
       "      <td>3</td>\n",
       "      <td>4305.555556</td>\n",
       "      <td>480.0</td>\n",
       "    </tr>\n",
       "    <tr>\n",
       "      <th>3</th>\n",
       "      <td>Super built-up  Area</td>\n",
       "      <td>Lingadheeranahalli</td>\n",
       "      <td>1521.0</td>\n",
       "      <td>3</td>\n",
       "      <td>1.0</td>\n",
       "      <td>95.00</td>\n",
       "      <td>3</td>\n",
       "      <td>6245.890861</td>\n",
       "      <td>507.0</td>\n",
       "    </tr>\n",
       "    <tr>\n",
       "      <th>4</th>\n",
       "      <td>Super built-up  Area</td>\n",
       "      <td>Kothanur</td>\n",
       "      <td>1200.0</td>\n",
       "      <td>2</td>\n",
       "      <td>1.0</td>\n",
       "      <td>51.00</td>\n",
       "      <td>2</td>\n",
       "      <td>4250.000000</td>\n",
       "      <td>600.0</td>\n",
       "    </tr>\n",
       "    <tr>\n",
       "      <th>5</th>\n",
       "      <td>Super built-up  Area</td>\n",
       "      <td>Whitefield</td>\n",
       "      <td>1170.0</td>\n",
       "      <td>2</td>\n",
       "      <td>1.0</td>\n",
       "      <td>38.00</td>\n",
       "      <td>2</td>\n",
       "      <td>3247.863248</td>\n",
       "      <td>585.0</td>\n",
       "    </tr>\n",
       "  </tbody>\n",
       "</table>\n",
       "</div>"
      ],
      "text/plain": [
       "              area_type                  location  total_sqft bath  balcony  \\\n",
       "0  Super built-up  Area  Electronic City Phase II      1056.0    2      1.0   \n",
       "2        Built-up  Area               Uttarahalli      1440.0    2      3.0   \n",
       "3  Super built-up  Area        Lingadheeranahalli      1521.0    3      1.0   \n",
       "4  Super built-up  Area                  Kothanur      1200.0    2      1.0   \n",
       "5  Super built-up  Area                Whitefield      1170.0    2      1.0   \n",
       "\n",
       "   price bhk  price_per_sqft  sq_bhk  \n",
       "0  39.07   2     3699.810606   528.0  \n",
       "2  62.00   3     4305.555556   480.0  \n",
       "3  95.00   3     6245.890861   507.0  \n",
       "4  51.00   2     4250.000000   600.0  \n",
       "5  38.00   2     3247.863248   585.0  "
      ]
     },
     "execution_count": 73,
     "metadata": {},
     "output_type": "execute_result"
    }
   ],
   "source": [
    "new_data.head()"
   ]
  },
  {
   "cell_type": "code",
   "execution_count": 74,
   "id": "1a97f0b8",
   "metadata": {},
   "outputs": [
    {
     "data": {
      "text/html": [
       "<div>\n",
       "<style scoped>\n",
       "    .dataframe tbody tr th:only-of-type {\n",
       "        vertical-align: middle;\n",
       "    }\n",
       "\n",
       "    .dataframe tbody tr th {\n",
       "        vertical-align: top;\n",
       "    }\n",
       "\n",
       "    .dataframe thead th {\n",
       "        text-align: right;\n",
       "    }\n",
       "</style>\n",
       "<table border=\"1\" class=\"dataframe\">\n",
       "  <thead>\n",
       "    <tr style=\"text-align: right;\">\n",
       "      <th></th>\n",
       "      <th>total_sqft</th>\n",
       "      <th>balcony</th>\n",
       "      <th>price</th>\n",
       "      <th>price_per_sqft</th>\n",
       "      <th>sq_bhk</th>\n",
       "    </tr>\n",
       "  </thead>\n",
       "  <tbody>\n",
       "    <tr>\n",
       "      <th>total_sqft</th>\n",
       "      <td>1.000000</td>\n",
       "      <td>0.247249</td>\n",
       "      <td>0.563539</td>\n",
       "      <td>0.112742</td>\n",
       "      <td>0.381249</td>\n",
       "    </tr>\n",
       "    <tr>\n",
       "      <th>balcony</th>\n",
       "      <td>0.247249</td>\n",
       "      <td>1.000000</td>\n",
       "      <td>0.074056</td>\n",
       "      <td>-0.014611</td>\n",
       "      <td>0.012964</td>\n",
       "    </tr>\n",
       "    <tr>\n",
       "      <th>price</th>\n",
       "      <td>0.563539</td>\n",
       "      <td>0.074056</td>\n",
       "      <td>1.000000</td>\n",
       "      <td>0.791946</td>\n",
       "      <td>0.022215</td>\n",
       "    </tr>\n",
       "    <tr>\n",
       "      <th>price_per_sqft</th>\n",
       "      <td>0.112742</td>\n",
       "      <td>-0.014611</td>\n",
       "      <td>0.791946</td>\n",
       "      <td>1.000000</td>\n",
       "      <td>-0.240404</td>\n",
       "    </tr>\n",
       "    <tr>\n",
       "      <th>sq_bhk</th>\n",
       "      <td>0.381249</td>\n",
       "      <td>0.012964</td>\n",
       "      <td>0.022215</td>\n",
       "      <td>-0.240404</td>\n",
       "      <td>1.000000</td>\n",
       "    </tr>\n",
       "  </tbody>\n",
       "</table>\n",
       "</div>"
      ],
      "text/plain": [
       "                total_sqft   balcony     price  price_per_sqft    sq_bhk\n",
       "total_sqft        1.000000  0.247249  0.563539        0.112742  0.381249\n",
       "balcony           0.247249  1.000000  0.074056       -0.014611  0.012964\n",
       "price             0.563539  0.074056  1.000000        0.791946  0.022215\n",
       "price_per_sqft    0.112742 -0.014611  0.791946        1.000000 -0.240404\n",
       "sq_bhk            0.381249  0.012964  0.022215       -0.240404  1.000000"
      ]
     },
     "execution_count": 74,
     "metadata": {},
     "output_type": "execute_result"
    }
   ],
   "source": [
    "new_data.corr(numeric_only=True)"
   ]
  },
  {
   "cell_type": "code",
   "execution_count": 75,
   "id": "d8631675",
   "metadata": {},
   "outputs": [],
   "source": [
    "#new_data.drop(columns=['size'],axis=1,inplace=True)"
   ]
  },
  {
   "cell_type": "markdown",
   "id": "90411150",
   "metadata": {},
   "source": [
    "## Training Model"
   ]
  },
  {
   "cell_type": "code",
   "execution_count": 76,
   "id": "dcb3364e",
   "metadata": {},
   "outputs": [],
   "source": [
    "x = new_data.drop(['price'],axis=1)\n",
    "y = new_data['price']"
   ]
  },
  {
   "cell_type": "code",
   "execution_count": 77,
   "id": "8a87ada8",
   "metadata": {},
   "outputs": [],
   "source": [
    "x_train,x_text,y_train,y_test = train_test_split(x,y,test_size=0.2,random_state=34)"
   ]
  },
  {
   "cell_type": "code",
   "execution_count": 78,
   "id": "c3c80597",
   "metadata": {},
   "outputs": [
    {
     "data": {
      "text/html": [
       "<div>\n",
       "<style scoped>\n",
       "    .dataframe tbody tr th:only-of-type {\n",
       "        vertical-align: middle;\n",
       "    }\n",
       "\n",
       "    .dataframe tbody tr th {\n",
       "        vertical-align: top;\n",
       "    }\n",
       "\n",
       "    .dataframe thead th {\n",
       "        text-align: right;\n",
       "    }\n",
       "</style>\n",
       "<table border=\"1\" class=\"dataframe\">\n",
       "  <thead>\n",
       "    <tr style=\"text-align: right;\">\n",
       "      <th></th>\n",
       "      <th>area_type</th>\n",
       "      <th>location</th>\n",
       "      <th>total_sqft</th>\n",
       "      <th>bath</th>\n",
       "      <th>balcony</th>\n",
       "      <th>bhk</th>\n",
       "      <th>price_per_sqft</th>\n",
       "      <th>sq_bhk</th>\n",
       "    </tr>\n",
       "  </thead>\n",
       "  <tbody>\n",
       "    <tr>\n",
       "      <th>222</th>\n",
       "      <td>Built-up  Area</td>\n",
       "      <td>other</td>\n",
       "      <td>2000.0</td>\n",
       "      <td>4</td>\n",
       "      <td>1.0</td>\n",
       "      <td>4</td>\n",
       "      <td>3775.000000</td>\n",
       "      <td>500.000000</td>\n",
       "    </tr>\n",
       "    <tr>\n",
       "      <th>197</th>\n",
       "      <td>Built-up  Area</td>\n",
       "      <td>other</td>\n",
       "      <td>1783.0</td>\n",
       "      <td>3</td>\n",
       "      <td>1.0</td>\n",
       "      <td>3</td>\n",
       "      <td>6449.803702</td>\n",
       "      <td>594.333333</td>\n",
       "    </tr>\n",
       "    <tr>\n",
       "      <th>10799</th>\n",
       "      <td>Plot  Area</td>\n",
       "      <td>other</td>\n",
       "      <td>1050.0</td>\n",
       "      <td>5</td>\n",
       "      <td>1.0</td>\n",
       "      <td>4</td>\n",
       "      <td>7047.619048</td>\n",
       "      <td>262.500000</td>\n",
       "    </tr>\n",
       "    <tr>\n",
       "      <th>7999</th>\n",
       "      <td>Plot  Area</td>\n",
       "      <td>other</td>\n",
       "      <td>1200.0</td>\n",
       "      <td>3</td>\n",
       "      <td>2.0</td>\n",
       "      <td>5</td>\n",
       "      <td>15000.000000</td>\n",
       "      <td>240.000000</td>\n",
       "    </tr>\n",
       "    <tr>\n",
       "      <th>5059</th>\n",
       "      <td>Super built-up  Area</td>\n",
       "      <td>Electronic City</td>\n",
       "      <td>660.0</td>\n",
       "      <td>1</td>\n",
       "      <td>1.0</td>\n",
       "      <td>2</td>\n",
       "      <td>2424.242424</td>\n",
       "      <td>330.000000</td>\n",
       "    </tr>\n",
       "  </tbody>\n",
       "</table>\n",
       "</div>"
      ],
      "text/plain": [
       "                  area_type         location  total_sqft bath  balcony bhk  \\\n",
       "222          Built-up  Area            other      2000.0    4      1.0   4   \n",
       "197          Built-up  Area            other      1783.0    3      1.0   3   \n",
       "10799            Plot  Area            other      1050.0    5      1.0   4   \n",
       "7999             Plot  Area            other      1200.0    3      2.0   5   \n",
       "5059   Super built-up  Area  Electronic City       660.0    1      1.0   2   \n",
       "\n",
       "       price_per_sqft      sq_bhk  \n",
       "222       3775.000000  500.000000  \n",
       "197       6449.803702  594.333333  \n",
       "10799     7047.619048  262.500000  \n",
       "7999     15000.000000  240.000000  \n",
       "5059      2424.242424  330.000000  "
      ]
     },
     "execution_count": 78,
     "metadata": {},
     "output_type": "execute_result"
    }
   ],
   "source": [
    "x_train.head()"
   ]
  },
  {
   "cell_type": "code",
   "execution_count": 79,
   "id": "b5ee36a2",
   "metadata": {},
   "outputs": [],
   "source": [
    "ct1 = ColumnTransformer([\n",
    "    ('t1',OrdinalEncoder(),['bath','bhk','balcony']),\n",
    "    ('t2',OneHotEncoder(sparse=False,drop='first',handle_unknown='ignore'),['area_type','location'])\n",
    "],remainder='passthrough')"
   ]
  },
  {
   "cell_type": "code",
   "execution_count": 80,
   "id": "ca7aed94",
   "metadata": {},
   "outputs": [
    {
     "name": "stderr",
     "output_type": "stream",
     "text": [
      "C:\\Users\\DARSHIT\\AppData\\Roaming\\Python\\Python311\\site-packages\\sklearn\\preprocessing\\_encoders.py:868: FutureWarning: `sparse` was renamed to `sparse_output` in version 1.2 and will be removed in 1.4. `sparse_output` is ignored unless you leave `sparse` to its default value.\n",
      "  warnings.warn(\n"
     ]
    },
    {
     "data": {
      "text/plain": [
       "(9701, 249)"
      ]
     },
     "execution_count": 80,
     "metadata": {},
     "output_type": "execute_result"
    }
   ],
   "source": [
    "ct1.fit_transform(x_train).shape"
   ]
  },
  {
   "cell_type": "code",
   "execution_count": 81,
   "id": "3eab50ec",
   "metadata": {},
   "outputs": [],
   "source": [
    "pipe = Pipeline([\n",
    "    ('p1',ct1),\n",
    "    ('scaler',StandardScaler()),\n",
    "    ('lg',RandomForestRegressor())\n",
    "])"
   ]
  },
  {
   "cell_type": "code",
   "execution_count": 82,
   "id": "8e36fe3f",
   "metadata": {},
   "outputs": [
    {
     "name": "stderr",
     "output_type": "stream",
     "text": [
      "C:\\Users\\DARSHIT\\AppData\\Roaming\\Python\\Python311\\site-packages\\sklearn\\preprocessing\\_encoders.py:868: FutureWarning: `sparse` was renamed to `sparse_output` in version 1.2 and will be removed in 1.4. `sparse_output` is ignored unless you leave `sparse` to its default value.\n",
      "  warnings.warn(\n"
     ]
    },
    {
     "data": {
      "text/html": [
       "<style>#sk-container-id-1 {color: black;background-color: white;}#sk-container-id-1 pre{padding: 0;}#sk-container-id-1 div.sk-toggleable {background-color: white;}#sk-container-id-1 label.sk-toggleable__label {cursor: pointer;display: block;width: 100%;margin-bottom: 0;padding: 0.3em;box-sizing: border-box;text-align: center;}#sk-container-id-1 label.sk-toggleable__label-arrow:before {content: \"▸\";float: left;margin-right: 0.25em;color: #696969;}#sk-container-id-1 label.sk-toggleable__label-arrow:hover:before {color: black;}#sk-container-id-1 div.sk-estimator:hover label.sk-toggleable__label-arrow:before {color: black;}#sk-container-id-1 div.sk-toggleable__content {max-height: 0;max-width: 0;overflow: hidden;text-align: left;background-color: #f0f8ff;}#sk-container-id-1 div.sk-toggleable__content pre {margin: 0.2em;color: black;border-radius: 0.25em;background-color: #f0f8ff;}#sk-container-id-1 input.sk-toggleable__control:checked~div.sk-toggleable__content {max-height: 200px;max-width: 100%;overflow: auto;}#sk-container-id-1 input.sk-toggleable__control:checked~label.sk-toggleable__label-arrow:before {content: \"▾\";}#sk-container-id-1 div.sk-estimator input.sk-toggleable__control:checked~label.sk-toggleable__label {background-color: #d4ebff;}#sk-container-id-1 div.sk-label input.sk-toggleable__control:checked~label.sk-toggleable__label {background-color: #d4ebff;}#sk-container-id-1 input.sk-hidden--visually {border: 0;clip: rect(1px 1px 1px 1px);clip: rect(1px, 1px, 1px, 1px);height: 1px;margin: -1px;overflow: hidden;padding: 0;position: absolute;width: 1px;}#sk-container-id-1 div.sk-estimator {font-family: monospace;background-color: #f0f8ff;border: 1px dotted black;border-radius: 0.25em;box-sizing: border-box;margin-bottom: 0.5em;}#sk-container-id-1 div.sk-estimator:hover {background-color: #d4ebff;}#sk-container-id-1 div.sk-parallel-item::after {content: \"\";width: 100%;border-bottom: 1px solid gray;flex-grow: 1;}#sk-container-id-1 div.sk-label:hover label.sk-toggleable__label {background-color: #d4ebff;}#sk-container-id-1 div.sk-serial::before {content: \"\";position: absolute;border-left: 1px solid gray;box-sizing: border-box;top: 0;bottom: 0;left: 50%;z-index: 0;}#sk-container-id-1 div.sk-serial {display: flex;flex-direction: column;align-items: center;background-color: white;padding-right: 0.2em;padding-left: 0.2em;position: relative;}#sk-container-id-1 div.sk-item {position: relative;z-index: 1;}#sk-container-id-1 div.sk-parallel {display: flex;align-items: stretch;justify-content: center;background-color: white;position: relative;}#sk-container-id-1 div.sk-item::before, #sk-container-id-1 div.sk-parallel-item::before {content: \"\";position: absolute;border-left: 1px solid gray;box-sizing: border-box;top: 0;bottom: 0;left: 50%;z-index: -1;}#sk-container-id-1 div.sk-parallel-item {display: flex;flex-direction: column;z-index: 1;position: relative;background-color: white;}#sk-container-id-1 div.sk-parallel-item:first-child::after {align-self: flex-end;width: 50%;}#sk-container-id-1 div.sk-parallel-item:last-child::after {align-self: flex-start;width: 50%;}#sk-container-id-1 div.sk-parallel-item:only-child::after {width: 0;}#sk-container-id-1 div.sk-dashed-wrapped {border: 1px dashed gray;margin: 0 0.4em 0.5em 0.4em;box-sizing: border-box;padding-bottom: 0.4em;background-color: white;}#sk-container-id-1 div.sk-label label {font-family: monospace;font-weight: bold;display: inline-block;line-height: 1.2em;}#sk-container-id-1 div.sk-label-container {text-align: center;}#sk-container-id-1 div.sk-container {/* jupyter's `normalize.less` sets `[hidden] { display: none; }` but bootstrap.min.css set `[hidden] { display: none !important; }` so we also need the `!important` here to be able to override the default hidden behavior on the sphinx rendered scikit-learn.org. See: https://github.com/scikit-learn/scikit-learn/issues/21755 */display: inline-block !important;position: relative;}#sk-container-id-1 div.sk-text-repr-fallback {display: none;}</style><div id=\"sk-container-id-1\" class=\"sk-top-container\"><div class=\"sk-text-repr-fallback\"><pre>Pipeline(steps=[(&#x27;p1&#x27;,\n",
       "                 ColumnTransformer(remainder=&#x27;passthrough&#x27;,\n",
       "                                   transformers=[(&#x27;t1&#x27;, OrdinalEncoder(),\n",
       "                                                  [&#x27;bath&#x27;, &#x27;bhk&#x27;, &#x27;balcony&#x27;]),\n",
       "                                                 (&#x27;t2&#x27;,\n",
       "                                                  OneHotEncoder(drop=&#x27;first&#x27;,\n",
       "                                                                handle_unknown=&#x27;ignore&#x27;,\n",
       "                                                                sparse=False),\n",
       "                                                  [&#x27;area_type&#x27;, &#x27;location&#x27;])])),\n",
       "                (&#x27;scaler&#x27;, StandardScaler()), (&#x27;lg&#x27;, RandomForestRegressor())])</pre><b>In a Jupyter environment, please rerun this cell to show the HTML representation or trust the notebook. <br />On GitHub, the HTML representation is unable to render, please try loading this page with nbviewer.org.</b></div><div class=\"sk-container\" hidden><div class=\"sk-item sk-dashed-wrapped\"><div class=\"sk-label-container\"><div class=\"sk-label sk-toggleable\"><input class=\"sk-toggleable__control sk-hidden--visually\" id=\"sk-estimator-id-1\" type=\"checkbox\" ><label for=\"sk-estimator-id-1\" class=\"sk-toggleable__label sk-toggleable__label-arrow\">Pipeline</label><div class=\"sk-toggleable__content\"><pre>Pipeline(steps=[(&#x27;p1&#x27;,\n",
       "                 ColumnTransformer(remainder=&#x27;passthrough&#x27;,\n",
       "                                   transformers=[(&#x27;t1&#x27;, OrdinalEncoder(),\n",
       "                                                  [&#x27;bath&#x27;, &#x27;bhk&#x27;, &#x27;balcony&#x27;]),\n",
       "                                                 (&#x27;t2&#x27;,\n",
       "                                                  OneHotEncoder(drop=&#x27;first&#x27;,\n",
       "                                                                handle_unknown=&#x27;ignore&#x27;,\n",
       "                                                                sparse=False),\n",
       "                                                  [&#x27;area_type&#x27;, &#x27;location&#x27;])])),\n",
       "                (&#x27;scaler&#x27;, StandardScaler()), (&#x27;lg&#x27;, RandomForestRegressor())])</pre></div></div></div><div class=\"sk-serial\"><div class=\"sk-item sk-dashed-wrapped\"><div class=\"sk-label-container\"><div class=\"sk-label sk-toggleable\"><input class=\"sk-toggleable__control sk-hidden--visually\" id=\"sk-estimator-id-2\" type=\"checkbox\" ><label for=\"sk-estimator-id-2\" class=\"sk-toggleable__label sk-toggleable__label-arrow\">p1: ColumnTransformer</label><div class=\"sk-toggleable__content\"><pre>ColumnTransformer(remainder=&#x27;passthrough&#x27;,\n",
       "                  transformers=[(&#x27;t1&#x27;, OrdinalEncoder(),\n",
       "                                 [&#x27;bath&#x27;, &#x27;bhk&#x27;, &#x27;balcony&#x27;]),\n",
       "                                (&#x27;t2&#x27;,\n",
       "                                 OneHotEncoder(drop=&#x27;first&#x27;,\n",
       "                                               handle_unknown=&#x27;ignore&#x27;,\n",
       "                                               sparse=False),\n",
       "                                 [&#x27;area_type&#x27;, &#x27;location&#x27;])])</pre></div></div></div><div class=\"sk-parallel\"><div class=\"sk-parallel-item\"><div class=\"sk-item\"><div class=\"sk-label-container\"><div class=\"sk-label sk-toggleable\"><input class=\"sk-toggleable__control sk-hidden--visually\" id=\"sk-estimator-id-3\" type=\"checkbox\" ><label for=\"sk-estimator-id-3\" class=\"sk-toggleable__label sk-toggleable__label-arrow\">t1</label><div class=\"sk-toggleable__content\"><pre>[&#x27;bath&#x27;, &#x27;bhk&#x27;, &#x27;balcony&#x27;]</pre></div></div></div><div class=\"sk-serial\"><div class=\"sk-item\"><div class=\"sk-estimator sk-toggleable\"><input class=\"sk-toggleable__control sk-hidden--visually\" id=\"sk-estimator-id-4\" type=\"checkbox\" ><label for=\"sk-estimator-id-4\" class=\"sk-toggleable__label sk-toggleable__label-arrow\">OrdinalEncoder</label><div class=\"sk-toggleable__content\"><pre>OrdinalEncoder()</pre></div></div></div></div></div></div><div class=\"sk-parallel-item\"><div class=\"sk-item\"><div class=\"sk-label-container\"><div class=\"sk-label sk-toggleable\"><input class=\"sk-toggleable__control sk-hidden--visually\" id=\"sk-estimator-id-5\" type=\"checkbox\" ><label for=\"sk-estimator-id-5\" class=\"sk-toggleable__label sk-toggleable__label-arrow\">t2</label><div class=\"sk-toggleable__content\"><pre>[&#x27;area_type&#x27;, &#x27;location&#x27;]</pre></div></div></div><div class=\"sk-serial\"><div class=\"sk-item\"><div class=\"sk-estimator sk-toggleable\"><input class=\"sk-toggleable__control sk-hidden--visually\" id=\"sk-estimator-id-6\" type=\"checkbox\" ><label for=\"sk-estimator-id-6\" class=\"sk-toggleable__label sk-toggleable__label-arrow\">OneHotEncoder</label><div class=\"sk-toggleable__content\"><pre>OneHotEncoder(drop=&#x27;first&#x27;, handle_unknown=&#x27;ignore&#x27;, sparse=False)</pre></div></div></div></div></div></div><div class=\"sk-parallel-item\"><div class=\"sk-item\"><div class=\"sk-label-container\"><div class=\"sk-label sk-toggleable\"><input class=\"sk-toggleable__control sk-hidden--visually\" id=\"sk-estimator-id-7\" type=\"checkbox\" ><label for=\"sk-estimator-id-7\" class=\"sk-toggleable__label sk-toggleable__label-arrow\">remainder</label><div class=\"sk-toggleable__content\"><pre>[&#x27;total_sqft&#x27;, &#x27;price_per_sqft&#x27;, &#x27;sq_bhk&#x27;]</pre></div></div></div><div class=\"sk-serial\"><div class=\"sk-item\"><div class=\"sk-estimator sk-toggleable\"><input class=\"sk-toggleable__control sk-hidden--visually\" id=\"sk-estimator-id-8\" type=\"checkbox\" ><label for=\"sk-estimator-id-8\" class=\"sk-toggleable__label sk-toggleable__label-arrow\">passthrough</label><div class=\"sk-toggleable__content\"><pre>passthrough</pre></div></div></div></div></div></div></div></div><div class=\"sk-item\"><div class=\"sk-estimator sk-toggleable\"><input class=\"sk-toggleable__control sk-hidden--visually\" id=\"sk-estimator-id-9\" type=\"checkbox\" ><label for=\"sk-estimator-id-9\" class=\"sk-toggleable__label sk-toggleable__label-arrow\">StandardScaler</label><div class=\"sk-toggleable__content\"><pre>StandardScaler()</pre></div></div></div><div class=\"sk-item\"><div class=\"sk-estimator sk-toggleable\"><input class=\"sk-toggleable__control sk-hidden--visually\" id=\"sk-estimator-id-10\" type=\"checkbox\" ><label for=\"sk-estimator-id-10\" class=\"sk-toggleable__label sk-toggleable__label-arrow\">RandomForestRegressor</label><div class=\"sk-toggleable__content\"><pre>RandomForestRegressor()</pre></div></div></div></div></div></div></div>"
      ],
      "text/plain": [
       "Pipeline(steps=[('p1',\n",
       "                 ColumnTransformer(remainder='passthrough',\n",
       "                                   transformers=[('t1', OrdinalEncoder(),\n",
       "                                                  ['bath', 'bhk', 'balcony']),\n",
       "                                                 ('t2',\n",
       "                                                  OneHotEncoder(drop='first',\n",
       "                                                                handle_unknown='ignore',\n",
       "                                                                sparse=False),\n",
       "                                                  ['area_type', 'location'])])),\n",
       "                ('scaler', StandardScaler()), ('lg', RandomForestRegressor())])"
      ]
     },
     "execution_count": 82,
     "metadata": {},
     "output_type": "execute_result"
    }
   ],
   "source": [
    "pipe.fit(x_train,y_train)"
   ]
  },
  {
   "cell_type": "code",
   "execution_count": 83,
   "id": "e483640b",
   "metadata": {},
   "outputs": [
    {
     "name": "stderr",
     "output_type": "stream",
     "text": [
      "C:\\Users\\DARSHIT\\AppData\\Roaming\\Python\\Python311\\site-packages\\sklearn\\preprocessing\\_encoders.py:202: UserWarning: Found unknown categories in columns [1] during transform. These unknown categories will be encoded as all zeros\n",
      "  warnings.warn(\n"
     ]
    }
   ],
   "source": [
    "y_pred = pipe.predict(x_text)"
   ]
  },
  {
   "cell_type": "code",
   "execution_count": 84,
   "id": "4d911c36",
   "metadata": {},
   "outputs": [
    {
     "data": {
      "text/plain": [
       "0.9920139020045521"
      ]
     },
     "execution_count": 84,
     "metadata": {},
     "output_type": "execute_result"
    }
   ],
   "source": [
    "r2_score(y_test,y_pred)"
   ]
  },
  {
   "cell_type": "code",
   "execution_count": 85,
   "id": "8bf55354",
   "metadata": {},
   "outputs": [
    {
     "name": "stderr",
     "output_type": "stream",
     "text": [
      "C:\\Users\\DARSHIT\\AppData\\Roaming\\Python\\Python311\\site-packages\\sklearn\\preprocessing\\_encoders.py:868: FutureWarning: `sparse` was renamed to `sparse_output` in version 1.2 and will be removed in 1.4. `sparse_output` is ignored unless you leave `sparse` to its default value.\n",
      "  warnings.warn(\n",
      "C:\\Users\\DARSHIT\\AppData\\Roaming\\Python\\Python311\\site-packages\\sklearn\\preprocessing\\_encoders.py:868: FutureWarning: `sparse` was renamed to `sparse_output` in version 1.2 and will be removed in 1.4. `sparse_output` is ignored unless you leave `sparse` to its default value.\n",
      "  warnings.warn(\n",
      "C:\\Users\\DARSHIT\\AppData\\Roaming\\Python\\Python311\\site-packages\\sklearn\\preprocessing\\_encoders.py:868: FutureWarning: `sparse` was renamed to `sparse_output` in version 1.2 and will be removed in 1.4. `sparse_output` is ignored unless you leave `sparse` to its default value.\n",
      "  warnings.warn(\n",
      "C:\\Users\\DARSHIT\\AppData\\Roaming\\Python\\Python311\\site-packages\\sklearn\\preprocessing\\_encoders.py:868: FutureWarning: `sparse` was renamed to `sparse_output` in version 1.2 and will be removed in 1.4. `sparse_output` is ignored unless you leave `sparse` to its default value.\n",
      "  warnings.warn(\n",
      "C:\\Users\\DARSHIT\\AppData\\Roaming\\Python\\Python311\\site-packages\\sklearn\\preprocessing\\_encoders.py:868: FutureWarning: `sparse` was renamed to `sparse_output` in version 1.2 and will be removed in 1.4. `sparse_output` is ignored unless you leave `sparse` to its default value.\n",
      "  warnings.warn(\n"
     ]
    }
   ],
   "source": [
    "cv = cross_val_score(pipe,x_train,y_train,cv=5,scoring='r2')"
   ]
  },
  {
   "cell_type": "code",
   "execution_count": 86,
   "id": "6324cc7d",
   "metadata": {},
   "outputs": [
    {
     "data": {
      "text/plain": [
       "0.9886714502664024"
      ]
     },
     "execution_count": 86,
     "metadata": {},
     "output_type": "execute_result"
    }
   ],
   "source": [
    "np.mean(cv)"
   ]
  },
  {
   "cell_type": "code",
   "execution_count": 88,
   "id": "02f5254f",
   "metadata": {},
   "outputs": [
    {
     "data": {
      "text/plain": [
       "35.398154215364805"
      ]
     },
     "execution_count": 88,
     "metadata": {},
     "output_type": "execute_result"
    }
   ],
   "source": [
    "mean_squared_error(y_test,y_pred)"
   ]
  },
  {
   "cell_type": "code",
   "execution_count": 89,
   "id": "cb2d1611",
   "metadata": {},
   "outputs": [
    {
     "data": {
      "text/plain": [
       "0.837177122835945"
      ]
     },
     "execution_count": 89,
     "metadata": {},
     "output_type": "execute_result"
    }
   ],
   "source": [
    "mean_absolute_error(y_test,y_pred)"
   ]
  },
  {
   "cell_type": "code",
   "execution_count": 90,
   "id": "a1c4cbd7",
   "metadata": {},
   "outputs": [
    {
     "data": {
      "text/plain": [
       "0.009098971317695138"
      ]
     },
     "execution_count": 90,
     "metadata": {},
     "output_type": "execute_result"
    }
   ],
   "source": [
    "mean_absolute_percentage_error(y_test,y_pred)"
   ]
  },
  {
   "cell_type": "code",
   "execution_count": null,
   "id": "a99f157e",
   "metadata": {},
   "outputs": [],
   "source": []
  }
 ],
 "metadata": {
  "kernelspec": {
   "display_name": "Python 3 (ipykernel)",
   "language": "python",
   "name": "python3"
  },
  "language_info": {
   "codemirror_mode": {
    "name": "ipython",
    "version": 3
   },
   "file_extension": ".py",
   "mimetype": "text/x-python",
   "name": "python",
   "nbconvert_exporter": "python",
   "pygments_lexer": "ipython3",
   "version": "3.11.4"
  }
 },
 "nbformat": 4,
 "nbformat_minor": 5
}
